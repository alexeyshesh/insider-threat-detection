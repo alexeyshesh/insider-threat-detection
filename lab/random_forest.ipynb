{
 "cells": [
  {
   "cell_type": "code",
   "execution_count": 1,
   "metadata": {},
   "outputs": [
    {
     "name": "stderr",
     "output_type": "stream",
     "text": [
      "/tmp/ipykernel_4402/3511882541.py:3: DtypeWarning: Columns (3,4,9,10,13,14,15,16) have mixed types. Specify dtype option on import or set low_memory=False.\n",
      "  train_df = pd.read_csv('../datasets/r3.2.csv')\n",
      "/tmp/ipykernel_4402/3511882541.py:4: DtypeWarning: Columns (3,4,9,10,13,14,15,16) have mixed types. Specify dtype option on import or set low_memory=False.\n",
      "  test_df = pd.read_csv('../datasets/r3.1.csv')\n"
     ]
    }
   ],
   "source": [
    "import pandas as pd\n",
    "\n",
    "train_df = pd.read_csv('../datasets/r3.2.csv')\n",
    "test_df = pd.read_csv('../datasets/r3.1.csv')"
   ]
  },
  {
   "cell_type": "code",
   "execution_count": 2,
   "metadata": {},
   "outputs": [],
   "source": [
    "def drop_and_split(df: pd.DataFrame) -> tuple[pd.DataFrame, pd.DataFrame]:\n",
    "    X = (\n",
    "        df\n",
    "        .drop('date', axis=1)\n",
    "        .drop('filename', axis=1)\n",
    "        .drop('content', axis=1)\n",
    "        .drop('activity', axis=1)\n",
    "        .drop('pc', axis=1)\n",
    "        .drop('user', axis=1)\n",
    "        .drop('id', axis=1)\n",
    "        .drop('target', axis=1)\n",
    "    )\n",
    "    y = df['target']\n",
    "    return X, y\n",
    "\n",
    "\n",
    "X_train, y_train = drop_and_split(train_df)\n",
    "X_test, y_test = drop_and_split(test_df)"
   ]
  },
  {
   "cell_type": "code",
   "execution_count": 3,
   "metadata": {},
   "outputs": [],
   "source": [
    "import numpy as np\n",
    "from sklearn.preprocessing import StandardScaler\n",
    "ss = StandardScaler()\n",
    "\n",
    "# X_train_scaled = ss.fit_transform(X_train)\n",
    "# X_test_scaled = ss.transform(X_test)\n",
    "y_train = np.array(y_train)"
   ]
  },
  {
   "cell_type": "code",
   "execution_count": 7,
   "metadata": {},
   "outputs": [
    {
     "data": {
      "text/plain": [
       "0.9999887442625359"
      ]
     },
     "metadata": {},
     "output_type": "display_data"
    }
   ],
   "source": [
    "from sklearn.ensemble import RandomForestClassifier, HistGradientBoostingClassifier\n",
    "from sklearn.svm import SVC\n",
    "from sklearn.metrics import recall_score\n",
    "\n",
    "rfc = RandomForestClassifier()\n",
    "rfc.fit(X_train, y_train)\n",
    "display(rfc.score(X_train, y_train))"
   ]
  },
  {
   "cell_type": "code",
   "execution_count": 8,
   "metadata": {},
   "outputs": [],
   "source": [
    "y_pred = rfc.predict(X_test)"
   ]
  },
  {
   "cell_type": "code",
   "execution_count": 9,
   "metadata": {},
   "outputs": [
    {
     "name": "stderr",
     "output_type": "stream",
     "text": [
      "/home/alexeyshesh/insider-threat-detection/.venv/lib/python3.12/site-packages/sklearn/metrics/_classification.py:1509: UndefinedMetricWarning: Precision is ill-defined and being set to 0.0 in labels with no predicted samples. Use `zero_division` parameter to control this behavior.\n",
      "  _warn_prf(average, modifier, f\"{metric.capitalize()} is\", len(result))\n",
      "/home/alexeyshesh/insider-threat-detection/.venv/lib/python3.12/site-packages/sklearn/metrics/_classification.py:1509: UndefinedMetricWarning: Precision is ill-defined and being set to 0.0 in labels with no predicted samples. Use `zero_division` parameter to control this behavior.\n",
      "  _warn_prf(average, modifier, f\"{metric.capitalize()} is\", len(result))\n",
      "/home/alexeyshesh/insider-threat-detection/.venv/lib/python3.12/site-packages/sklearn/metrics/_classification.py:1509: UndefinedMetricWarning: Precision is ill-defined and being set to 0.0 in labels with no predicted samples. Use `zero_division` parameter to control this behavior.\n",
      "  _warn_prf(average, modifier, f\"{metric.capitalize()} is\", len(result))\n"
     ]
    },
    {
     "name": "stdout",
     "output_type": "stream",
     "text": [
      "              precision    recall  f1-score   support\n",
      "\n",
      "       False       1.00      1.00      1.00   1717004\n",
      "        True       0.00      0.00      0.00       213\n",
      "\n",
      "    accuracy                           1.00   1717217\n",
      "   macro avg       0.50      0.50      0.50   1717217\n",
      "weighted avg       1.00      1.00      1.00   1717217\n",
      "\n",
      "0.0\n"
     ]
    }
   ],
   "source": [
    "from sklearn.metrics import classification_report, f1_score, accuracy_score\n",
    "\n",
    "print(classification_report(y_test, y_pred))\n",
    "print(f1_score(y_test, y_pred))"
   ]
  },
  {
   "cell_type": "code",
   "execution_count": 4,
   "metadata": {},
   "outputs": [],
   "source": [
    "import requests"
   ]
  },
  {
   "cell_type": "code",
   "execution_count": 9,
   "metadata": {},
   "outputs": [
    {
     "name": "stderr",
     "output_type": "stream",
     "text": [
      "100%|██████████| 5.02G/5.02G [02:20<00:00, 35.6MB/s] \n"
     ]
    }
   ],
   "source": [
    "# requests.get('https://kilthub.cmu.edu/ndownloader/files/24849308').json()\n",
    "\n",
    "from tqdm import tqdm\n",
    "import requests\n",
    "url = \"https://kilthub.cmu.edu/ndownloader/files/24855644\"\n",
    "filepath = \"../data/r4.1.tar.bz2\"\n",
    "# Streaming, so we can iterate over the response.\n",
    "response = requests.get(url, stream=True)\n",
    "# Sizes in bytes.\n",
    "total_size = int(response.headers.get(\"content-length\", 0))\n",
    "block_size = 1024\n",
    "with tqdm(total=total_size, unit=\"B\", unit_scale=True) as progress_bar:\n",
    "    with open(filepath, \"wb\") as file:\n",
    "        for data in response.iter_content(block_size):\n",
    "            progress_bar.update(len(data))\n",
    "            file.write(data)\n",
    "if total_size != 0 and progress_bar.n != total_size:\n",
    "    raise RuntimeError(\"Could not download file\")"
   ]
  },
  {
   "cell_type": "code",
   "execution_count": 10,
   "metadata": {},
   "outputs": [
    {
     "name": "stderr",
     "output_type": "stream",
     "text": [
      "100%|██████████| 4.82G/4.82G [02:06<00:00, 38.2MB/s] \n"
     ]
    }
   ],
   "source": [
    "from tqdm import tqdm\n",
    "import requests\n",
    "url = \"https://kilthub.cmu.edu/ndownloader/files/24856766\"\n",
    "filepath = \"../data/r4.2.tar.bz2\"\n",
    "# Streaming, so we can iterate over the response.\n",
    "response = requests.get(url, stream=True)\n",
    "# Sizes in bytes.\n",
    "total_size = int(response.headers.get(\"content-length\", 0))\n",
    "block_size = 1024\n",
    "with tqdm(total=total_size, unit=\"B\", unit_scale=True) as progress_bar:\n",
    "    with open(filepath, \"wb\") as file:\n",
    "        for data in response.iter_content(block_size):\n",
    "            progress_bar.update(len(data))\n",
    "            file.write(data)\n",
    "if total_size != 0 and progress_bar.n != total_size:\n",
    "    raise RuntimeError(\"Could not download file\")"
   ]
  },
  {
   "cell_type": "code",
   "execution_count": null,
   "metadata": {},
   "outputs": [],
   "source": []
  }
 ],
 "metadata": {
  "kernelspec": {
   "display_name": ".venv",
   "language": "python",
   "name": "python3"
  },
  "language_info": {
   "codemirror_mode": {
    "name": "ipython",
    "version": 3
   },
   "file_extension": ".py",
   "mimetype": "text/x-python",
   "name": "python",
   "nbconvert_exporter": "python",
   "pygments_lexer": "ipython3",
   "version": "3.12.2"
  }
 },
 "nbformat": 4,
 "nbformat_minor": 2
}
