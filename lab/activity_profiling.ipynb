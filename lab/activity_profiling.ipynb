{
 "cells": [
  {
   "cell_type": "code",
   "execution_count": 1,
   "metadata": {},
   "outputs": [],
   "source": [
    "# Command to make `src` module available in notebook\n",
    "# Details: https://stackoverflow.com/a/35273613\n",
    "\n",
    "import os\n",
    "import sys\n",
    "module_path = os.path.abspath(os.path.join('..'))\n",
    "if module_path not in sys.path:\n",
    "    sys.path.append(module_path)"
   ]
  },
  {
   "cell_type": "code",
   "execution_count": 2,
   "metadata": {},
   "outputs": [],
   "source": [
    "from src.cert import CERTDataType, load_dataframe"
   ]
  },
  {
   "cell_type": "code",
   "execution_count": 3,
   "metadata": {},
   "outputs": [],
   "source": [
    "logon_df = load_dataframe(data_type=CERTDataType.logon)"
   ]
  },
  {
   "cell_type": "code",
   "execution_count": 4,
   "metadata": {},
   "outputs": [
    {
     "data": {
      "text/html": [
       "<div>\n",
       "<style scoped>\n",
       "    .dataframe tbody tr th:only-of-type {\n",
       "        vertical-align: middle;\n",
       "    }\n",
       "\n",
       "    .dataframe tbody tr th {\n",
       "        vertical-align: top;\n",
       "    }\n",
       "\n",
       "    .dataframe thead th {\n",
       "        text-align: right;\n",
       "    }\n",
       "</style>\n",
       "<table border=\"1\" class=\"dataframe\">\n",
       "  <thead>\n",
       "    <tr style=\"text-align: right;\">\n",
       "      <th></th>\n",
       "      <th>id</th>\n",
       "      <th>date</th>\n",
       "      <th>user</th>\n",
       "      <th>pc</th>\n",
       "      <th>activity</th>\n",
       "    </tr>\n",
       "  </thead>\n",
       "  <tbody>\n",
       "    <tr>\n",
       "      <th>0</th>\n",
       "      <td>{Q9R3-U1PE27LQ-2164BJLT}</td>\n",
       "      <td>01/01/2010 06:20:00</td>\n",
       "      <td>SLW0616</td>\n",
       "      <td>PC-0110</td>\n",
       "      <td>Logon</td>\n",
       "    </tr>\n",
       "    <tr>\n",
       "      <th>1</th>\n",
       "      <td>{R1B6-S0LQ34EP-3361QPTV}</td>\n",
       "      <td>01/01/2010 06:28:00</td>\n",
       "      <td>RPM0600</td>\n",
       "      <td>PC-9164</td>\n",
       "      <td>Logon</td>\n",
       "    </tr>\n",
       "    <tr>\n",
       "      <th>2</th>\n",
       "      <td>{Y3R9-H0JY37RA-5902HXNX}</td>\n",
       "      <td>01/01/2010 07:04:00</td>\n",
       "      <td>DAM0170</td>\n",
       "      <td>PC-1525</td>\n",
       "      <td>Logon</td>\n",
       "    </tr>\n",
       "    <tr>\n",
       "      <th>3</th>\n",
       "      <td>{D5B1-I6BP26NF-3845HZNZ}</td>\n",
       "      <td>01/01/2010 07:23:00</td>\n",
       "      <td>WXW0044</td>\n",
       "      <td>PC-9422</td>\n",
       "      <td>Logon</td>\n",
       "    </tr>\n",
       "    <tr>\n",
       "      <th>4</th>\n",
       "      <td>{I0N6-I9PB69SZ-5272SLAT}</td>\n",
       "      <td>01/01/2010 07:31:00</td>\n",
       "      <td>RLD0349</td>\n",
       "      <td>PC-1290</td>\n",
       "      <td>Logon</td>\n",
       "    </tr>\n",
       "  </tbody>\n",
       "</table>\n",
       "</div>"
      ],
      "text/plain": [
       "                         id                 date     user       pc activity\n",
       "0  {Q9R3-U1PE27LQ-2164BJLT}  01/01/2010 06:20:00  SLW0616  PC-0110    Logon\n",
       "1  {R1B6-S0LQ34EP-3361QPTV}  01/01/2010 06:28:00  RPM0600  PC-9164    Logon\n",
       "2  {Y3R9-H0JY37RA-5902HXNX}  01/01/2010 07:04:00  DAM0170  PC-1525    Logon\n",
       "3  {D5B1-I6BP26NF-3845HZNZ}  01/01/2010 07:23:00  WXW0044  PC-9422    Logon\n",
       "4  {I0N6-I9PB69SZ-5272SLAT}  01/01/2010 07:31:00  RLD0349  PC-1290    Logon"
      ]
     },
     "execution_count": 4,
     "metadata": {},
     "output_type": "execute_result"
    }
   ],
   "source": [
    "logon_df.head()"
   ]
  },
  {
   "cell_type": "code",
   "execution_count": 5,
   "metadata": {},
   "outputs": [
    {
     "data": {
      "text/plain": [
       "1000"
      ]
     },
     "execution_count": 5,
     "metadata": {},
     "output_type": "execute_result"
    }
   ],
   "source": [
    "len(set(logon_df['user']))"
   ]
  },
  {
   "cell_type": "code",
   "execution_count": 6,
   "metadata": {},
   "outputs": [],
   "source": [
    "import pandas as pd\n",
    "\n",
    "def get_user_logon_activities(user: str, data: pd.DataFrame) -> pd.DataFrame:\n",
    "    return data.query(f'user == \"{user}\" and activity == \"Logon\"')"
   ]
  },
  {
   "cell_type": "code",
   "execution_count": 7,
   "metadata": {},
   "outputs": [],
   "source": [
    "activities = get_user_logon_activities('SLW0616', logon_df)"
   ]
  },
  {
   "cell_type": "code",
   "execution_count": 8,
   "metadata": {},
   "outputs": [
    {
     "data": {
      "text/html": [
       "<div>\n",
       "<style scoped>\n",
       "    .dataframe tbody tr th:only-of-type {\n",
       "        vertical-align: middle;\n",
       "    }\n",
       "\n",
       "    .dataframe tbody tr th {\n",
       "        vertical-align: top;\n",
       "    }\n",
       "\n",
       "    .dataframe thead th {\n",
       "        text-align: right;\n",
       "    }\n",
       "</style>\n",
       "<table border=\"1\" class=\"dataframe\">\n",
       "  <thead>\n",
       "    <tr style=\"text-align: right;\">\n",
       "      <th></th>\n",
       "      <th>id</th>\n",
       "      <th>date</th>\n",
       "      <th>user</th>\n",
       "      <th>pc</th>\n",
       "      <th>activity</th>\n",
       "    </tr>\n",
       "  </thead>\n",
       "  <tbody>\n",
       "    <tr>\n",
       "      <th>0</th>\n",
       "      <td>{Q9R3-U1PE27LQ-2164BJLT}</td>\n",
       "      <td>01/01/2010 06:20:00</td>\n",
       "      <td>SLW0616</td>\n",
       "      <td>PC-0110</td>\n",
       "      <td>Logon</td>\n",
       "    </tr>\n",
       "    <tr>\n",
       "      <th>359</th>\n",
       "      <td>{K6E6-O7JH94TK-3163KUIG}</td>\n",
       "      <td>01/04/2010 06:18:00</td>\n",
       "      <td>SLW0616</td>\n",
       "      <td>PC-0110</td>\n",
       "      <td>Logon</td>\n",
       "    </tr>\n",
       "    <tr>\n",
       "      <th>1539</th>\n",
       "      <td>{J0Q3-F2YL74NZ-4745AZHS}</td>\n",
       "      <td>01/04/2010 12:09:02</td>\n",
       "      <td>SLW0616</td>\n",
       "      <td>PC-0110</td>\n",
       "      <td>Logon</td>\n",
       "    </tr>\n",
       "    <tr>\n",
       "      <th>2856</th>\n",
       "      <td>{D9C8-E1AQ01LJ-7275RQMV}</td>\n",
       "      <td>01/05/2010 06:23:00</td>\n",
       "      <td>SLW0616</td>\n",
       "      <td>PC-0110</td>\n",
       "      <td>Logon</td>\n",
       "    </tr>\n",
       "    <tr>\n",
       "      <th>4013</th>\n",
       "      <td>{V3C9-U7AB24ZH-4889PFMX}</td>\n",
       "      <td>01/05/2010 12:18:58</td>\n",
       "      <td>SLW0616</td>\n",
       "      <td>PC-0110</td>\n",
       "      <td>Logon</td>\n",
       "    </tr>\n",
       "  </tbody>\n",
       "</table>\n",
       "</div>"
      ],
      "text/plain": [
       "                            id                 date     user       pc activity\n",
       "0     {Q9R3-U1PE27LQ-2164BJLT}  01/01/2010 06:20:00  SLW0616  PC-0110    Logon\n",
       "359   {K6E6-O7JH94TK-3163KUIG}  01/04/2010 06:18:00  SLW0616  PC-0110    Logon\n",
       "1539  {J0Q3-F2YL74NZ-4745AZHS}  01/04/2010 12:09:02  SLW0616  PC-0110    Logon\n",
       "2856  {D9C8-E1AQ01LJ-7275RQMV}  01/05/2010 06:23:00  SLW0616  PC-0110    Logon\n",
       "4013  {V3C9-U7AB24ZH-4889PFMX}  01/05/2010 12:18:58  SLW0616  PC-0110    Logon"
      ]
     },
     "execution_count": 8,
     "metadata": {},
     "output_type": "execute_result"
    }
   ],
   "source": [
    "activities.head()"
   ]
  },
  {
   "cell_type": "code",
   "execution_count": 9,
   "metadata": {},
   "outputs": [
    {
     "data": {
      "text/plain": [
       "845351"
      ]
     },
     "execution_count": 9,
     "metadata": {},
     "output_type": "execute_result"
    }
   ],
   "source": [
    "len(logon_df)"
   ]
  },
  {
   "cell_type": "code",
   "execution_count": 10,
   "metadata": {},
   "outputs": [],
   "source": [
    "from datetime import datetime\n",
    "\n",
    "def generate_user_logon_profile(user: str, data: pd.DataFrame) -> list[float]:\n",
    "    \"\"\"\n",
    "    Формирует вектор из 48 чисел, где каждое – частота залогина в какой-либо час дня\n",
    "    Числа 1-24 соответствуют будним дням, числа 25-48 – выходным\n",
    "    \"\"\"\n",
    "    weekend_offset = 24\n",
    "    profile = [0 for _ in range(48)]\n",
    "    rows = get_user_logon_activities(user, data)\n",
    "    for _, row in rows.iterrows():\n",
    "        timestamp = datetime.strptime(row['date'], '%m/%d/%Y %H:%M:%S')\n",
    "        if timestamp.weekday() in (5, 6):\n",
    "            profile[timestamp.hour + weekend_offset] += 1\n",
    "        else:\n",
    "            profile[timestamp.hour] += 1\n",
    "    \n",
    "    total_activities = sum(profile)\n",
    "    return [x / total_activities for x in profile]\n",
    "\n",
    "\n",
    "def get_user_logon_profiles(logon_data: pd.DataFrame) -> list[tuple[str, list[int]]]:\n",
    "    users = set(logon_data['user'])\n",
    "    return [\n",
    "        (user, generate_user_logon_profile(user, logon_data))\n",
    "        for user in users\n",
    "    ]\n"
   ]
  },
  {
   "cell_type": "code",
   "execution_count": 11,
   "metadata": {},
   "outputs": [],
   "source": [
    "profiles = get_user_logon_profiles(logon_df)"
   ]
  },
  {
   "cell_type": "code",
   "execution_count": 12,
   "metadata": {},
   "outputs": [],
   "source": [
    "from sklearn.cluster import DBSCAN\n",
    "import numpy as np\n",
    "\n",
    "\n",
    "X = np.array([v for _, v in profiles])\n",
    "clustering = DBSCAN(eps=0.2, min_samples=2).fit(X)"
   ]
  },
  {
   "cell_type": "code",
   "execution_count": 13,
   "metadata": {},
   "outputs": [],
   "source": [
    "profiles_w_cluster_id = list(zip(clustering.labels_, profiles))"
   ]
  },
  {
   "cell_type": "code",
   "execution_count": 15,
   "metadata": {},
   "outputs": [
    {
     "data": {
      "text/plain": [
       "{-1, 0, 1, 2, 3, 4, 5, 6, 7, 8, 9, 10, 11, 12}"
      ]
     },
     "execution_count": 15,
     "metadata": {},
     "output_type": "execute_result"
    }
   ],
   "source": [
    "set(clustering.labels_)"
   ]
  },
  {
   "cell_type": "code",
   "execution_count": 16,
   "metadata": {},
   "outputs": [],
   "source": [
    "ldap_df = load_dataframe(CERTDataType.ldap)"
   ]
  },
  {
   "cell_type": "code",
   "execution_count": 17,
   "metadata": {},
   "outputs": [
    {
     "data": {
      "text/html": [
       "<div>\n",
       "<style scoped>\n",
       "    .dataframe tbody tr th:only-of-type {\n",
       "        vertical-align: middle;\n",
       "    }\n",
       "\n",
       "    .dataframe tbody tr th {\n",
       "        vertical-align: top;\n",
       "    }\n",
       "\n",
       "    .dataframe thead th {\n",
       "        text-align: right;\n",
       "    }\n",
       "</style>\n",
       "<table border=\"1\" class=\"dataframe\">\n",
       "  <thead>\n",
       "    <tr style=\"text-align: right;\">\n",
       "      <th></th>\n",
       "      <th>employee_name</th>\n",
       "      <th>user_id</th>\n",
       "      <th>email</th>\n",
       "      <th>role</th>\n",
       "      <th>business_unit</th>\n",
       "      <th>functional_unit</th>\n",
       "      <th>department</th>\n",
       "      <th>team</th>\n",
       "      <th>supervisor</th>\n",
       "    </tr>\n",
       "  </thead>\n",
       "  <tbody>\n",
       "    <tr>\n",
       "      <th>0</th>\n",
       "      <td>Sara Indigo Berger</td>\n",
       "      <td>SIB0825</td>\n",
       "      <td>Sara.Indigo.Berger@dtaa.com</td>\n",
       "      <td>Salesman</td>\n",
       "      <td>1</td>\n",
       "      <td>5 - SalesAndMarketing</td>\n",
       "      <td>2 - Sales</td>\n",
       "      <td>5 - RegionalSales</td>\n",
       "      <td>Regan Kirestin Frye</td>\n",
       "    </tr>\n",
       "    <tr>\n",
       "      <th>1</th>\n",
       "      <td>Nerea Ingrid Good</td>\n",
       "      <td>NIG0433</td>\n",
       "      <td>Nerea.Ingrid.Good@dtaa.com</td>\n",
       "      <td>ProductionLineWorker</td>\n",
       "      <td>1</td>\n",
       "      <td>3 - Manufacturing</td>\n",
       "      <td>3 - Assembly</td>\n",
       "      <td>2 - AssemblyDept</td>\n",
       "      <td>Hilel Colt Rush</td>\n",
       "    </tr>\n",
       "    <tr>\n",
       "      <th>2</th>\n",
       "      <td>Maggy Maryam Newman</td>\n",
       "      <td>MMN0579</td>\n",
       "      <td>Maggy.Maryam.Newman@dtaa.com</td>\n",
       "      <td>Salesman</td>\n",
       "      <td>1</td>\n",
       "      <td>5 - SalesAndMarketing</td>\n",
       "      <td>2 - Sales</td>\n",
       "      <td>3 - RegionalSales</td>\n",
       "      <td>Dorian Dominic Burt</td>\n",
       "    </tr>\n",
       "    <tr>\n",
       "      <th>3</th>\n",
       "      <td>Asher Lucas Daniel</td>\n",
       "      <td>ALD0521</td>\n",
       "      <td>Asher.Lucas.Daniel@dtaa.com</td>\n",
       "      <td>Mathematician</td>\n",
       "      <td>1</td>\n",
       "      <td>2 - ResearchAndEngineering</td>\n",
       "      <td>1 - Research</td>\n",
       "      <td>3 - Lab</td>\n",
       "      <td>Elizabeth Josephine Gay</td>\n",
       "    </tr>\n",
       "    <tr>\n",
       "      <th>4</th>\n",
       "      <td>Jael Phyllis Contreras</td>\n",
       "      <td>JPC0464</td>\n",
       "      <td>Jael.Phyllis.Contreras@dtaa.com</td>\n",
       "      <td>Salesman</td>\n",
       "      <td>1</td>\n",
       "      <td>5 - SalesAndMarketing</td>\n",
       "      <td>2 - Sales</td>\n",
       "      <td>2 - RegionalSales</td>\n",
       "      <td>Brandon Vladimir Vaughan</td>\n",
       "    </tr>\n",
       "  </tbody>\n",
       "</table>\n",
       "</div>"
      ],
      "text/plain": [
       "            employee_name  user_id                            email  \\\n",
       "0      Sara Indigo Berger  SIB0825      Sara.Indigo.Berger@dtaa.com   \n",
       "1       Nerea Ingrid Good  NIG0433       Nerea.Ingrid.Good@dtaa.com   \n",
       "2     Maggy Maryam Newman  MMN0579     Maggy.Maryam.Newman@dtaa.com   \n",
       "3      Asher Lucas Daniel  ALD0521      Asher.Lucas.Daniel@dtaa.com   \n",
       "4  Jael Phyllis Contreras  JPC0464  Jael.Phyllis.Contreras@dtaa.com   \n",
       "\n",
       "                   role  business_unit             functional_unit  \\\n",
       "0              Salesman              1       5 - SalesAndMarketing   \n",
       "1  ProductionLineWorker              1           3 - Manufacturing   \n",
       "2              Salesman              1       5 - SalesAndMarketing   \n",
       "3         Mathematician              1  2 - ResearchAndEngineering   \n",
       "4              Salesman              1       5 - SalesAndMarketing   \n",
       "\n",
       "     department               team                supervisor  \n",
       "0     2 - Sales  5 - RegionalSales       Regan Kirestin Frye  \n",
       "1  3 - Assembly   2 - AssemblyDept           Hilel Colt Rush  \n",
       "2     2 - Sales  3 - RegionalSales       Dorian Dominic Burt  \n",
       "3  1 - Research            3 - Lab   Elizabeth Josephine Gay  \n",
       "4     2 - Sales  2 - RegionalSales  Brandon Vladimir Vaughan  "
      ]
     },
     "execution_count": 17,
     "metadata": {},
     "output_type": "execute_result"
    }
   ],
   "source": [
    "ldap_df.head()"
   ]
  },
  {
   "cell_type": "code",
   "execution_count": 41,
   "metadata": {},
   "outputs": [
    {
     "data": {
      "text/plain": [
       "'SoftwareEngineer'"
      ]
     },
     "execution_count": 41,
     "metadata": {},
     "output_type": "execute_result"
    }
   ],
   "source": [
    "def get_user_role(user: str):\n",
    "    row = ldap_df.query(f'user_id == \"{user}\"')\n",
    "    return set(row['role']).pop()\n",
    "\n",
    "get_user_role('AHS0228')"
   ]
  },
  {
   "cell_type": "code",
   "execution_count": 43,
   "metadata": {},
   "outputs": [],
   "source": [
    "from collections import Counter, defaultdict\n",
    "\n",
    "\n",
    "cluster_to_role = defaultdict(list)\n",
    "\n",
    "for cid, (user, _) in profiles_w_cluster_id:\n",
    "    cluster_to_role[cid].append(get_user_role(user))"
   ]
  },
  {
   "cell_type": "code",
   "execution_count": 45,
   "metadata": {},
   "outputs": [
    {
     "name": "stdout",
     "output_type": "stream",
     "text": [
      "0 Counter({'ProductionLineWorker': 49, 'Salesman': 23, 'SoftwareEngineer': 19, 'Scientist': 12, 'ComputerScientist': 8, 'ComputerProgrammer': 8, 'Mathematician': 6, 'ElectricalEngineer': 5, 'AdministrativeAssistant': 5, 'Manager': 5, 'Technician': 3, 'TestEngineer': 3, 'MechanicalEngineer': 3, 'LabManager': 2, 'Director': 2, 'Physicist': 2, 'FinancialAnalyst': 2, 'AssemblySupervisor': 2, 'InstructionalCoordinator': 1, 'ComputerTrainer': 1, 'Statistician': 1, 'TechnicalTrainer': 1, 'ManagementTrainer': 1})\n",
      "1 Counter({'Technician': 18, 'IndustrialEngineer': 4, 'HumanResourceSpecialist': 2, 'Accountant': 2, 'Manager': 1, 'Director': 1})\n",
      "2 Counter({'ProductionLineWorker': 41, 'SoftwareEngineer': 15, 'Salesman': 7, 'Scientist': 5, 'ComputerProgrammer': 5, 'Physicist': 4, 'Mathematician': 4, 'ComputerScientist': 4, 'ElectricalEngineer': 3, 'AdministrativeAssistant': 2, 'FinancialAnalyst': 1, 'Director': 1, 'Manager': 1, 'ComputerTrainer': 1, 'ChiefEngineer': 1, 'Statistician': 1, 'TestEngineer': 1, 'AssemblySupervisor': 1, 'ManagementTrainer': 1, 'MechanicalEngineer': 1, 'InstructionalCoordinator': 1, 'President': 1})\n",
      "3 Counter({'ElectricalEngineer': 12, 'Salesman': 11, 'Physicist': 6, 'Mathematician': 5, 'SoftwareEngineer': 5, 'Scientist': 5, 'MechanicalEngineer': 5, 'HumanResourceSpecialist': 4, 'AdministrativeAssistant': 4, 'SecurityGuard': 3, 'Statistician': 3, 'ComputerProgrammer': 1, 'ComputerScientist': 1, 'LabManager': 1, 'Director': 1, 'Engineer': 1, 'Attorney': 1, 'PurchasingClerk': 1})\n",
      "4 Counter({'Salesman': 68, 'Technician': 67, 'ProductionLineWorker': 60, 'SystemsEngineer': 12, 'ComputerScientist': 8, 'ElectricalEngineer': 8, 'PurchasingClerk': 6, 'Physicist': 6, 'Manager': 6, 'MaterialsEngineer': 5, 'SoftwareEngineer': 5, 'AdministrativeAssistant': 5, 'ChiefEngineer': 3, 'VicePresident': 3, 'HardwareEngineer': 3, 'Accountant': 3, 'NursePractitioner': 3, 'Scientist': 3, 'ComputerProgrammer': 3, 'AssemblySupervisor': 3, 'Director': 3, 'HealthSafetyEngineer': 2, 'Mathematician': 2, 'Statistician': 2, 'Nurse': 1})\n",
      "5 Counter({'MechanicalEngineer': 21, 'Salesman': 19, 'SecurityGuard': 12, 'ElectricalEngineer': 9, 'Manager': 7, 'Scientist': 6, 'SoftwareEngineer': 6, 'HumanResourceSpecialist': 5, 'ComputerScientist': 5, 'AdministrativeAssistant': 5, 'Physicist': 4, 'Engineer': 4, 'Mathematician': 3, 'PurchasingClerk': 3, 'ChiefEngineer': 2, 'Attorney': 2, 'Director': 1, 'Statistician': 1, 'LabManager': 1})\n",
      "6 Counter({'Physicist': 3, 'Scientist': 2, 'Mathematician': 1, 'LabManager': 1, 'VicePresident': 1, 'Director': 1})\n",
      "7 Counter({'Technician': 20, 'TestEngineer': 7, 'ElectricalEngineer': 4, 'MechanicalEngineer': 2, 'AdministrativeAssistant': 2, 'ChiefEngineer': 1, 'VicePresident': 1, 'FieldServiceEngineer': 1})\n",
      "8 Counter({'Technician': 12, 'ElectricalEngineer': 2, 'TestEngineer': 2})\n",
      "9 Counter({'ProductionLineWorker': 30, 'Technician': 23, 'Salesman': 21, 'SystemsEngineer': 7, 'AdministrativeAssistant': 7, 'SoftwareEngineer': 4, 'MaterialsEngineer': 4, 'FieldServiceEngineer': 3, 'PurchasingClerk': 3, 'Manager': 2, 'Physicist': 2, 'ComputerScientist': 2, 'AdministrativeStaff': 2, 'Statistician': 2, 'Mathematician': 2, 'LabManager': 1, 'ElectricalEngineer': 1, 'HealthSafetyEngineer': 1, 'VicePresident': 1, 'Director': 1, 'Scientist': 1, 'HardwareEngineer': 1})\n",
      "10 Counter({'Mathematician': 7, 'AdministrativeAssistant': 2, 'Physicist': 2})\n",
      "11 Counter({'ITAdmin': 9})\n",
      "-1 Counter({'Director': 1, 'Technician': 1, 'AdministrativeAssistant': 1})\n",
      "12 Counter({'Technician': 11, 'IndustrialEngineer': 3, 'AdministrativeAssistant': 3, 'HumanResourceSpecialist': 2, 'Accountant': 2, 'FieldServiceEngineer': 1, 'Manager': 1})\n"
     ]
    }
   ],
   "source": [
    "for k, v in cluster_to_role.items():\n",
    "    print(k, Counter(v))"
   ]
  },
  {
   "cell_type": "code",
   "execution_count": 54,
   "metadata": {},
   "outputs": [],
   "source": [
    "all_roles = list(set(sum([v for v in cluster_to_role.values()], [])))"
   ]
  },
  {
   "cell_type": "code",
   "execution_count": 57,
   "metadata": {},
   "outputs": [],
   "source": [
    "data = [\n",
    "    [Counter(cluster_to_role[cid])[role] for role in all_roles]\n",
    "    for cid in cluster_to_role.keys()\n",
    "]"
   ]
  },
  {
   "cell_type": "code",
   "execution_count": 59,
   "metadata": {},
   "outputs": [
    {
     "data": {
      "text/plain": [
       "<AxesSubplot:>"
      ]
     },
     "execution_count": 59,
     "metadata": {},
     "output_type": "execute_result"
    },
    {
     "data": {
      "image/png": "[encoded data removed]",
      "text/plain": [
       "<Figure size 640x480 with 2 Axes>"
      ]
     },
     "metadata": {},
     "output_type": "display_data"
    }
   ],
   "source": [
    "import seaborn\n",
    "\n",
    "seaborn.heatmap(data)"
   ]
  },
  {
   "cell_type": "code",
   "execution_count": 60,
   "metadata": {},
   "outputs": [
    {
     "name": "stdout",
     "output_type": "stream",
     "text": [
      "0 Director\n",
      "1 AssemblySupervisor\n",
      "2 LabManager\n",
      "3 Technician\n",
      "4 MechanicalEngineer\n",
      "5 HardwareEngineer\n",
      "6 HumanResourceSpecialist\n",
      "7 TechnicalTrainer\n",
      "8 PurchasingClerk\n",
      "9 ComputerProgrammer\n",
      "10 ComputerScientist\n",
      "11 Accountant\n",
      "12 MaterialsEngineer\n",
      "13 SystemsEngineer\n",
      "14 Salesman\n",
      "15 HealthSafetyEngineer\n",
      "16 AdministrativeAssistant\n",
      "17 ProductionLineWorker\n",
      "18 SecurityGuard\n",
      "19 FinancialAnalyst\n",
      "20 Manager\n",
      "21 NursePractitioner\n",
      "22 Mathematician\n",
      "23 VicePresident\n",
      "24 ITAdmin\n",
      "25 IndustrialEngineer\n",
      "26 TestEngineer\n",
      "27 Engineer\n",
      "28 FieldServiceEngineer\n",
      "29 Statistician\n",
      "30 ManagementTrainer\n",
      "31 InstructionalCoordinator\n",
      "32 President\n",
      "33 ComputerTrainer\n",
      "34 AdministrativeStaff\n",
      "35 ChiefEngineer\n",
      "36 ElectricalEngineer\n",
      "37 Physicist\n",
      "38 Nurse\n",
      "39 Attorney\n",
      "40 SoftwareEngineer\n",
      "41 Scientist\n"
     ]
    }
   ],
   "source": [
    "for idx, role in enumerate(all_roles):\n",
    "    print(idx, role)"
   ]
  },
  {
   "cell_type": "code",
   "execution_count": null,
   "metadata": {},
   "outputs": [],
   "source": []
  }
 ],
 "metadata": {
  "kernelspec": {
   "display_name": "Python 3",
   "language": "python",
   "name": "python3"
  },
  "language_info": {
   "codemirror_mode": {
    "name": "ipython",
    "version": 3
   },
   "file_extension": ".py",
   "mimetype": "text/x-python",
   "name": "python",
   "nbconvert_exporter": "python",
   "pygments_lexer": "ipython3",
   "version": "3.10.6"
  },
  "orig_nbformat": 4
 },
 "nbformat": 4,
 "nbformat_minor": 2
}
