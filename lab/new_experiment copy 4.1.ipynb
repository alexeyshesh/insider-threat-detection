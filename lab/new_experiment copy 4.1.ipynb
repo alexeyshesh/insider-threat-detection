{
 "cells": [
  {
   "cell_type": "code",
   "execution_count": null,
   "metadata": {},
   "outputs": [],
   "source": [
    "# Идея: собрать вместе наборы данных и выделить сессии, которые можно считать аномальными\n",
    "# Далее на аномальных сессиях запустить классификатор"
   ]
  },
  {
   "cell_type": "code",
   "execution_count": 1,
   "metadata": {},
   "outputs": [],
   "source": [
    "from collections import defaultdict, Counter\n",
    "from datetime import datetime\n",
    "\n",
    "import pandas as pd\n",
    "from sklearn.svm import OneClassSVM\n",
    "from sklearn.preprocessing import StandardScaler\n",
    "import matplotlib.pyplot as plt\n",
    "\n",
    "\n",
    "import numpy as np\n",
    "import math\n",
    "\n",
    "\n",
    "DATASET_VERSION = '4.1'\n",
    "DATA_PATH = f'../data/r{DATASET_VERSION}/{{type}}.csv'\n",
    "ANSWERS_PATH = f'../data/answers/r{DATASET_VERSION}-{{attacker}}.csv'\n",
    "DATE_FORMAT = '%Y-%m-%dT%H:%M:%S'"
   ]
  },
  {
   "cell_type": "code",
   "execution_count": 2,
   "metadata": {},
   "outputs": [],
   "source": [
    "def dt(timestamp: str) -> datetime:\n",
    "    return datetime.strptime(timestamp, '%m/%d/%Y %H:%M:%S')"
   ]
  },
  {
   "cell_type": "code",
   "execution_count": 3,
   "metadata": {},
   "outputs": [],
   "source": [
    "# Шаги:\n",
    "# 1. Взять logon.csv и получить ID, время начлаа и конца всех сессий.\n",
    "# 2. Взять среднее время первого входа и последнего выхода каждого сотрудника за первые три месяца, чтобы получить продолжительность рабочего дня\n",
    "# 3. Добавить к данным о сессиях, в рабочее время они происходили или нет (не в рабочее – если сессия закначивалась до начала рабочего дня или начаналась после)\n",
    "# 4. Склеить действия из device и file, проставить сессии и рабочее / нерабочее время\n",
    "# 5. Получить агрегатные данные по сессиям (сколько раз подключалось устройство, сколько было открыто файлов)\n",
    "# 6. За первые штри месяца посчитать средние и отклонения от них в процентах (0..1)\n",
    "# 7. Запустить OCSVM на сессиях каждого пользователя и выбрать аномальные сессии\n",
    "# 8. Отфильтровать данные по аномальным сессиям"
   ]
  },
  {
   "cell_type": "code",
   "execution_count": 4,
   "metadata": {},
   "outputs": [],
   "source": [
    "logon_df = pd.read_csv(DATA_PATH.format(type='logon'))"
   ]
  },
  {
   "cell_type": "code",
   "execution_count": 5,
   "metadata": {},
   "outputs": [
    {
     "data": {
      "text/html": [
       "<div>\n",
       "<style scoped>\n",
       "    .dataframe tbody tr th:only-of-type {\n",
       "        vertical-align: middle;\n",
       "    }\n",
       "\n",
       "    .dataframe tbody tr th {\n",
       "        vertical-align: top;\n",
       "    }\n",
       "\n",
       "    .dataframe thead th {\n",
       "        text-align: right;\n",
       "    }\n",
       "</style>\n",
       "<table border=\"1\" class=\"dataframe\">\n",
       "  <thead>\n",
       "    <tr style=\"text-align: right;\">\n",
       "      <th></th>\n",
       "      <th>id</th>\n",
       "      <th>date</th>\n",
       "      <th>user</th>\n",
       "      <th>pc</th>\n",
       "      <th>activity</th>\n",
       "    </tr>\n",
       "  </thead>\n",
       "  <tbody>\n",
       "    <tr>\n",
       "      <th>0</th>\n",
       "      <td>{X0W9-Q2DW16EI-1074QDVQ}</td>\n",
       "      <td>01/02/2010 05:02:50</td>\n",
       "      <td>WCR0044</td>\n",
       "      <td>PC-9174</td>\n",
       "      <td>Logon</td>\n",
       "    </tr>\n",
       "    <tr>\n",
       "      <th>1</th>\n",
       "      <td>{C2O4-Z2RH12FQ-9176MUEL}</td>\n",
       "      <td>01/02/2010 05:19:09</td>\n",
       "      <td>WCR0044</td>\n",
       "      <td>PC-9174</td>\n",
       "      <td>Logoff</td>\n",
       "    </tr>\n",
       "    <tr>\n",
       "      <th>2</th>\n",
       "      <td>{U1J8-P4HX02EV-5327GONH}</td>\n",
       "      <td>01/02/2010 06:22:11</td>\n",
       "      <td>WCR0044</td>\n",
       "      <td>PC-5494</td>\n",
       "      <td>Logon</td>\n",
       "    </tr>\n",
       "    <tr>\n",
       "      <th>3</th>\n",
       "      <td>{F1N9-G4ZL24LA-8747VGHG}</td>\n",
       "      <td>01/02/2010 06:33:00</td>\n",
       "      <td>LRG0155</td>\n",
       "      <td>PC-0450</td>\n",
       "      <td>Logon</td>\n",
       "    </tr>\n",
       "    <tr>\n",
       "      <th>4</th>\n",
       "      <td>{Y1Q0-U9BN24NB-1906LMVT}</td>\n",
       "      <td>01/02/2010 06:42:00</td>\n",
       "      <td>RHM0148</td>\n",
       "      <td>PC-8152</td>\n",
       "      <td>Logon</td>\n",
       "    </tr>\n",
       "  </tbody>\n",
       "</table>\n",
       "</div>"
      ],
      "text/plain": [
       "                         id                 date     user       pc activity\n",
       "0  {X0W9-Q2DW16EI-1074QDVQ}  01/02/2010 05:02:50  WCR0044  PC-9174    Logon\n",
       "1  {C2O4-Z2RH12FQ-9176MUEL}  01/02/2010 05:19:09  WCR0044  PC-9174   Logoff\n",
       "2  {U1J8-P4HX02EV-5327GONH}  01/02/2010 06:22:11  WCR0044  PC-5494    Logon\n",
       "3  {F1N9-G4ZL24LA-8747VGHG}  01/02/2010 06:33:00  LRG0155  PC-0450    Logon\n",
       "4  {Y1Q0-U9BN24NB-1906LMVT}  01/02/2010 06:42:00  RHM0148  PC-8152    Logon"
      ]
     },
     "execution_count": 5,
     "metadata": {},
     "output_type": "execute_result"
    }
   ],
   "source": [
    "logon_df.head()"
   ]
  },
  {
   "cell_type": "code",
   "execution_count": 6,
   "metadata": {},
   "outputs": [],
   "source": [
    "sessions = defaultdict(list)\n",
    "\n",
    "for _, row in logon_df.iterrows():\n",
    "    user = row['user']\n",
    "    ts = dt(row['date'])\n",
    "    action = row['activity']\n",
    "\n",
    "    if action == 'Logon':\n",
    "        if sessions[user] and len(sessions[user][-1]) == 1:\n",
    "            sessions[user][-1] = (sessions[user][-1][0], ts)\n",
    "        sessions[user].append((ts,))\n",
    "    else:\n",
    "        if sessions[user] and len(sessions[user][-1]) == 2:\n",
    "            sessions[user].append((None, ts))\n",
    "        else:\n",
    "            sessions[user][-1] = (sessions[user][-1][0], ts)\n",
    "\n"
   ]
  },
  {
   "cell_type": "code",
   "execution_count": 7,
   "metadata": {},
   "outputs": [],
   "source": [
    "actions_df = pd.concat(\n",
    "    [\n",
    "        logon_df,\n",
    "        pd.read_csv(DATA_PATH.format(type='file')),\n",
    "        pd.read_csv(DATA_PATH.format(type='device')),\n",
    "    ],\n",
    "    axis=0,\n",
    "    ignore_index=True,\n",
    ")"
   ]
  },
  {
   "cell_type": "code",
   "execution_count": 8,
   "metadata": {},
   "outputs": [],
   "source": [
    "actions_df['timestamp'] = actions_df.apply(lambda x: dt(x['date']).strftime('%Y-%m-%dT%H:%M:%S'), axis=1)"
   ]
  },
  {
   "cell_type": "code",
   "execution_count": 9,
   "metadata": {},
   "outputs": [],
   "source": [
    "actions_df = actions_df.sort_values(by='timestamp')"
   ]
  },
  {
   "cell_type": "code",
   "execution_count": 10,
   "metadata": {},
   "outputs": [],
   "source": [
    "def get_session_id(user: str, timestamp: datetime) -> str:\n",
    "    for idx, (from_, to_) in enumerate(sessions[user]):\n",
    "        if from_ is not None and (from_ <= timestamp <= to_):\n",
    "            return f'{user}_{idx}'\n",
    "        if from_ is None and to_ > timestamp:\n",
    "            return f'{user}_{idx}'\n",
    "\n",
    "actions_df['session_id'] = actions_df.apply(lambda x: get_session_id(x['user'], dt(x['date'])), axis=1)"
   ]
  },
  {
   "cell_type": "code",
   "execution_count": 11,
   "metadata": {},
   "outputs": [],
   "source": [
    "actions_df['filename'] = actions_df['filename'].fillna('')\n",
    "\n",
    "actions_df['file_activity'] = actions_df.apply(lambda x: int(bool(x['filename'])), axis=1)\n",
    "actions_df['device_activity'] = actions_df.apply(lambda x: int(x['activity'] in {'Connect', 'Disconnect'}), axis=1)"
   ]
  },
  {
   "cell_type": "code",
   "execution_count": 12,
   "metadata": {},
   "outputs": [
    {
     "data": {
      "text/html": [
       "<div>\n",
       "<style scoped>\n",
       "    .dataframe tbody tr th:only-of-type {\n",
       "        vertical-align: middle;\n",
       "    }\n",
       "\n",
       "    .dataframe tbody tr th {\n",
       "        vertical-align: top;\n",
       "    }\n",
       "\n",
       "    .dataframe thead th {\n",
       "        text-align: right;\n",
       "    }\n",
       "</style>\n",
       "<table border=\"1\" class=\"dataframe\">\n",
       "  <thead>\n",
       "    <tr style=\"text-align: right;\">\n",
       "      <th></th>\n",
       "      <th>id</th>\n",
       "      <th>date</th>\n",
       "      <th>user</th>\n",
       "      <th>pc</th>\n",
       "      <th>activity</th>\n",
       "      <th>filename</th>\n",
       "      <th>content</th>\n",
       "      <th>timestamp</th>\n",
       "      <th>session_id</th>\n",
       "      <th>file_activity</th>\n",
       "      <th>device_activity</th>\n",
       "    </tr>\n",
       "  </thead>\n",
       "  <tbody>\n",
       "    <tr>\n",
       "      <th>0</th>\n",
       "      <td>{X0W9-Q2DW16EI-1074QDVQ}</td>\n",
       "      <td>01/02/2010 05:02:50</td>\n",
       "      <td>WCR0044</td>\n",
       "      <td>PC-9174</td>\n",
       "      <td>Logon</td>\n",
       "      <td></td>\n",
       "      <td>NaN</td>\n",
       "      <td>2010-01-02T05:02:50</td>\n",
       "      <td>WCR0044_0</td>\n",
       "      <td>0</td>\n",
       "      <td>0</td>\n",
       "    </tr>\n",
       "    <tr>\n",
       "      <th>1313674</th>\n",
       "      <td>{P1I9-X2UT34LR-6485PDJX}</td>\n",
       "      <td>01/02/2010 05:15:32</td>\n",
       "      <td>WCR0044</td>\n",
       "      <td>PC-9174</td>\n",
       "      <td>Connect</td>\n",
       "      <td></td>\n",
       "      <td>NaN</td>\n",
       "      <td>2010-01-02T05:15:32</td>\n",
       "      <td>WCR0044_0</td>\n",
       "      <td>0</td>\n",
       "      <td>1</td>\n",
       "    </tr>\n",
       "    <tr>\n",
       "      <th>899118</th>\n",
       "      <td>{Q5M2-N0JR22AA-1727ALDU}</td>\n",
       "      <td>01/02/2010 05:15:35</td>\n",
       "      <td>WCR0044</td>\n",
       "      <td>PC-9174</td>\n",
       "      <td>NaN</td>\n",
       "      <td>KQTA0DRL.pdf</td>\n",
       "      <td>25-50-44-46-2D laugh statements references pla...</td>\n",
       "      <td>2010-01-02T05:15:35</td>\n",
       "      <td>WCR0044_0</td>\n",
       "      <td>1</td>\n",
       "      <td>0</td>\n",
       "    </tr>\n",
       "    <tr>\n",
       "      <th>899119</th>\n",
       "      <td>{O2W1-I9JA58XQ-7973YYAK}</td>\n",
       "      <td>01/02/2010 05:16:04</td>\n",
       "      <td>WCR0044</td>\n",
       "      <td>PC-9174</td>\n",
       "      <td>NaN</td>\n",
       "      <td>PS5NPZPV.doc</td>\n",
       "      <td>D0-CF-11-E0-A1-B1-1A-E1 identifies new maxi do...</td>\n",
       "      <td>2010-01-02T05:16:04</td>\n",
       "      <td>WCR0044_0</td>\n",
       "      <td>1</td>\n",
       "      <td>0</td>\n",
       "    </tr>\n",
       "    <tr>\n",
       "      <th>899120</th>\n",
       "      <td>{O0T0-H0OD25UT-0238OGNR}</td>\n",
       "      <td>01/02/2010 05:16:25</td>\n",
       "      <td>WCR0044</td>\n",
       "      <td>PC-9174</td>\n",
       "      <td>NaN</td>\n",
       "      <td>VJX6WCC9.doc</td>\n",
       "      <td>D0-CF-11-E0-A1-B1-1A-E1 emotionally antagonist...</td>\n",
       "      <td>2010-01-02T05:16:25</td>\n",
       "      <td>WCR0044_0</td>\n",
       "      <td>1</td>\n",
       "      <td>0</td>\n",
       "    </tr>\n",
       "  </tbody>\n",
       "</table>\n",
       "</div>"
      ],
      "text/plain": [
       "                               id                 date     user       pc  \\\n",
       "0        {X0W9-Q2DW16EI-1074QDVQ}  01/02/2010 05:02:50  WCR0044  PC-9174   \n",
       "1313674  {P1I9-X2UT34LR-6485PDJX}  01/02/2010 05:15:32  WCR0044  PC-9174   \n",
       "899118   {Q5M2-N0JR22AA-1727ALDU}  01/02/2010 05:15:35  WCR0044  PC-9174   \n",
       "899119   {O2W1-I9JA58XQ-7973YYAK}  01/02/2010 05:16:04  WCR0044  PC-9174   \n",
       "899120   {O0T0-H0OD25UT-0238OGNR}  01/02/2010 05:16:25  WCR0044  PC-9174   \n",
       "\n",
       "        activity      filename  \\\n",
       "0          Logon                 \n",
       "1313674  Connect                 \n",
       "899118       NaN  KQTA0DRL.pdf   \n",
       "899119       NaN  PS5NPZPV.doc   \n",
       "899120       NaN  VJX6WCC9.doc   \n",
       "\n",
       "                                                   content  \\\n",
       "0                                                      NaN   \n",
       "1313674                                                NaN   \n",
       "899118   25-50-44-46-2D laugh statements references pla...   \n",
       "899119   D0-CF-11-E0-A1-B1-1A-E1 identifies new maxi do...   \n",
       "899120   D0-CF-11-E0-A1-B1-1A-E1 emotionally antagonist...   \n",
       "\n",
       "                   timestamp session_id  file_activity  device_activity  \n",
       "0        2010-01-02T05:02:50  WCR0044_0              0                0  \n",
       "1313674  2010-01-02T05:15:32  WCR0044_0              0                1  \n",
       "899118   2010-01-02T05:15:35  WCR0044_0              1                0  \n",
       "899119   2010-01-02T05:16:04  WCR0044_0              1                0  \n",
       "899120   2010-01-02T05:16:25  WCR0044_0              1                0  "
      ]
     },
     "execution_count": 12,
     "metadata": {},
     "output_type": "execute_result"
    }
   ],
   "source": [
    "actions_df.head()"
   ]
  },
  {
   "cell_type": "code",
   "execution_count": 13,
   "metadata": {},
   "outputs": [],
   "source": [
    "sessions_df = actions_df.groupby(['user', 'session_id']).agg({'timestamp': ['min', 'max'], 'file_activity': ['sum', 'max'], 'device_activity': ['sum', 'max']}).reset_index()"
   ]
  },
  {
   "cell_type": "code",
   "execution_count": 14,
   "metadata": {},
   "outputs": [],
   "source": [
    "sessions_df.columns = ['user', 'session_id', 'session_start', 'session_end', 'file_activity', 'file_activity_bool', 'device_activity', 'device_activity_bool']"
   ]
  },
  {
   "cell_type": "code",
   "execution_count": 15,
   "metadata": {},
   "outputs": [
    {
     "data": {
      "text/html": [
       "<div>\n",
       "<style scoped>\n",
       "    .dataframe tbody tr th:only-of-type {\n",
       "        vertical-align: middle;\n",
       "    }\n",
       "\n",
       "    .dataframe tbody tr th {\n",
       "        vertical-align: top;\n",
       "    }\n",
       "\n",
       "    .dataframe thead th {\n",
       "        text-align: right;\n",
       "    }\n",
       "</style>\n",
       "<table border=\"1\" class=\"dataframe\">\n",
       "  <thead>\n",
       "    <tr style=\"text-align: right;\">\n",
       "      <th></th>\n",
       "      <th>user</th>\n",
       "      <th>session_id</th>\n",
       "      <th>session_start</th>\n",
       "      <th>session_end</th>\n",
       "      <th>file_activity</th>\n",
       "      <th>file_activity_bool</th>\n",
       "      <th>device_activity</th>\n",
       "      <th>device_activity_bool</th>\n",
       "    </tr>\n",
       "  </thead>\n",
       "  <tbody>\n",
       "    <tr>\n",
       "      <th>0</th>\n",
       "      <td>AAB0224</td>\n",
       "      <td>AAB0224_0</td>\n",
       "      <td>2010-01-04T05:01:51</td>\n",
       "      <td>2010-01-04T05:13:25</td>\n",
       "      <td>0</td>\n",
       "      <td>0</td>\n",
       "      <td>0</td>\n",
       "      <td>0</td>\n",
       "    </tr>\n",
       "    <tr>\n",
       "      <th>1</th>\n",
       "      <td>AAB0224</td>\n",
       "      <td>AAB0224_1</td>\n",
       "      <td>2010-01-04T08:05:00</td>\n",
       "      <td>2010-01-04T16:20:00</td>\n",
       "      <td>0</td>\n",
       "      <td>0</td>\n",
       "      <td>0</td>\n",
       "      <td>0</td>\n",
       "    </tr>\n",
       "    <tr>\n",
       "      <th>2</th>\n",
       "      <td>AAB0224</td>\n",
       "      <td>AAB0224_10</td>\n",
       "      <td>2010-01-06T18:56:44</td>\n",
       "      <td>2010-01-06T18:59:16</td>\n",
       "      <td>0</td>\n",
       "      <td>0</td>\n",
       "      <td>0</td>\n",
       "      <td>0</td>\n",
       "    </tr>\n",
       "    <tr>\n",
       "      <th>3</th>\n",
       "      <td>AAB0224</td>\n",
       "      <td>AAB0224_100</td>\n",
       "      <td>2010-02-02T22:01:50</td>\n",
       "      <td>2010-02-02T22:09:35</td>\n",
       "      <td>0</td>\n",
       "      <td>0</td>\n",
       "      <td>0</td>\n",
       "      <td>0</td>\n",
       "    </tr>\n",
       "    <tr>\n",
       "      <th>4</th>\n",
       "      <td>AAB0224</td>\n",
       "      <td>AAB0224_1000</td>\n",
       "      <td>2010-12-10T08:08:00</td>\n",
       "      <td>2010-12-10T16:17:00</td>\n",
       "      <td>0</td>\n",
       "      <td>0</td>\n",
       "      <td>0</td>\n",
       "      <td>0</td>\n",
       "    </tr>\n",
       "  </tbody>\n",
       "</table>\n",
       "</div>"
      ],
      "text/plain": [
       "      user    session_id        session_start          session_end  \\\n",
       "0  AAB0224     AAB0224_0  2010-01-04T05:01:51  2010-01-04T05:13:25   \n",
       "1  AAB0224     AAB0224_1  2010-01-04T08:05:00  2010-01-04T16:20:00   \n",
       "2  AAB0224    AAB0224_10  2010-01-06T18:56:44  2010-01-06T18:59:16   \n",
       "3  AAB0224   AAB0224_100  2010-02-02T22:01:50  2010-02-02T22:09:35   \n",
       "4  AAB0224  AAB0224_1000  2010-12-10T08:08:00  2010-12-10T16:17:00   \n",
       "\n",
       "   file_activity  file_activity_bool  device_activity  device_activity_bool  \n",
       "0              0                   0                0                     0  \n",
       "1              0                   0                0                     0  \n",
       "2              0                   0                0                     0  \n",
       "3              0                   0                0                     0  \n",
       "4              0                   0                0                     0  "
      ]
     },
     "execution_count": 15,
     "metadata": {},
     "output_type": "execute_result"
    }
   ],
   "source": [
    "sessions_df.head()"
   ]
  },
  {
   "cell_type": "code",
   "execution_count": 16,
   "metadata": {},
   "outputs": [
    {
     "data": {
      "text/html": [
       "<div>\n",
       "<style scoped>\n",
       "    .dataframe tbody tr th:only-of-type {\n",
       "        vertical-align: middle;\n",
       "    }\n",
       "\n",
       "    .dataframe tbody tr th {\n",
       "        vertical-align: top;\n",
       "    }\n",
       "\n",
       "    .dataframe thead th {\n",
       "        text-align: right;\n",
       "    }\n",
       "</style>\n",
       "<table border=\"1\" class=\"dataframe\">\n",
       "  <thead>\n",
       "    <tr style=\"text-align: right;\">\n",
       "      <th></th>\n",
       "      <th>user</th>\n",
       "      <th>session_id</th>\n",
       "      <th>session_start</th>\n",
       "      <th>session_end</th>\n",
       "      <th>file_activity</th>\n",
       "      <th>file_activity_bool</th>\n",
       "      <th>device_activity</th>\n",
       "      <th>device_activity_bool</th>\n",
       "      <th>session_start_rlt</th>\n",
       "      <th>session_end_rlt</th>\n",
       "    </tr>\n",
       "  </thead>\n",
       "  <tbody>\n",
       "    <tr>\n",
       "      <th>0</th>\n",
       "      <td>AAB0224</td>\n",
       "      <td>AAB0224_0</td>\n",
       "      <td>2010-01-04T05:01:51</td>\n",
       "      <td>2010-01-04T05:13:25</td>\n",
       "      <td>0</td>\n",
       "      <td>0</td>\n",
       "      <td>0</td>\n",
       "      <td>0</td>\n",
       "      <td>0.209028</td>\n",
       "      <td>0.217361</td>\n",
       "    </tr>\n",
       "    <tr>\n",
       "      <th>1</th>\n",
       "      <td>AAB0224</td>\n",
       "      <td>AAB0224_1</td>\n",
       "      <td>2010-01-04T08:05:00</td>\n",
       "      <td>2010-01-04T16:20:00</td>\n",
       "      <td>0</td>\n",
       "      <td>0</td>\n",
       "      <td>0</td>\n",
       "      <td>0</td>\n",
       "      <td>0.336806</td>\n",
       "      <td>0.680556</td>\n",
       "    </tr>\n",
       "    <tr>\n",
       "      <th>2</th>\n",
       "      <td>AAB0224</td>\n",
       "      <td>AAB0224_10</td>\n",
       "      <td>2010-01-06T18:56:44</td>\n",
       "      <td>2010-01-06T18:59:16</td>\n",
       "      <td>0</td>\n",
       "      <td>0</td>\n",
       "      <td>0</td>\n",
       "      <td>0</td>\n",
       "      <td>0.788889</td>\n",
       "      <td>0.790972</td>\n",
       "    </tr>\n",
       "    <tr>\n",
       "      <th>3</th>\n",
       "      <td>AAB0224</td>\n",
       "      <td>AAB0224_100</td>\n",
       "      <td>2010-02-02T22:01:50</td>\n",
       "      <td>2010-02-02T22:09:35</td>\n",
       "      <td>0</td>\n",
       "      <td>0</td>\n",
       "      <td>0</td>\n",
       "      <td>0</td>\n",
       "      <td>0.917361</td>\n",
       "      <td>0.922917</td>\n",
       "    </tr>\n",
       "    <tr>\n",
       "      <th>4</th>\n",
       "      <td>AAB0224</td>\n",
       "      <td>AAB0224_1000</td>\n",
       "      <td>2010-12-10T08:08:00</td>\n",
       "      <td>2010-12-10T16:17:00</td>\n",
       "      <td>0</td>\n",
       "      <td>0</td>\n",
       "      <td>0</td>\n",
       "      <td>0</td>\n",
       "      <td>0.338889</td>\n",
       "      <td>0.678472</td>\n",
       "    </tr>\n",
       "  </tbody>\n",
       "</table>\n",
       "</div>"
      ],
      "text/plain": [
       "      user    session_id        session_start          session_end  \\\n",
       "0  AAB0224     AAB0224_0  2010-01-04T05:01:51  2010-01-04T05:13:25   \n",
       "1  AAB0224     AAB0224_1  2010-01-04T08:05:00  2010-01-04T16:20:00   \n",
       "2  AAB0224    AAB0224_10  2010-01-06T18:56:44  2010-01-06T18:59:16   \n",
       "3  AAB0224   AAB0224_100  2010-02-02T22:01:50  2010-02-02T22:09:35   \n",
       "4  AAB0224  AAB0224_1000  2010-12-10T08:08:00  2010-12-10T16:17:00   \n",
       "\n",
       "   file_activity  file_activity_bool  device_activity  device_activity_bool  \\\n",
       "0              0                   0                0                     0   \n",
       "1              0                   0                0                     0   \n",
       "2              0                   0                0                     0   \n",
       "3              0                   0                0                     0   \n",
       "4              0                   0                0                     0   \n",
       "\n",
       "   session_start_rlt  session_end_rlt  \n",
       "0           0.209028         0.217361  \n",
       "1           0.336806         0.680556  \n",
       "2           0.788889         0.790972  \n",
       "3           0.917361         0.922917  \n",
       "4           0.338889         0.678472  "
      ]
     },
     "execution_count": 16,
     "metadata": {},
     "output_type": "execute_result"
    }
   ],
   "source": [
    "def timestamp_to_minutes(timestamp: datetime) -> int:\n",
    "    return (timestamp.hour * 60 + timestamp.minute) / (60 * 24)\n",
    "\n",
    "sessions_df['session_start_rlt'] = sessions_df.apply(\n",
    "    lambda x: timestamp_to_minutes(datetime.strptime(x['session_start'], DATE_FORMAT)),\n",
    "    axis=1,\n",
    ")\n",
    "sessions_df['session_end_rlt'] = sessions_df.apply(\n",
    "    lambda x: timestamp_to_minutes(datetime.strptime(x['session_end'], DATE_FORMAT)),\n",
    "    axis=1,\n",
    ")\n",
    "\n",
    "sessions_df.head()"
   ]
  },
  {
   "cell_type": "code",
   "execution_count": 17,
   "metadata": {},
   "outputs": [],
   "source": [
    "user_to_sessions = {\n",
    "    user: sessions_df[sessions_df['user'] == user]\n",
    "    for user in set(sessions_df['user'])\n",
    "}"
   ]
  },
  {
   "cell_type": "code",
   "execution_count": 18,
   "metadata": {},
   "outputs": [],
   "source": [
    "# user_to_sessions['AAC0070']"
   ]
  },
  {
   "cell_type": "code",
   "execution_count": 19,
   "metadata": {},
   "outputs": [],
   "source": [
    "def draw_anomalies_session_time(data, anomalies):\n",
    "    plt.figure(figsize=(10, 7))\n",
    "    # Точки, предсказанные как обычные\n",
    "    plt.scatter(data[anomalies == 1]['session_start_rlt'], data[anomalies == 1]['session_end_rlt'], c='blue', alpha=0.2, label='Обычные точки')\n",
    "    # Точки, предсказанные как аномалии\n",
    "    plt.scatter(data[anomalies == -1]['session_start_rlt'], data[anomalies == -1]['session_end_rlt'], c='red', alpha=0.2, label='Аномалии')\n",
    "    plt.legend()\n",
    "    plt.xlabel('Logon')\n",
    "    plt.ylabel('Logoff')\n",
    "    plt.title('Результаты поиска аномалий')\n",
    "    plt.show()"
   ]
  },
  {
   "cell_type": "code",
   "execution_count": 28,
   "metadata": {},
   "outputs": [],
   "source": [
    "# user_to_sessions['AAC0070'].columns"
   ]
  },
  {
   "cell_type": "code",
   "execution_count": 20,
   "metadata": {},
   "outputs": [
    {
     "data": {
      "image/png": "[encoded data removed]",
      "text/plain": [
       "<Figure size 1000x700 with 1 Axes>"
      ]
     },
     "metadata": {},
     "output_type": "display_data"
    },
    {
     "data": {
      "text/plain": [
       "Counter({1: 179, -1: 5})"
      ]
     },
     "execution_count": 20,
     "metadata": {},
     "output_type": "execute_result"
    }
   ],
   "source": [
    "from sklearn.cluster import DBSCAN\n",
    "\n",
    "def time_metric(X, Y):\n",
    "    a = min(abs(Y[0] - X[0]),abs(X[0] + 1 - Y[0]))\n",
    "    b = min(abs(Y[1] - X[1]),abs(X[1] + 1 - Y[1]))\n",
    "    return (a * a + b * b) ** 0.5\n",
    "\n",
    "sessions3 = user_to_sessions['ABB0427']\n",
    "df = sessions3.drop(\n",
    "    ['user', 'session_id', 'session_start', 'session_end', 'file_activity',\n",
    "       'file_activity_bool', 'device_activity', 'device_activity_bool'],\n",
    "    axis=1,\n",
    ")\n",
    "\n",
    "db = DBSCAN(eps=0.3, min_samples=7, metric=time_metric).fit(df)\n",
    "\n",
    "draw_anomalies_session_time(df, np.array([-1 if i == -1 else 1 for i in db.labels_]))\n",
    "Counter([-1 if i == -1 else 1 for i in db.labels_])"
   ]
  },
  {
   "cell_type": "code",
   "execution_count": 21,
   "metadata": {},
   "outputs": [
    {
     "data": {
      "image/png": "[encoded data removed]",
      "text/plain": [
       "<Figure size 1000x700 with 1 Axes>"
      ]
     },
     "metadata": {},
     "output_type": "display_data"
    }
   ],
   "source": [
    "df = user_to_sessions['ABB0427'].drop(\n",
    "    ['user', 'session_id', 'session_start', 'session_end', 'file_activity_bool',\n",
    "        'device_activity_bool',\n",
    "       'session_start_rlt', 'session_end_rlt'],\n",
    "    axis=1,\n",
    ")\n",
    "\n",
    "\n",
    "db = DBSCAN(eps=1, min_samples=30, metric=time_metric).fit(df)\n",
    "\n",
    "anomalies = np.array([-1 if i == -1 else 1 for i in db.labels_])\n",
    "plt.figure(figsize=(10, 7))\n",
    "# Точки, предсказанные как обычные\n",
    "plt.scatter(df[anomalies == 1]['file_activity'], df[anomalies == 1]['device_activity'], c='blue', alpha=0.2, label='Обычные точки')\n",
    "# Точки, предсказанные как аномалии\n",
    "plt.scatter(df[anomalies == -1]['file_activity'], df[anomalies == -1]['device_activity'], c='red', alpha=0.2, label='Аномалии')\n",
    "plt.legend()\n",
    "plt.xlabel('file')\n",
    "plt.ylabel('device')\n",
    "plt.title('Результаты поиска аномалий')\n",
    "plt.show()"
   ]
  },
  {
   "cell_type": "code",
   "execution_count": 22,
   "metadata": {},
   "outputs": [],
   "source": [
    "# используем DBSCAN\n",
    "malicios_sessions = set()\n",
    "for user, user_sessions_df in user_to_sessions.items():\n",
    "    df = user_sessions_df.drop(\n",
    "        ['user', 'session_id', 'session_start', 'session_end', 'file_activity',\n",
    "       'file_activity_bool', 'device_activity', 'device_activity_bool'],\n",
    "        axis=1,\n",
    "    )\n",
    "    db = DBSCAN(eps=0.3, min_samples=7, metric=time_metric).fit(df)\n",
    "\n",
    "    for session_id, pred in zip(user_sessions_df['session_id'], db.labels_):\n",
    "        if pred == -1:\n",
    "            malicios_sessions.add(session_id)"
   ]
  },
  {
   "cell_type": "code",
   "execution_count": 23,
   "metadata": {},
   "outputs": [],
   "source": [
    "# используем DBSCAN\n",
    "malicios_sessions1 = set()\n",
    "for user, user_sessions_df in user_to_sessions.items():\n",
    "    df = user_sessions_df.drop(\n",
    "        ['user', 'session_id', 'session_start', 'session_end', 'file_activity',\n",
    "        'device_activity',\n",
    "       'session_start_rlt', 'session_end_rlt'],\n",
    "        axis=1,\n",
    "    )\n",
    "    db = DBSCAN(eps=0.5, min_samples=7).fit(df)\n",
    "\n",
    "    for session_id, pred in zip(user_sessions_df['session_id'], db.labels_):\n",
    "        if pred == -1:\n",
    "            malicios_sessions1.add(session_id)"
   ]
  },
  {
   "cell_type": "code",
   "execution_count": 24,
   "metadata": {},
   "outputs": [
    {
     "data": {
      "text/plain": [
       "{'ABB0427_160', 'ABB0427_163', 'ABB0427_166', 'ABB0427_169', 'ABB0427_172'}"
      ]
     },
     "execution_count": 24,
     "metadata": {},
     "output_type": "execute_result"
    }
   ],
   "source": [
    "malicios_sessions1 & malicios_sessions"
   ]
  },
  {
   "cell_type": "code",
   "execution_count": 25,
   "metadata": {},
   "outputs": [],
   "source": [
    "filtered_sessions_df = sessions_df[sessions_df.apply(lambda x: x['session_id'] in malicios_sessions, axis=1)]"
   ]
  },
  {
   "cell_type": "code",
   "execution_count": 26,
   "metadata": {},
   "outputs": [
    {
     "data": {
      "text/html": [
       "<div>\n",
       "<style scoped>\n",
       "    .dataframe tbody tr th:only-of-type {\n",
       "        vertical-align: middle;\n",
       "    }\n",
       "\n",
       "    .dataframe tbody tr th {\n",
       "        vertical-align: top;\n",
       "    }\n",
       "\n",
       "    .dataframe thead th {\n",
       "        text-align: right;\n",
       "    }\n",
       "</style>\n",
       "<table border=\"1\" class=\"dataframe\">\n",
       "  <thead>\n",
       "    <tr style=\"text-align: right;\">\n",
       "      <th></th>\n",
       "      <th>user</th>\n",
       "      <th>session_id</th>\n",
       "      <th>session_start</th>\n",
       "      <th>session_end</th>\n",
       "      <th>file_activity</th>\n",
       "      <th>file_activity_bool</th>\n",
       "      <th>device_activity</th>\n",
       "      <th>device_activity_bool</th>\n",
       "      <th>session_start_rlt</th>\n",
       "      <th>session_end_rlt</th>\n",
       "    </tr>\n",
       "  </thead>\n",
       "  <tbody>\n",
       "    <tr>\n",
       "      <th>3193</th>\n",
       "      <td>ABB0427</td>\n",
       "      <td>ABB0427_160</td>\n",
       "      <td>2010-08-18T21:20:07</td>\n",
       "      <td>2010-08-19T05:07:48</td>\n",
       "      <td>20</td>\n",
       "      <td>1</td>\n",
       "      <td>10</td>\n",
       "      <td>1</td>\n",
       "      <td>0.888889</td>\n",
       "      <td>0.213194</td>\n",
       "    </tr>\n",
       "    <tr>\n",
       "      <th>3196</th>\n",
       "      <td>ABB0427</td>\n",
       "      <td>ABB0427_163</td>\n",
       "      <td>2010-08-21T05:20:34</td>\n",
       "      <td>2010-08-21T05:53:25</td>\n",
       "      <td>0</td>\n",
       "      <td>0</td>\n",
       "      <td>2</td>\n",
       "      <td>1</td>\n",
       "      <td>0.222222</td>\n",
       "      <td>0.245139</td>\n",
       "    </tr>\n",
       "    <tr>\n",
       "      <th>3199</th>\n",
       "      <td>ABB0427</td>\n",
       "      <td>ABB0427_166</td>\n",
       "      <td>2010-08-25T01:13:17</td>\n",
       "      <td>2010-08-25T03:39:12</td>\n",
       "      <td>11</td>\n",
       "      <td>1</td>\n",
       "      <td>8</td>\n",
       "      <td>1</td>\n",
       "      <td>0.050694</td>\n",
       "      <td>0.152083</td>\n",
       "    </tr>\n",
       "    <tr>\n",
       "      <th>3202</th>\n",
       "      <td>ABB0427</td>\n",
       "      <td>ABB0427_169</td>\n",
       "      <td>2010-08-27T00:19:19</td>\n",
       "      <td>2010-08-27T05:39:51</td>\n",
       "      <td>0</td>\n",
       "      <td>0</td>\n",
       "      <td>2</td>\n",
       "      <td>1</td>\n",
       "      <td>0.013194</td>\n",
       "      <td>0.235417</td>\n",
       "    </tr>\n",
       "    <tr>\n",
       "      <th>3206</th>\n",
       "      <td>ABB0427</td>\n",
       "      <td>ABB0427_172</td>\n",
       "      <td>2010-08-30T19:45:45</td>\n",
       "      <td>2010-08-31T03:17:31</td>\n",
       "      <td>10</td>\n",
       "      <td>1</td>\n",
       "      <td>12</td>\n",
       "      <td>1</td>\n",
       "      <td>0.822917</td>\n",
       "      <td>0.136806</td>\n",
       "    </tr>\n",
       "  </tbody>\n",
       "</table>\n",
       "</div>"
      ],
      "text/plain": [
       "         user   session_id        session_start          session_end  \\\n",
       "3193  ABB0427  ABB0427_160  2010-08-18T21:20:07  2010-08-19T05:07:48   \n",
       "3196  ABB0427  ABB0427_163  2010-08-21T05:20:34  2010-08-21T05:53:25   \n",
       "3199  ABB0427  ABB0427_166  2010-08-25T01:13:17  2010-08-25T03:39:12   \n",
       "3202  ABB0427  ABB0427_169  2010-08-27T00:19:19  2010-08-27T05:39:51   \n",
       "3206  ABB0427  ABB0427_172  2010-08-30T19:45:45  2010-08-31T03:17:31   \n",
       "\n",
       "      file_activity  file_activity_bool  device_activity  \\\n",
       "3193             20                   1               10   \n",
       "3196              0                   0                2   \n",
       "3199             11                   1                8   \n",
       "3202              0                   0                2   \n",
       "3206             10                   1               12   \n",
       "\n",
       "      device_activity_bool  session_start_rlt  session_end_rlt  \n",
       "3193                     1           0.888889         0.213194  \n",
       "3196                     1           0.222222         0.245139  \n",
       "3199                     1           0.050694         0.152083  \n",
       "3202                     1           0.013194         0.235417  \n",
       "3206                     1           0.822917         0.136806  "
      ]
     },
     "execution_count": 26,
     "metadata": {},
     "output_type": "execute_result"
    }
   ],
   "source": [
    "filtered_sessions_df.head()"
   ]
  },
  {
   "cell_type": "code",
   "execution_count": 30,
   "metadata": {},
   "outputs": [
    {
     "ename": "NameError",
     "evalue": "name 'filtered_sessions_df' is not defined",
     "output_type": "error",
     "traceback": [
      "\u001b[0;31m---------------------------------------------------------------------------\u001b[0m",
      "\u001b[0;31mNameError\u001b[0m                                 Traceback (most recent call last)",
      "Cell \u001b[0;32mIn[30], line 1\u001b[0m\n\u001b[0;32m----> 1\u001b[0m \u001b[38;5;28mset\u001b[39m(\u001b[43mfiltered_sessions_df\u001b[49m[\u001b[38;5;124m'\u001b[39m\u001b[38;5;124muser\u001b[39m\u001b[38;5;124m'\u001b[39m])\n",
      "\u001b[0;31mNameError\u001b[0m: name 'filtered_sessions_df' is not defined"
     ]
    }
   ],
   "source": [
    "set(filtered_sessions_df['user'])"
   ]
  },
  {
   "cell_type": "code",
   "execution_count": 27,
   "metadata": {},
   "outputs": [],
   "source": [
    "target_ids = set()\n",
    "\n",
    "with open(ANSWERS_PATH.format(attacker=1)) as f1:\n",
    "    for row in f1.readlines():\n",
    "        if row.strip():\n",
    "            target_ids.add(row.split(',')[1])"
   ]
  },
  {
   "cell_type": "code",
   "execution_count": 28,
   "metadata": {},
   "outputs": [],
   "source": [
    "insider_session_ids = set()\n",
    "\n",
    "for _, row in actions_df.iterrows():\n",
    "    if str(row['id']) in target_ids:\n",
    "        insider_session_ids.add(row['session_id'])"
   ]
  },
  {
   "cell_type": "code",
   "execution_count": 62,
   "metadata": {},
   "outputs": [
    {
     "data": {
      "text/plain": [
       "True"
      ]
     },
     "execution_count": 62,
     "metadata": {},
     "output_type": "execute_result"
    }
   ],
   "source": [
    "insider_session_ids <= malicios_sessions  # инсайдерские сессии есть в выбранных нами?"
   ]
  },
  {
   "cell_type": "code",
   "execution_count": 29,
   "metadata": {},
   "outputs": [
    {
     "name": "stdout",
     "output_type": "stream",
     "text": [
      "ABB0427_163 True\n",
      "ABB0427_169 True\n"
     ]
    }
   ],
   "source": [
    "# для инсайдера CSF0929 все сессии еть\n",
    "# для инсайдера CCH0959 нет, потому что многие из них состоят исключительно из http запросов,\n",
    "# которые на данный момент мы не обрабатывали – сейчас мы его игнорируем\n",
    "\n",
    "for sid in insider_session_ids:\n",
    "    print(sid, sid in malicios_sessions)"
   ]
  },
  {
   "cell_type": "code",
   "execution_count": 64,
   "metadata": {},
   "outputs": [],
   "source": [
    "filtered_actions_df = actions_df[actions_df.apply(lambda x: x['session_id'] in malicios_sessions, axis=1)]"
   ]
  },
  {
   "cell_type": "code",
   "execution_count": 65,
   "metadata": {},
   "outputs": [
    {
     "name": "stderr",
     "output_type": "stream",
     "text": [
      "/tmp/ipykernel_7371/1027974661.py:1: SettingWithCopyWarning: \n",
      "A value is trying to be set on a copy of a slice from a DataFrame.\n",
      "Try using .loc[row_indexer,col_indexer] = value instead\n",
      "\n",
      "See the caveats in the documentation: https://pandas.pydata.org/pandas-docs/stable/user_guide/indexing.html#returning-a-view-versus-a-copy\n",
      "  filtered_actions_df['target'] = filtered_actions_df.apply(lambda x: x['id'] in target_ids, axis=1)\n"
     ]
    }
   ],
   "source": [
    "filtered_actions_df['target'] = filtered_actions_df.apply(lambda x: x['id'] in target_ids, axis=1)"
   ]
  },
  {
   "cell_type": "code",
   "execution_count": 89,
   "metadata": {},
   "outputs": [
    {
     "data": {
      "text/plain": [
       "0.0038475411807142"
      ]
     },
     "execution_count": 89,
     "metadata": {},
     "output_type": "execute_result"
    }
   ],
   "source": [
    "# баланс?\n",
    "filtered_actions_df[filtered_actions_df['target'] == 1].shape[0] / filtered_actions_df.shape[0]"
   ]
  },
  {
   "cell_type": "code",
   "execution_count": 42,
   "metadata": {},
   "outputs": [
    {
     "data": {
      "text/plain": [
       "Index(['id', 'date', 'user', 'pc', 'activity', 'filename', 'content',\n",
       "       'timestamp', 'session_id', 'file_activity', 'device_activity',\n",
       "       'target'],\n",
       "      dtype='object')"
      ]
     },
     "execution_count": 42,
     "metadata": {},
     "output_type": "execute_result"
    }
   ],
   "source": [
    "filtered_actions_df.columns"
   ]
  },
  {
   "cell_type": "code",
   "execution_count": 43,
   "metadata": {},
   "outputs": [],
   "source": [
    "sessions_df.to_csv('../datasets/r3.1-session_df.csv')"
   ]
  },
  {
   "cell_type": "code",
   "execution_count": 88,
   "metadata": {},
   "outputs": [],
   "source": [
    "filtered_actions_df.to_csv('../datasets/r3.1-actions_df_1.csv')"
   ]
  },
  {
   "cell_type": "code",
   "execution_count": 90,
   "metadata": {},
   "outputs": [
    {
     "data": {
      "text/plain": [
       "35"
      ]
     },
     "execution_count": 90,
     "metadata": {},
     "output_type": "execute_result"
    }
   ],
   "source": [
    "len(target_ids)"
   ]
  },
  {
   "cell_type": "code",
   "execution_count": null,
   "metadata": {},
   "outputs": [],
   "source": []
  }
 ],
 "metadata": {
  "kernelspec": {
   "display_name": ".venv",
   "language": "python",
   "name": "python3"
  },
  "language_info": {
   "codemirror_mode": {
    "name": "ipython",
    "version": 3
   },
   "file_extension": ".py",
   "mimetype": "text/x-python",
   "name": "python",
   "nbconvert_exporter": "python",
   "pygments_lexer": "ipython3",
   "version": "3.12.2"
  }
 },
 "nbformat": 4,
 "nbformat_minor": 2
}
