{
 "cells": [
  {
   "cell_type": "code",
   "execution_count": 2,
   "metadata": {},
   "outputs": [],
   "source": [
    "# Command to make `src` module available in notebook\n",
    "# Details: https://stackoverflow.com/a/35273613\n",
    "\n",
    "import os\n",
    "import sys\n",
    "module_path = os.path.abspath(os.path.join('..'))\n",
    "if module_path not in sys.path:\n",
    "    sys.path.append(module_path)\n"
   ]
  },
  {
   "cell_type": "markdown",
   "metadata": {},
   "source": [
    "### Поиск аномалий во времени входа в систему\n",
    "\n",
    "**Гипотезы:** \n",
    "\n",
    "1. Для каждого пользователя существует время его типичного входа в систему. \n",
    "2. То же верно для людей одной профессии\n",
    "\n",
    "Имеет смысл рассматривать время как точку внутри дня и как точку внутри недели"
   ]
  },
  {
   "cell_type": "code",
   "execution_count": 13,
   "metadata": {},
   "outputs": [],
   "source": [
    "from datetime import datetime\n",
    "\n",
    "import numpy as np\n",
    "import pandas as pd\n",
    "import seaborn\n",
    "\n",
    "from src.cert import (\n",
    "    CERTDatasetVersion,\n",
    "    CERTDataType,\n",
    "    CERTDataType,\n",
    "    load_cert_dataset_users_dataframe,\n",
    "    load_dataframe,\n",
    ")\n"
   ]
  },
  {
   "cell_type": "code",
   "execution_count": 4,
   "metadata": {},
   "outputs": [],
   "source": [
    "users = load_cert_dataset_users_dataframe(version=CERTDatasetVersion.cert_3_2)\n",
    "logon_activities = load_dataframe(\n",
    "    data_type=CERTDataType.logon,\n",
    ")\n"
   ]
  },
  {
   "cell_type": "code",
   "execution_count": 10,
   "metadata": {},
   "outputs": [
    {
     "data": {
      "text/html": [
       "<div>\n",
       "<style scoped>\n",
       "    .dataframe tbody tr th:only-of-type {\n",
       "        vertical-align: middle;\n",
       "    }\n",
       "\n",
       "    .dataframe tbody tr th {\n",
       "        vertical-align: top;\n",
       "    }\n",
       "\n",
       "    .dataframe thead th {\n",
       "        text-align: right;\n",
       "    }\n",
       "</style>\n",
       "<table border=\"1\" class=\"dataframe\">\n",
       "  <thead>\n",
       "    <tr style=\"text-align: right;\">\n",
       "      <th></th>\n",
       "      <th>employee_name</th>\n",
       "      <th>user_id</th>\n",
       "      <th>email</th>\n",
       "      <th>role</th>\n",
       "      <th>business_unit</th>\n",
       "      <th>functional_unit</th>\n",
       "      <th>department</th>\n",
       "      <th>team</th>\n",
       "      <th>supervisor</th>\n",
       "    </tr>\n",
       "  </thead>\n",
       "  <tbody>\n",
       "    <tr>\n",
       "      <th>0</th>\n",
       "      <td>Sara Indigo Berger</td>\n",
       "      <td>SIB0825</td>\n",
       "      <td>Sara.Indigo.Berger@dtaa.com</td>\n",
       "      <td>Salesman</td>\n",
       "      <td>1</td>\n",
       "      <td>5 - SalesAndMarketing</td>\n",
       "      <td>2 - Sales</td>\n",
       "      <td>5 - RegionalSales</td>\n",
       "      <td>Regan Kirestin Frye</td>\n",
       "    </tr>\n",
       "    <tr>\n",
       "      <th>1</th>\n",
       "      <td>Nerea Ingrid Good</td>\n",
       "      <td>NIG0433</td>\n",
       "      <td>Nerea.Ingrid.Good@dtaa.com</td>\n",
       "      <td>ProductionLineWorker</td>\n",
       "      <td>1</td>\n",
       "      <td>3 - Manufacturing</td>\n",
       "      <td>3 - Assembly</td>\n",
       "      <td>2 - AssemblyDept</td>\n",
       "      <td>Hilel Colt Rush</td>\n",
       "    </tr>\n",
       "    <tr>\n",
       "      <th>2</th>\n",
       "      <td>Maggy Maryam Newman</td>\n",
       "      <td>MMN0579</td>\n",
       "      <td>Maggy.Maryam.Newman@dtaa.com</td>\n",
       "      <td>Salesman</td>\n",
       "      <td>1</td>\n",
       "      <td>5 - SalesAndMarketing</td>\n",
       "      <td>2 - Sales</td>\n",
       "      <td>3 - RegionalSales</td>\n",
       "      <td>Dorian Dominic Burt</td>\n",
       "    </tr>\n",
       "    <tr>\n",
       "      <th>3</th>\n",
       "      <td>Asher Lucas Daniel</td>\n",
       "      <td>ALD0521</td>\n",
       "      <td>Asher.Lucas.Daniel@dtaa.com</td>\n",
       "      <td>Mathematician</td>\n",
       "      <td>1</td>\n",
       "      <td>2 - ResearchAndEngineering</td>\n",
       "      <td>1 - Research</td>\n",
       "      <td>3 - Lab</td>\n",
       "      <td>Elizabeth Josephine Gay</td>\n",
       "    </tr>\n",
       "    <tr>\n",
       "      <th>4</th>\n",
       "      <td>Jael Phyllis Contreras</td>\n",
       "      <td>JPC0464</td>\n",
       "      <td>Jael.Phyllis.Contreras@dtaa.com</td>\n",
       "      <td>Salesman</td>\n",
       "      <td>1</td>\n",
       "      <td>5 - SalesAndMarketing</td>\n",
       "      <td>2 - Sales</td>\n",
       "      <td>2 - RegionalSales</td>\n",
       "      <td>Brandon Vladimir Vaughan</td>\n",
       "    </tr>\n",
       "  </tbody>\n",
       "</table>\n",
       "</div>"
      ],
      "text/plain": [
       "            employee_name  user_id                            email  \\\n",
       "0      Sara Indigo Berger  SIB0825      Sara.Indigo.Berger@dtaa.com   \n",
       "1       Nerea Ingrid Good  NIG0433       Nerea.Ingrid.Good@dtaa.com   \n",
       "2     Maggy Maryam Newman  MMN0579     Maggy.Maryam.Newman@dtaa.com   \n",
       "3      Asher Lucas Daniel  ALD0521      Asher.Lucas.Daniel@dtaa.com   \n",
       "4  Jael Phyllis Contreras  JPC0464  Jael.Phyllis.Contreras@dtaa.com   \n",
       "\n",
       "                   role  business_unit             functional_unit  \\\n",
       "0              Salesman              1       5 - SalesAndMarketing   \n",
       "1  ProductionLineWorker              1           3 - Manufacturing   \n",
       "2              Salesman              1       5 - SalesAndMarketing   \n",
       "3         Mathematician              1  2 - ResearchAndEngineering   \n",
       "4              Salesman              1       5 - SalesAndMarketing   \n",
       "\n",
       "     department               team                supervisor  \n",
       "0     2 - Sales  5 - RegionalSales       Regan Kirestin Frye  \n",
       "1  3 - Assembly   2 - AssemblyDept           Hilel Colt Rush  \n",
       "2     2 - Sales  3 - RegionalSales       Dorian Dominic Burt  \n",
       "3  1 - Research            3 - Lab   Elizabeth Josephine Gay  \n",
       "4     2 - Sales  2 - RegionalSales  Brandon Vladimir Vaughan  "
      ]
     },
     "execution_count": 10,
     "metadata": {},
     "output_type": "execute_result"
    }
   ],
   "source": [
    "users.head()\n"
   ]
  },
  {
   "cell_type": "code",
   "execution_count": 9,
   "metadata": {},
   "outputs": [],
   "source": [
    "def get_user_logon_activities(activities_df: pd.DataFrame, user: str):\n",
    "    return activities_df.query(f'user == \"{user}\"')\n"
   ]
  },
  {
   "cell_type": "code",
   "execution_count": 11,
   "metadata": {},
   "outputs": [
    {
     "data": {
      "text/html": [
       "<div>\n",
       "<style scoped>\n",
       "    .dataframe tbody tr th:only-of-type {\n",
       "        vertical-align: middle;\n",
       "    }\n",
       "\n",
       "    .dataframe tbody tr th {\n",
       "        vertical-align: top;\n",
       "    }\n",
       "\n",
       "    .dataframe thead th {\n",
       "        text-align: right;\n",
       "    }\n",
       "</style>\n",
       "<table border=\"1\" class=\"dataframe\">\n",
       "  <thead>\n",
       "    <tr style=\"text-align: right;\">\n",
       "      <th></th>\n",
       "      <th>id</th>\n",
       "      <th>date</th>\n",
       "      <th>user</th>\n",
       "      <th>pc</th>\n",
       "      <th>activity</th>\n",
       "    </tr>\n",
       "  </thead>\n",
       "  <tbody>\n",
       "    <tr>\n",
       "      <th>850</th>\n",
       "      <td>{K0I6-D3SZ28ZW-5635ORWA}</td>\n",
       "      <td>01/04/2010 08:02:00</td>\n",
       "      <td>MMN0579</td>\n",
       "      <td>PC-1282</td>\n",
       "      <td>Logon</td>\n",
       "    </tr>\n",
       "    <tr>\n",
       "      <th>2376</th>\n",
       "      <td>{R5N2-C3TV49JG-1388ATNS}</td>\n",
       "      <td>01/04/2010 17:59:00</td>\n",
       "      <td>MMN0579</td>\n",
       "      <td>PC-1282</td>\n",
       "      <td>Logoff</td>\n",
       "    </tr>\n",
       "    <tr>\n",
       "      <th>3113</th>\n",
       "      <td>{N7X4-J5HD39TY-7732QRFA}</td>\n",
       "      <td>01/05/2010 07:45:00</td>\n",
       "      <td>MMN0579</td>\n",
       "      <td>PC-1282</td>\n",
       "      <td>Logon</td>\n",
       "    </tr>\n",
       "    <tr>\n",
       "      <th>4878</th>\n",
       "      <td>{E4I3-T0QP38OP-4942EGKA}</td>\n",
       "      <td>01/05/2010 18:06:00</td>\n",
       "      <td>MMN0579</td>\n",
       "      <td>PC-1282</td>\n",
       "      <td>Logoff</td>\n",
       "    </tr>\n",
       "    <tr>\n",
       "      <th>5693</th>\n",
       "      <td>{H5B9-Z8PW11AI-9622NXBA}</td>\n",
       "      <td>01/06/2010 07:50:00</td>\n",
       "      <td>MMN0579</td>\n",
       "      <td>PC-1282</td>\n",
       "      <td>Logon</td>\n",
       "    </tr>\n",
       "  </tbody>\n",
       "</table>\n",
       "</div>"
      ],
      "text/plain": [
       "                            id                 date     user       pc activity\n",
       "850   {K0I6-D3SZ28ZW-5635ORWA}  01/04/2010 08:02:00  MMN0579  PC-1282    Logon\n",
       "2376  {R5N2-C3TV49JG-1388ATNS}  01/04/2010 17:59:00  MMN0579  PC-1282   Logoff\n",
       "3113  {N7X4-J5HD39TY-7732QRFA}  01/05/2010 07:45:00  MMN0579  PC-1282    Logon\n",
       "4878  {E4I3-T0QP38OP-4942EGKA}  01/05/2010 18:06:00  MMN0579  PC-1282   Logoff\n",
       "5693  {H5B9-Z8PW11AI-9622NXBA}  01/06/2010 07:50:00  MMN0579  PC-1282    Logon"
      ]
     },
     "execution_count": 11,
     "metadata": {},
     "output_type": "execute_result"
    }
   ],
   "source": [
    "get_user_logon_activities(logon_activities, 'MMN0579').head()\n"
   ]
  },
  {
   "cell_type": "code",
   "execution_count": 14,
   "metadata": {},
   "outputs": [],
   "source": [
    "def get_user_logon_vector(\n",
    "    activities_df: pd.DataFrame,\n",
    "    user: str,\n",
    "    with_weekday: bool = False,\n",
    ") -> np.ndarray:\n",
    "    res = np.zeros(24 * 60)  # FIXME use with_weekday\n",
    "    rows = get_user_logon_activities(activities_df, user)\n",
    "    for _, row in rows.iterrows():\n",
    "        timestamp = datetime.strptime(row['date'], '%m/%d/%Y %H:%M:%S')\n",
    "        res[timestamp.hour * 60 + timestamp.minute] += 1\n",
    "    return res\n"
   ]
  },
  {
   "cell_type": "code",
   "execution_count": 20,
   "metadata": {},
   "outputs": [],
   "source": [
    "def show_logon_plot(\n",
    "    activities_df: pd.DataFrame,\n",
    "    user: str,\n",
    "):\n",
    "    vtr = get_user_logon_vector(activities_df, user)\n",
    "    return seaborn.lineplot(vtr)\n"
   ]
  },
  {
   "cell_type": "markdown",
   "metadata": {},
   "source": [
    "Посмотрим, как выглядят графики для людей разных профессий"
   ]
  },
  {
   "cell_type": "code",
   "execution_count": 21,
   "metadata": {},
   "outputs": [
    {
     "name": "stderr",
     "output_type": "stream",
     "text": [
      "/usr/local/lib/python3.10/site-packages/seaborn/_oldcore.py:1498: FutureWarning: is_categorical_dtype is deprecated and will be removed in a future version. Use isinstance(dtype, CategoricalDtype) instead\n",
      "  if pd.api.types.is_categorical_dtype(vector):\n",
      "/usr/local/lib/python3.10/site-packages/seaborn/_oldcore.py:1498: FutureWarning: is_categorical_dtype is deprecated and will be removed in a future version. Use isinstance(dtype, CategoricalDtype) instead\n",
      "  if pd.api.types.is_categorical_dtype(vector):\n",
      "/usr/local/lib/python3.10/site-packages/seaborn/_oldcore.py:1119: FutureWarning: use_inf_as_na option is deprecated and will be removed in a future version. Convert inf values to NaN before operating instead.\n",
      "  with pd.option_context('mode.use_inf_as_na', True):\n",
      "/usr/local/lib/python3.10/site-packages/seaborn/_oldcore.py:1119: FutureWarning: use_inf_as_na option is deprecated and will be removed in a future version. Convert inf values to NaN before operating instead.\n",
      "  with pd.option_context('mode.use_inf_as_na', True):\n"
     ]
    },
    {
     "data": {
      "text/plain": [
       "<AxesSubplot:>"
      ]
     },
     "execution_count": 21,
     "metadata": {},
     "output_type": "execute_result"
    },
    {
     "data": {
      "image/png": "[encoded data removed]",
      "text/plain": [
       "<Figure size 640x480 with 1 Axes>"
      ]
     },
     "metadata": {},
     "output_type": "display_data"
    }
   ],
   "source": [
    "\n",
    "show_logon_plot(logon_activities, 'SIB0825')  # Salesman\n"
   ]
  },
  {
   "cell_type": "code",
   "execution_count": 22,
   "metadata": {},
   "outputs": [
    {
     "name": "stderr",
     "output_type": "stream",
     "text": [
      "/usr/local/lib/python3.10/site-packages/seaborn/_oldcore.py:1498: FutureWarning: is_categorical_dtype is deprecated and will be removed in a future version. Use isinstance(dtype, CategoricalDtype) instead\n",
      "  if pd.api.types.is_categorical_dtype(vector):\n",
      "/usr/local/lib/python3.10/site-packages/seaborn/_oldcore.py:1498: FutureWarning: is_categorical_dtype is deprecated and will be removed in a future version. Use isinstance(dtype, CategoricalDtype) instead\n",
      "  if pd.api.types.is_categorical_dtype(vector):\n",
      "/usr/local/lib/python3.10/site-packages/seaborn/_oldcore.py:1119: FutureWarning: use_inf_as_na option is deprecated and will be removed in a future version. Convert inf values to NaN before operating instead.\n",
      "  with pd.option_context('mode.use_inf_as_na', True):\n",
      "/usr/local/lib/python3.10/site-packages/seaborn/_oldcore.py:1119: FutureWarning: use_inf_as_na option is deprecated and will be removed in a future version. Convert inf values to NaN before operating instead.\n",
      "  with pd.option_context('mode.use_inf_as_na', True):\n"
     ]
    },
    {
     "data": {
      "text/plain": [
       "<AxesSubplot:>"
      ]
     },
     "execution_count": 22,
     "metadata": {},
     "output_type": "execute_result"
    },
    {
     "data": {
      "image/png": "[encoded data removed]",
      "text/plain": [
       "<Figure size 640x480 with 1 Axes>"
      ]
     },
     "metadata": {},
     "output_type": "display_data"
    }
   ],
   "source": [
    "show_logon_plot(logon_activities, 'NIG0433')  # ProductionLineWorker\n"
   ]
  },
  {
   "cell_type": "code",
   "execution_count": 23,
   "metadata": {},
   "outputs": [
    {
     "name": "stderr",
     "output_type": "stream",
     "text": [
      "/usr/local/lib/python3.10/site-packages/seaborn/_oldcore.py:1498: FutureWarning: is_categorical_dtype is deprecated and will be removed in a future version. Use isinstance(dtype, CategoricalDtype) instead\n",
      "  if pd.api.types.is_categorical_dtype(vector):\n",
      "/usr/local/lib/python3.10/site-packages/seaborn/_oldcore.py:1498: FutureWarning: is_categorical_dtype is deprecated and will be removed in a future version. Use isinstance(dtype, CategoricalDtype) instead\n",
      "  if pd.api.types.is_categorical_dtype(vector):\n",
      "/usr/local/lib/python3.10/site-packages/seaborn/_oldcore.py:1119: FutureWarning: use_inf_as_na option is deprecated and will be removed in a future version. Convert inf values to NaN before operating instead.\n",
      "  with pd.option_context('mode.use_inf_as_na', True):\n",
      "/usr/local/lib/python3.10/site-packages/seaborn/_oldcore.py:1119: FutureWarning: use_inf_as_na option is deprecated and will be removed in a future version. Convert inf values to NaN before operating instead.\n",
      "  with pd.option_context('mode.use_inf_as_na', True):\n"
     ]
    },
    {
     "data": {
      "text/plain": [
       "<AxesSubplot:>"
      ]
     },
     "execution_count": 23,
     "metadata": {},
     "output_type": "execute_result"
    },
    {
     "data": {
      "image/png": "[encoded data removed]",
      "text/plain": [
       "<Figure size 640x480 with 1 Axes>"
      ]
     },
     "metadata": {},
     "output_type": "display_data"
    }
   ],
   "source": [
    "show_logon_plot(logon_activities, 'ALD0521')  # Mathematian\n"
   ]
  },
  {
   "cell_type": "code",
   "execution_count": 25,
   "metadata": {},
   "outputs": [
    {
     "name": "stderr",
     "output_type": "stream",
     "text": [
      "/usr/local/lib/python3.10/site-packages/seaborn/_oldcore.py:1498: FutureWarning: is_categorical_dtype is deprecated and will be removed in a future version. Use isinstance(dtype, CategoricalDtype) instead\n",
      "  if pd.api.types.is_categorical_dtype(vector):\n",
      "/usr/local/lib/python3.10/site-packages/seaborn/_oldcore.py:1498: FutureWarning: is_categorical_dtype is deprecated and will be removed in a future version. Use isinstance(dtype, CategoricalDtype) instead\n",
      "  if pd.api.types.is_categorical_dtype(vector):\n",
      "/usr/local/lib/python3.10/site-packages/seaborn/_oldcore.py:1119: FutureWarning: use_inf_as_na option is deprecated and will be removed in a future version. Convert inf values to NaN before operating instead.\n",
      "  with pd.option_context('mode.use_inf_as_na', True):\n",
      "/usr/local/lib/python3.10/site-packages/seaborn/_oldcore.py:1119: FutureWarning: use_inf_as_na option is deprecated and will be removed in a future version. Convert inf values to NaN before operating instead.\n",
      "  with pd.option_context('mode.use_inf_as_na', True):\n"
     ]
    },
    {
     "data": {
      "text/plain": [
       "<AxesSubplot:>"
      ]
     },
     "execution_count": 25,
     "metadata": {},
     "output_type": "execute_result"
    },
    {
     "data": {
      "image/png": "[encoded data removed]",
      "text/plain": [
       "<Figure size 640x480 with 1 Axes>"
      ]
     },
     "metadata": {},
     "output_type": "display_data"
    }
   ],
   "source": [
    "show_logon_plot(logon_activities, 'JCE0258')  # Mathematian\n"
   ]
  },
  {
   "cell_type": "code",
   "execution_count": null,
   "metadata": {},
   "outputs": [],
   "source": []
  }
 ],
 "metadata": {
  "kernelspec": {
   "display_name": "Python 3",
   "language": "python",
   "name": "python3"
  },
  "language_info": {
   "codemirror_mode": {
    "name": "ipython",
    "version": 3
   },
   "file_extension": ".py",
   "mimetype": "text/x-python",
   "name": "python",
   "nbconvert_exporter": "python",
   "pygments_lexer": "ipython3",
   "version": "3.10.6"
  }
 },
 "nbformat": 4,
 "nbformat_minor": 2
}
