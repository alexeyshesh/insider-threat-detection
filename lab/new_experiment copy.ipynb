{
 "cells": [
  {
   "cell_type": "code",
   "execution_count": 1,
   "metadata": {},
   "outputs": [],
   "source": [
    "# Идея: собрать вместе наборы данных и выделить сессии, которые можно считать аномальными\n",
    "# Далее на аномальных сессиях запустить классификатор"
   ]
  },
  {
   "cell_type": "code",
   "execution_count": 3,
   "metadata": {},
   "outputs": [],
   "source": [
    "from collections import defaultdict, Counter\n",
    "from datetime import datetime\n",
    "\n",
    "import pandas as pd\n",
    "from sklearn.svm import OneClassSVM\n",
    "from sklearn.preprocessing import StandardScaler\n",
    "import matplotlib.pyplot as plt\n",
    "\n",
    "\n",
    "import numpy as np\n",
    "import math\n",
    "\n",
    "\n",
    "DATASET_VERSION = '3.1'\n",
    "DATA_PATH = f'../data/r{DATASET_VERSION}/{{type}}.csv'\n",
    "ANSWERS_PATH = f'../data/answers/r{DATASET_VERSION}-{{attacker}}.csv'\n",
    "DATE_FORMAT = '%Y-%m-%dT%H:%M:%S'"
   ]
  },
  {
   "cell_type": "code",
   "execution_count": 4,
   "metadata": {},
   "outputs": [],
   "source": [
    "def dt(timestamp: str) -> datetime:\n",
    "    return datetime.strptime(timestamp, '%m/%d/%Y %H:%M:%S')"
   ]
  },
  {
   "cell_type": "code",
   "execution_count": 5,
   "metadata": {},
   "outputs": [],
   "source": [
    "# Шаги:\n",
    "# 1. Взять logon.csv и получить ID, время начлаа и конца всех сессий.\n",
    "# 2. Взять среднее время первого входа и последнего выхода каждого сотрудника за первые три месяца, чтобы получить продолжительность рабочего дня\n",
    "# 3. Добавить к данным о сессиях, в рабочее время они происходили или нет (не в рабочее – если сессия закначивалась до начала рабочего дня или начаналась после)\n",
    "# 4. Склеить действия из device и file, проставить сессии и рабочее / нерабочее время\n",
    "# 5. Получить агрегатные данные по сессиям (сколько раз подключалось устройство, сколько было открыто файлов)\n",
    "# 6. За первые штри месяца посчитать средние и отклонения от них в процентах (0..1)\n",
    "# 7. Запустить OCSVM на сессиях каждого пользователя и выбрать аномальные сессии\n",
    "# 8. Отфильтровать данные по аномальным сессиям"
   ]
  },
  {
   "cell_type": "code",
   "execution_count": 6,
   "metadata": {},
   "outputs": [],
   "source": [
    "logon_df = pd.read_csv(DATA_PATH.format(type='logon'))"
   ]
  },
  {
   "cell_type": "code",
   "execution_count": 7,
   "metadata": {},
   "outputs": [
    {
     "data": {
      "text/html": [
       "<div>\n",
       "<style scoped>\n",
       "    .dataframe tbody tr th:only-of-type {\n",
       "        vertical-align: middle;\n",
       "    }\n",
       "\n",
       "    .dataframe tbody tr th {\n",
       "        vertical-align: top;\n",
       "    }\n",
       "\n",
       "    .dataframe thead th {\n",
       "        text-align: right;\n",
       "    }\n",
       "</style>\n",
       "<table border=\"1\" class=\"dataframe\">\n",
       "  <thead>\n",
       "    <tr style=\"text-align: right;\">\n",
       "      <th></th>\n",
       "      <th>id</th>\n",
       "      <th>date</th>\n",
       "      <th>user</th>\n",
       "      <th>pc</th>\n",
       "      <th>activity</th>\n",
       "    </tr>\n",
       "  </thead>\n",
       "  <tbody>\n",
       "    <tr>\n",
       "      <th>0</th>\n",
       "      <td>{S7X6-Z2CH44WU-9256VRTB}</td>\n",
       "      <td>01/02/2010 06:34:00</td>\n",
       "      <td>EBH0519</td>\n",
       "      <td>PC-9573</td>\n",
       "      <td>Logon</td>\n",
       "    </tr>\n",
       "    <tr>\n",
       "      <th>1</th>\n",
       "      <td>{M5W6-F9WM86XO-3622DJWW}</td>\n",
       "      <td>01/02/2010 06:46:00</td>\n",
       "      <td>LAD0514</td>\n",
       "      <td>PC-2567</td>\n",
       "      <td>Logon</td>\n",
       "    </tr>\n",
       "    <tr>\n",
       "      <th>2</th>\n",
       "      <td>{R4Y8-R9YR54PS-5374OMSK}</td>\n",
       "      <td>01/02/2010 06:51:00</td>\n",
       "      <td>YXG0504</td>\n",
       "      <td>PC-4312</td>\n",
       "      <td>Logon</td>\n",
       "    </tr>\n",
       "    <tr>\n",
       "      <th>3</th>\n",
       "      <td>{Y1V9-F6VO51FN-3329IZSD}</td>\n",
       "      <td>01/02/2010 07:06:00</td>\n",
       "      <td>JBV0604</td>\n",
       "      <td>PC-3756</td>\n",
       "      <td>Logon</td>\n",
       "    </tr>\n",
       "    <tr>\n",
       "      <th>4</th>\n",
       "      <td>{L3N1-D2YO72AX-3581SMQX}</td>\n",
       "      <td>01/02/2010 07:06:00</td>\n",
       "      <td>NLR0174</td>\n",
       "      <td>PC-8272</td>\n",
       "      <td>Logon</td>\n",
       "    </tr>\n",
       "  </tbody>\n",
       "</table>\n",
       "</div>"
      ],
      "text/plain": [
       "                         id                 date     user       pc activity\n",
       "0  {S7X6-Z2CH44WU-9256VRTB}  01/02/2010 06:34:00  EBH0519  PC-9573    Logon\n",
       "1  {M5W6-F9WM86XO-3622DJWW}  01/02/2010 06:46:00  LAD0514  PC-2567    Logon\n",
       "2  {R4Y8-R9YR54PS-5374OMSK}  01/02/2010 06:51:00  YXG0504  PC-4312    Logon\n",
       "3  {Y1V9-F6VO51FN-3329IZSD}  01/02/2010 07:06:00  JBV0604  PC-3756    Logon\n",
       "4  {L3N1-D2YO72AX-3581SMQX}  01/02/2010 07:06:00  NLR0174  PC-8272    Logon"
      ]
     },
     "execution_count": 7,
     "metadata": {},
     "output_type": "execute_result"
    }
   ],
   "source": [
    "logon_df.head()"
   ]
  },
  {
   "cell_type": "code",
   "execution_count": 8,
   "metadata": {},
   "outputs": [],
   "source": [
    "sessions = defaultdict(list)\n",
    "\n",
    "for _, row in logon_df.iterrows():\n",
    "    user = row['user']\n",
    "    ts = dt(row['date'])\n",
    "    action = row['activity']\n",
    "\n",
    "    if action == 'Logon':\n",
    "        if sessions[user] and len(sessions[user][-1]) == 1:\n",
    "            sessions[user][-1] = (sessions[user][-1][0], ts)\n",
    "        sessions[user].append((ts,))\n",
    "    else:\n",
    "        if sessions[user] and len(sessions[user][-1]) == 2:\n",
    "            sessions[user].append((None, ts))\n",
    "        else:\n",
    "            sessions[user][-1] = (sessions[user][-1][0], ts)\n",
    "\n"
   ]
  },
  {
   "cell_type": "code",
   "execution_count": 9,
   "metadata": {},
   "outputs": [],
   "source": [
    "actions_df = pd.concat(\n",
    "    [\n",
    "        logon_df,\n",
    "        pd.read_csv(DATA_PATH.format(type='file')),\n",
    "        pd.read_csv(DATA_PATH.format(type='device')),\n",
    "    ],\n",
    "    axis=0,\n",
    "    ignore_index=True,\n",
    ")"
   ]
  },
  {
   "cell_type": "code",
   "execution_count": 10,
   "metadata": {},
   "outputs": [],
   "source": [
    "actions_df['timestamp'] = actions_df.apply(lambda x: dt(x['date']).strftime('%Y-%m-%dT%H:%M:%S'), axis=1)"
   ]
  },
  {
   "cell_type": "code",
   "execution_count": 11,
   "metadata": {},
   "outputs": [],
   "source": [
    "actions_df = actions_df.sort_values(by='timestamp')"
   ]
  },
  {
   "cell_type": "code",
   "execution_count": 12,
   "metadata": {},
   "outputs": [],
   "source": [
    "def get_session_id(user: str, timestamp: datetime) -> str:\n",
    "    for idx, (from_, to_) in enumerate(sessions[user]):\n",
    "        if from_ is not None and (from_ <= timestamp <= to_):\n",
    "            return f'{user}_{idx}'\n",
    "        if from_ is None and to_ > timestamp:\n",
    "            return f'{user}_{idx}'\n",
    "\n",
    "actions_df['session_id'] = actions_df.apply(lambda x: get_session_id(x['user'], dt(x['date'])), axis=1)"
   ]
  },
  {
   "cell_type": "code",
   "execution_count": 13,
   "metadata": {},
   "outputs": [],
   "source": [
    "actions_df['filename'] = actions_df['filename'].fillna('')\n",
    "\n",
    "actions_df['file_activity'] = actions_df.apply(lambda x: int(bool(x['filename'])), axis=1)\n",
    "actions_df['device_activity'] = actions_df.apply(lambda x: int(x['activity'] in {'Connect', 'Disconnect'}), axis=1)"
   ]
  },
  {
   "cell_type": "code",
   "execution_count": 14,
   "metadata": {},
   "outputs": [
    {
     "data": {
      "text/html": [
       "<div>\n",
       "<style scoped>\n",
       "    .dataframe tbody tr th:only-of-type {\n",
       "        vertical-align: middle;\n",
       "    }\n",
       "\n",
       "    .dataframe tbody tr th {\n",
       "        vertical-align: top;\n",
       "    }\n",
       "\n",
       "    .dataframe thead th {\n",
       "        text-align: right;\n",
       "    }\n",
       "</style>\n",
       "<table border=\"1\" class=\"dataframe\">\n",
       "  <thead>\n",
       "    <tr style=\"text-align: right;\">\n",
       "      <th></th>\n",
       "      <th>id</th>\n",
       "      <th>date</th>\n",
       "      <th>user</th>\n",
       "      <th>pc</th>\n",
       "      <th>activity</th>\n",
       "      <th>filename</th>\n",
       "      <th>content</th>\n",
       "      <th>timestamp</th>\n",
       "      <th>session_id</th>\n",
       "      <th>file_activity</th>\n",
       "      <th>device_activity</th>\n",
       "    </tr>\n",
       "  </thead>\n",
       "  <tbody>\n",
       "    <tr>\n",
       "      <th>0</th>\n",
       "      <td>{S7X6-Z2CH44WU-9256VRTB}</td>\n",
       "      <td>01/02/2010 06:34:00</td>\n",
       "      <td>EBH0519</td>\n",
       "      <td>PC-9573</td>\n",
       "      <td>Logon</td>\n",
       "      <td></td>\n",
       "      <td>NaN</td>\n",
       "      <td>2010-01-02T06:34:00</td>\n",
       "      <td>EBH0519_0</td>\n",
       "      <td>0</td>\n",
       "      <td>0</td>\n",
       "    </tr>\n",
       "    <tr>\n",
       "      <th>1</th>\n",
       "      <td>{M5W6-F9WM86XO-3622DJWW}</td>\n",
       "      <td>01/02/2010 06:46:00</td>\n",
       "      <td>LAD0514</td>\n",
       "      <td>PC-2567</td>\n",
       "      <td>Logon</td>\n",
       "      <td></td>\n",
       "      <td>NaN</td>\n",
       "      <td>2010-01-02T06:46:00</td>\n",
       "      <td>LAD0514_0</td>\n",
       "      <td>0</td>\n",
       "      <td>0</td>\n",
       "    </tr>\n",
       "    <tr>\n",
       "      <th>2</th>\n",
       "      <td>{R4Y8-R9YR54PS-5374OMSK}</td>\n",
       "      <td>01/02/2010 06:51:00</td>\n",
       "      <td>YXG0504</td>\n",
       "      <td>PC-4312</td>\n",
       "      <td>Logon</td>\n",
       "      <td></td>\n",
       "      <td>NaN</td>\n",
       "      <td>2010-01-02T06:51:00</td>\n",
       "      <td>YXG0504_0</td>\n",
       "      <td>0</td>\n",
       "      <td>0</td>\n",
       "    </tr>\n",
       "    <tr>\n",
       "      <th>3</th>\n",
       "      <td>{Y1V9-F6VO51FN-3329IZSD}</td>\n",
       "      <td>01/02/2010 07:06:00</td>\n",
       "      <td>JBV0604</td>\n",
       "      <td>PC-3756</td>\n",
       "      <td>Logon</td>\n",
       "      <td></td>\n",
       "      <td>NaN</td>\n",
       "      <td>2010-01-02T07:06:00</td>\n",
       "      <td>JBV0604_0</td>\n",
       "      <td>0</td>\n",
       "      <td>0</td>\n",
       "    </tr>\n",
       "    <tr>\n",
       "      <th>4</th>\n",
       "      <td>{L3N1-D2YO72AX-3581SMQX}</td>\n",
       "      <td>01/02/2010 07:06:00</td>\n",
       "      <td>NLR0174</td>\n",
       "      <td>PC-8272</td>\n",
       "      <td>Logon</td>\n",
       "      <td></td>\n",
       "      <td>NaN</td>\n",
       "      <td>2010-01-02T07:06:00</td>\n",
       "      <td>NLR0174_0</td>\n",
       "      <td>0</td>\n",
       "      <td>0</td>\n",
       "    </tr>\n",
       "  </tbody>\n",
       "</table>\n",
       "</div>"
      ],
      "text/plain": [
       "                         id                 date     user       pc activity  \\\n",
       "0  {S7X6-Z2CH44WU-9256VRTB}  01/02/2010 06:34:00  EBH0519  PC-9573    Logon   \n",
       "1  {M5W6-F9WM86XO-3622DJWW}  01/02/2010 06:46:00  LAD0514  PC-2567    Logon   \n",
       "2  {R4Y8-R9YR54PS-5374OMSK}  01/02/2010 06:51:00  YXG0504  PC-4312    Logon   \n",
       "3  {Y1V9-F6VO51FN-3329IZSD}  01/02/2010 07:06:00  JBV0604  PC-3756    Logon   \n",
       "4  {L3N1-D2YO72AX-3581SMQX}  01/02/2010 07:06:00  NLR0174  PC-8272    Logon   \n",
       "\n",
       "  filename content            timestamp session_id  file_activity  \\\n",
       "0              NaN  2010-01-02T06:34:00  EBH0519_0              0   \n",
       "1              NaN  2010-01-02T06:46:00  LAD0514_0              0   \n",
       "2              NaN  2010-01-02T06:51:00  YXG0504_0              0   \n",
       "3              NaN  2010-01-02T07:06:00  JBV0604_0              0   \n",
       "4              NaN  2010-01-02T07:06:00  NLR0174_0              0   \n",
       "\n",
       "   device_activity  \n",
       "0                0  \n",
       "1                0  \n",
       "2                0  \n",
       "3                0  \n",
       "4                0  "
      ]
     },
     "execution_count": 14,
     "metadata": {},
     "output_type": "execute_result"
    }
   ],
   "source": [
    "actions_df.head()"
   ]
  },
  {
   "cell_type": "code",
   "execution_count": 15,
   "metadata": {},
   "outputs": [],
   "source": [
    "sessions_df = actions_df.groupby(['user', 'session_id']).agg({'timestamp': ['min', 'max'], 'file_activity': ['sum', 'max'], 'device_activity': ['sum', 'max']}).reset_index()"
   ]
  },
  {
   "cell_type": "code",
   "execution_count": 16,
   "metadata": {},
   "outputs": [],
   "source": [
    "sessions_df.columns = ['user', 'session_id', 'session_start', 'session_end', 'file_activity', 'file_activity_bool', 'device_activity', 'device_activity_bool']"
   ]
  },
  {
   "cell_type": "code",
   "execution_count": 17,
   "metadata": {},
   "outputs": [
    {
     "data": {
      "text/html": [
       "<div>\n",
       "<style scoped>\n",
       "    .dataframe tbody tr th:only-of-type {\n",
       "        vertical-align: middle;\n",
       "    }\n",
       "\n",
       "    .dataframe tbody tr th {\n",
       "        vertical-align: top;\n",
       "    }\n",
       "\n",
       "    .dataframe thead th {\n",
       "        text-align: right;\n",
       "    }\n",
       "</style>\n",
       "<table border=\"1\" class=\"dataframe\">\n",
       "  <thead>\n",
       "    <tr style=\"text-align: right;\">\n",
       "      <th></th>\n",
       "      <th>user</th>\n",
       "      <th>session_id</th>\n",
       "      <th>session_start</th>\n",
       "      <th>session_end</th>\n",
       "      <th>file_activity</th>\n",
       "      <th>file_activity_bool</th>\n",
       "      <th>device_activity</th>\n",
       "      <th>device_activity_bool</th>\n",
       "    </tr>\n",
       "  </thead>\n",
       "  <tbody>\n",
       "    <tr>\n",
       "      <th>0</th>\n",
       "      <td>AAC0070</td>\n",
       "      <td>AAC0070_0</td>\n",
       "      <td>2010-01-04T07:23:00</td>\n",
       "      <td>2010-01-04T18:41:00</td>\n",
       "      <td>0</td>\n",
       "      <td>0</td>\n",
       "      <td>0</td>\n",
       "      <td>0</td>\n",
       "    </tr>\n",
       "    <tr>\n",
       "      <th>1</th>\n",
       "      <td>AAC0070</td>\n",
       "      <td>AAC0070_1</td>\n",
       "      <td>2010-01-05T07:16:00</td>\n",
       "      <td>2010-01-05T18:43:00</td>\n",
       "      <td>0</td>\n",
       "      <td>0</td>\n",
       "      <td>0</td>\n",
       "      <td>0</td>\n",
       "    </tr>\n",
       "    <tr>\n",
       "      <th>2</th>\n",
       "      <td>AAC0070</td>\n",
       "      <td>AAC0070_10</td>\n",
       "      <td>2010-01-18T07:31:00</td>\n",
       "      <td>2010-01-18T18:30:00</td>\n",
       "      <td>0</td>\n",
       "      <td>0</td>\n",
       "      <td>0</td>\n",
       "      <td>0</td>\n",
       "    </tr>\n",
       "    <tr>\n",
       "      <th>3</th>\n",
       "      <td>AAC0070</td>\n",
       "      <td>AAC0070_100</td>\n",
       "      <td>2010-05-25T07:30:00</td>\n",
       "      <td>2010-05-25T18:36:00</td>\n",
       "      <td>0</td>\n",
       "      <td>0</td>\n",
       "      <td>0</td>\n",
       "      <td>0</td>\n",
       "    </tr>\n",
       "    <tr>\n",
       "      <th>4</th>\n",
       "      <td>AAC0070</td>\n",
       "      <td>AAC0070_101</td>\n",
       "      <td>2010-05-26T07:25:00</td>\n",
       "      <td>2010-05-26T18:40:00</td>\n",
       "      <td>0</td>\n",
       "      <td>0</td>\n",
       "      <td>0</td>\n",
       "      <td>0</td>\n",
       "    </tr>\n",
       "  </tbody>\n",
       "</table>\n",
       "</div>"
      ],
      "text/plain": [
       "      user   session_id        session_start          session_end  \\\n",
       "0  AAC0070    AAC0070_0  2010-01-04T07:23:00  2010-01-04T18:41:00   \n",
       "1  AAC0070    AAC0070_1  2010-01-05T07:16:00  2010-01-05T18:43:00   \n",
       "2  AAC0070   AAC0070_10  2010-01-18T07:31:00  2010-01-18T18:30:00   \n",
       "3  AAC0070  AAC0070_100  2010-05-25T07:30:00  2010-05-25T18:36:00   \n",
       "4  AAC0070  AAC0070_101  2010-05-26T07:25:00  2010-05-26T18:40:00   \n",
       "\n",
       "   file_activity  file_activity_bool  device_activity  device_activity_bool  \n",
       "0              0                   0                0                     0  \n",
       "1              0                   0                0                     0  \n",
       "2              0                   0                0                     0  \n",
       "3              0                   0                0                     0  \n",
       "4              0                   0                0                     0  "
      ]
     },
     "execution_count": 17,
     "metadata": {},
     "output_type": "execute_result"
    }
   ],
   "source": [
    "sessions_df.head()"
   ]
  },
  {
   "cell_type": "code",
   "execution_count": 18,
   "metadata": {},
   "outputs": [
    {
     "data": {
      "text/html": [
       "<div>\n",
       "<style scoped>\n",
       "    .dataframe tbody tr th:only-of-type {\n",
       "        vertical-align: middle;\n",
       "    }\n",
       "\n",
       "    .dataframe tbody tr th {\n",
       "        vertical-align: top;\n",
       "    }\n",
       "\n",
       "    .dataframe thead th {\n",
       "        text-align: right;\n",
       "    }\n",
       "</style>\n",
       "<table border=\"1\" class=\"dataframe\">\n",
       "  <thead>\n",
       "    <tr style=\"text-align: right;\">\n",
       "      <th></th>\n",
       "      <th>user</th>\n",
       "      <th>session_id</th>\n",
       "      <th>session_start</th>\n",
       "      <th>session_end</th>\n",
       "      <th>file_activity</th>\n",
       "      <th>file_activity_bool</th>\n",
       "      <th>device_activity</th>\n",
       "      <th>device_activity_bool</th>\n",
       "      <th>session_start_rlt</th>\n",
       "      <th>session_end_rlt</th>\n",
       "    </tr>\n",
       "  </thead>\n",
       "  <tbody>\n",
       "    <tr>\n",
       "      <th>0</th>\n",
       "      <td>AAC0070</td>\n",
       "      <td>AAC0070_0</td>\n",
       "      <td>2010-01-04T07:23:00</td>\n",
       "      <td>2010-01-04T18:41:00</td>\n",
       "      <td>0</td>\n",
       "      <td>0</td>\n",
       "      <td>0</td>\n",
       "      <td>0</td>\n",
       "      <td>0.307639</td>\n",
       "      <td>0.778472</td>\n",
       "    </tr>\n",
       "    <tr>\n",
       "      <th>1</th>\n",
       "      <td>AAC0070</td>\n",
       "      <td>AAC0070_1</td>\n",
       "      <td>2010-01-05T07:16:00</td>\n",
       "      <td>2010-01-05T18:43:00</td>\n",
       "      <td>0</td>\n",
       "      <td>0</td>\n",
       "      <td>0</td>\n",
       "      <td>0</td>\n",
       "      <td>0.302778</td>\n",
       "      <td>0.779861</td>\n",
       "    </tr>\n",
       "    <tr>\n",
       "      <th>2</th>\n",
       "      <td>AAC0070</td>\n",
       "      <td>AAC0070_10</td>\n",
       "      <td>2010-01-18T07:31:00</td>\n",
       "      <td>2010-01-18T18:30:00</td>\n",
       "      <td>0</td>\n",
       "      <td>0</td>\n",
       "      <td>0</td>\n",
       "      <td>0</td>\n",
       "      <td>0.313194</td>\n",
       "      <td>0.770833</td>\n",
       "    </tr>\n",
       "    <tr>\n",
       "      <th>3</th>\n",
       "      <td>AAC0070</td>\n",
       "      <td>AAC0070_100</td>\n",
       "      <td>2010-05-25T07:30:00</td>\n",
       "      <td>2010-05-25T18:36:00</td>\n",
       "      <td>0</td>\n",
       "      <td>0</td>\n",
       "      <td>0</td>\n",
       "      <td>0</td>\n",
       "      <td>0.312500</td>\n",
       "      <td>0.775000</td>\n",
       "    </tr>\n",
       "    <tr>\n",
       "      <th>4</th>\n",
       "      <td>AAC0070</td>\n",
       "      <td>AAC0070_101</td>\n",
       "      <td>2010-05-26T07:25:00</td>\n",
       "      <td>2010-05-26T18:40:00</td>\n",
       "      <td>0</td>\n",
       "      <td>0</td>\n",
       "      <td>0</td>\n",
       "      <td>0</td>\n",
       "      <td>0.309028</td>\n",
       "      <td>0.777778</td>\n",
       "    </tr>\n",
       "  </tbody>\n",
       "</table>\n",
       "</div>"
      ],
      "text/plain": [
       "      user   session_id        session_start          session_end  \\\n",
       "0  AAC0070    AAC0070_0  2010-01-04T07:23:00  2010-01-04T18:41:00   \n",
       "1  AAC0070    AAC0070_1  2010-01-05T07:16:00  2010-01-05T18:43:00   \n",
       "2  AAC0070   AAC0070_10  2010-01-18T07:31:00  2010-01-18T18:30:00   \n",
       "3  AAC0070  AAC0070_100  2010-05-25T07:30:00  2010-05-25T18:36:00   \n",
       "4  AAC0070  AAC0070_101  2010-05-26T07:25:00  2010-05-26T18:40:00   \n",
       "\n",
       "   file_activity  file_activity_bool  device_activity  device_activity_bool  \\\n",
       "0              0                   0                0                     0   \n",
       "1              0                   0                0                     0   \n",
       "2              0                   0                0                     0   \n",
       "3              0                   0                0                     0   \n",
       "4              0                   0                0                     0   \n",
       "\n",
       "   session_start_rlt  session_end_rlt  \n",
       "0           0.307639         0.778472  \n",
       "1           0.302778         0.779861  \n",
       "2           0.313194         0.770833  \n",
       "3           0.312500         0.775000  \n",
       "4           0.309028         0.777778  "
      ]
     },
     "execution_count": 18,
     "metadata": {},
     "output_type": "execute_result"
    }
   ],
   "source": [
    "def timestamp_to_minutes(timestamp: datetime) -> int:\n",
    "    return (timestamp.hour * 60 + timestamp.minute) / (60 * 24)\n",
    "\n",
    "sessions_df['session_start_rlt'] = sessions_df.apply(\n",
    "    lambda x: timestamp_to_minutes(datetime.strptime(x['session_start'], DATE_FORMAT)),\n",
    "    axis=1,\n",
    ")\n",
    "sessions_df['session_end_rlt'] = sessions_df.apply(\n",
    "    lambda x: timestamp_to_minutes(datetime.strptime(x['session_end'], DATE_FORMAT)),\n",
    "    axis=1,\n",
    ")\n",
    "\n",
    "sessions_df.head()"
   ]
  },
  {
   "cell_type": "code",
   "execution_count": 19,
   "metadata": {},
   "outputs": [],
   "source": [
    "user_to_sessions = {\n",
    "    user: sessions_df[sessions_df['user'] == user]\n",
    "    for user in set(sessions_df['user'])\n",
    "}"
   ]
  },
  {
   "cell_type": "code",
   "execution_count": 20,
   "metadata": {},
   "outputs": [
    {
     "data": {
      "text/html": [
       "<div>\n",
       "<style scoped>\n",
       "    .dataframe tbody tr th:only-of-type {\n",
       "        vertical-align: middle;\n",
       "    }\n",
       "\n",
       "    .dataframe tbody tr th {\n",
       "        vertical-align: top;\n",
       "    }\n",
       "\n",
       "    .dataframe thead th {\n",
       "        text-align: right;\n",
       "    }\n",
       "</style>\n",
       "<table border=\"1\" class=\"dataframe\">\n",
       "  <thead>\n",
       "    <tr style=\"text-align: right;\">\n",
       "      <th></th>\n",
       "      <th>user</th>\n",
       "      <th>session_id</th>\n",
       "      <th>session_start</th>\n",
       "      <th>session_end</th>\n",
       "      <th>file_activity</th>\n",
       "      <th>file_activity_bool</th>\n",
       "      <th>device_activity</th>\n",
       "      <th>device_activity_bool</th>\n",
       "      <th>session_start_rlt</th>\n",
       "      <th>session_end_rlt</th>\n",
       "    </tr>\n",
       "  </thead>\n",
       "  <tbody>\n",
       "    <tr>\n",
       "      <th>0</th>\n",
       "      <td>AAC0070</td>\n",
       "      <td>AAC0070_0</td>\n",
       "      <td>2010-01-04T07:23:00</td>\n",
       "      <td>2010-01-04T18:41:00</td>\n",
       "      <td>0</td>\n",
       "      <td>0</td>\n",
       "      <td>0</td>\n",
       "      <td>0</td>\n",
       "      <td>0.307639</td>\n",
       "      <td>0.778472</td>\n",
       "    </tr>\n",
       "    <tr>\n",
       "      <th>1</th>\n",
       "      <td>AAC0070</td>\n",
       "      <td>AAC0070_1</td>\n",
       "      <td>2010-01-05T07:16:00</td>\n",
       "      <td>2010-01-05T18:43:00</td>\n",
       "      <td>0</td>\n",
       "      <td>0</td>\n",
       "      <td>0</td>\n",
       "      <td>0</td>\n",
       "      <td>0.302778</td>\n",
       "      <td>0.779861</td>\n",
       "    </tr>\n",
       "    <tr>\n",
       "      <th>2</th>\n",
       "      <td>AAC0070</td>\n",
       "      <td>AAC0070_10</td>\n",
       "      <td>2010-01-18T07:31:00</td>\n",
       "      <td>2010-01-18T18:30:00</td>\n",
       "      <td>0</td>\n",
       "      <td>0</td>\n",
       "      <td>0</td>\n",
       "      <td>0</td>\n",
       "      <td>0.313194</td>\n",
       "      <td>0.770833</td>\n",
       "    </tr>\n",
       "    <tr>\n",
       "      <th>3</th>\n",
       "      <td>AAC0070</td>\n",
       "      <td>AAC0070_100</td>\n",
       "      <td>2010-05-25T07:30:00</td>\n",
       "      <td>2010-05-25T18:36:00</td>\n",
       "      <td>0</td>\n",
       "      <td>0</td>\n",
       "      <td>0</td>\n",
       "      <td>0</td>\n",
       "      <td>0.312500</td>\n",
       "      <td>0.775000</td>\n",
       "    </tr>\n",
       "    <tr>\n",
       "      <th>4</th>\n",
       "      <td>AAC0070</td>\n",
       "      <td>AAC0070_101</td>\n",
       "      <td>2010-05-26T07:25:00</td>\n",
       "      <td>2010-05-26T18:40:00</td>\n",
       "      <td>0</td>\n",
       "      <td>0</td>\n",
       "      <td>0</td>\n",
       "      <td>0</td>\n",
       "      <td>0.309028</td>\n",
       "      <td>0.777778</td>\n",
       "    </tr>\n",
       "    <tr>\n",
       "      <th>...</th>\n",
       "      <td>...</td>\n",
       "      <td>...</td>\n",
       "      <td>...</td>\n",
       "      <td>...</td>\n",
       "      <td>...</td>\n",
       "      <td>...</td>\n",
       "      <td>...</td>\n",
       "      <td>...</td>\n",
       "      <td>...</td>\n",
       "      <td>...</td>\n",
       "    </tr>\n",
       "    <tr>\n",
       "      <th>340</th>\n",
       "      <td>AAC0070</td>\n",
       "      <td>AAC0070_95</td>\n",
       "      <td>2010-05-18T07:32:00</td>\n",
       "      <td>2010-05-18T18:44:00</td>\n",
       "      <td>0</td>\n",
       "      <td>0</td>\n",
       "      <td>0</td>\n",
       "      <td>0</td>\n",
       "      <td>0.313889</td>\n",
       "      <td>0.780556</td>\n",
       "    </tr>\n",
       "    <tr>\n",
       "      <th>341</th>\n",
       "      <td>AAC0070</td>\n",
       "      <td>AAC0070_96</td>\n",
       "      <td>2010-05-19T07:16:00</td>\n",
       "      <td>2010-05-19T18:28:00</td>\n",
       "      <td>0</td>\n",
       "      <td>0</td>\n",
       "      <td>0</td>\n",
       "      <td>0</td>\n",
       "      <td>0.302778</td>\n",
       "      <td>0.769444</td>\n",
       "    </tr>\n",
       "    <tr>\n",
       "      <th>342</th>\n",
       "      <td>AAC0070</td>\n",
       "      <td>AAC0070_97</td>\n",
       "      <td>2010-05-20T07:32:00</td>\n",
       "      <td>2010-05-20T18:30:00</td>\n",
       "      <td>0</td>\n",
       "      <td>0</td>\n",
       "      <td>0</td>\n",
       "      <td>0</td>\n",
       "      <td>0.313889</td>\n",
       "      <td>0.770833</td>\n",
       "    </tr>\n",
       "    <tr>\n",
       "      <th>343</th>\n",
       "      <td>AAC0070</td>\n",
       "      <td>AAC0070_98</td>\n",
       "      <td>2010-05-21T07:23:00</td>\n",
       "      <td>2010-05-21T18:28:00</td>\n",
       "      <td>0</td>\n",
       "      <td>0</td>\n",
       "      <td>0</td>\n",
       "      <td>0</td>\n",
       "      <td>0.307639</td>\n",
       "      <td>0.769444</td>\n",
       "    </tr>\n",
       "    <tr>\n",
       "      <th>344</th>\n",
       "      <td>AAC0070</td>\n",
       "      <td>AAC0070_99</td>\n",
       "      <td>2010-05-24T07:20:00</td>\n",
       "      <td>2010-05-24T18:43:00</td>\n",
       "      <td>0</td>\n",
       "      <td>0</td>\n",
       "      <td>0</td>\n",
       "      <td>0</td>\n",
       "      <td>0.305556</td>\n",
       "      <td>0.779861</td>\n",
       "    </tr>\n",
       "  </tbody>\n",
       "</table>\n",
       "<p>345 rows × 10 columns</p>\n",
       "</div>"
      ],
      "text/plain": [
       "        user   session_id        session_start          session_end  \\\n",
       "0    AAC0070    AAC0070_0  2010-01-04T07:23:00  2010-01-04T18:41:00   \n",
       "1    AAC0070    AAC0070_1  2010-01-05T07:16:00  2010-01-05T18:43:00   \n",
       "2    AAC0070   AAC0070_10  2010-01-18T07:31:00  2010-01-18T18:30:00   \n",
       "3    AAC0070  AAC0070_100  2010-05-25T07:30:00  2010-05-25T18:36:00   \n",
       "4    AAC0070  AAC0070_101  2010-05-26T07:25:00  2010-05-26T18:40:00   \n",
       "..       ...          ...                  ...                  ...   \n",
       "340  AAC0070   AAC0070_95  2010-05-18T07:32:00  2010-05-18T18:44:00   \n",
       "341  AAC0070   AAC0070_96  2010-05-19T07:16:00  2010-05-19T18:28:00   \n",
       "342  AAC0070   AAC0070_97  2010-05-20T07:32:00  2010-05-20T18:30:00   \n",
       "343  AAC0070   AAC0070_98  2010-05-21T07:23:00  2010-05-21T18:28:00   \n",
       "344  AAC0070   AAC0070_99  2010-05-24T07:20:00  2010-05-24T18:43:00   \n",
       "\n",
       "     file_activity  file_activity_bool  device_activity  device_activity_bool  \\\n",
       "0                0                   0                0                     0   \n",
       "1                0                   0                0                     0   \n",
       "2                0                   0                0                     0   \n",
       "3                0                   0                0                     0   \n",
       "4                0                   0                0                     0   \n",
       "..             ...                 ...              ...                   ...   \n",
       "340              0                   0                0                     0   \n",
       "341              0                   0                0                     0   \n",
       "342              0                   0                0                     0   \n",
       "343              0                   0                0                     0   \n",
       "344              0                   0                0                     0   \n",
       "\n",
       "     session_start_rlt  session_end_rlt  \n",
       "0             0.307639         0.778472  \n",
       "1             0.302778         0.779861  \n",
       "2             0.313194         0.770833  \n",
       "3             0.312500         0.775000  \n",
       "4             0.309028         0.777778  \n",
       "..                 ...              ...  \n",
       "340           0.313889         0.780556  \n",
       "341           0.302778         0.769444  \n",
       "342           0.313889         0.770833  \n",
       "343           0.307639         0.769444  \n",
       "344           0.305556         0.779861  \n",
       "\n",
       "[345 rows x 10 columns]"
      ]
     },
     "execution_count": 20,
     "metadata": {},
     "output_type": "execute_result"
    }
   ],
   "source": [
    "user_to_sessions['AAC0070']"
   ]
  },
  {
   "cell_type": "code",
   "execution_count": 21,
   "metadata": {},
   "outputs": [],
   "source": [
    "def draw_anomalies_session_time(data, anomalies):\n",
    "plt.figure(figsize=(10, 7))\n",
    "# Точки, предсказанные как обычные\n",
    "plt.scatter(data[anomalies == 1]['session_start_rlt'], data[anomalies == 1]['session_end_rlt'], c='blue', alpha=0.2, label='Обычные точки')\n",
    "# Точки, предсказанные как аномалии\n",
    "plt.scatter(data[anomalies == -1]['session_start_rlt'], data[anomalies == -1]['session_end_rlt'], c='red', alpha=0.2, label='Аномалии')\n",
    "plt.legend()\n",
    "plt.xlabel('Logon')\n",
    "plt.ylabel('Logoff')\n",
    "plt.title('Результаты поиска аномалий')\n",
    "plt.show()"
   ]
  },
  {
   "cell_type": "code",
   "execution_count": 22,
   "metadata": {},
   "outputs": [
    {
     "data": {
      "text/plain": [
       "Index(['user', 'session_id', 'session_start', 'session_end', 'file_activity',\n",
       "       'file_activity_bool', 'device_activity', 'device_activity_bool',\n",
       "       'session_start_rlt', 'session_end_rlt'],\n",
       "      dtype='object')"
      ]
     },
     "execution_count": 22,
     "metadata": {},
     "output_type": "execute_result"
    }
   ],
   "source": [
    "user_to_sessions['AAC0070'].columns"
   ]
  },
  {
   "cell_type": "code",
   "execution_count": 126,
   "metadata": {},
   "outputs": [
    {
     "data": {
      "image/png": "[encoded data removed]",
      "text/plain": [
       "<Figure size 1000x700 with 1 Axes>"
      ]
     },
     "metadata": {},
     "output_type": "display_data"
    },
    {
     "data": {
      "text/plain": [
       "Counter({1: 345})"
      ]
     },
     "execution_count": 126,
     "metadata": {},
     "output_type": "execute_result"
    }
   ],
   "source": [
    "from sklearn.cluster import DBSCAN\n",
    "\n",
    "def time_metric(X, Y):\n",
    "    a = min(abs(Y[0] - X[0]),abs(X[0] + 1 - Y[0]))\n",
    "    b = min(abs(Y[1] - X[1]),abs(X[1] + 1 - Y[1]))\n",
    "    return (a * a + b * b) ** 0.5\n",
    "\n",
    "sessions3 = user_to_sessions['AAC0070']\n",
    "df = sessions3.drop(\n",
    "    ['user', 'session_id', 'session_start', 'session_end', 'file_activity',\n",
    "       'file_activity_bool', 'device_activity', 'device_activity_bool'],\n",
    "    axis=1,\n",
    ")\n",
    "\n",
    "\n",
    "db = DBSCAN(eps=0.3, min_samples=7, metric=time_metric).fit(df)\n",
    "\n",
    "draw_anomalies_session_time(df, np.array([-1 if i == -1 else 1 for i in db.labels_]))\n",
    "Counter([-1 if i == -1 else 1 for i in db.labels_])"
   ]
  },
  {
   "cell_type": "code",
   "execution_count": 163,
   "metadata": {},
   "outputs": [
    {
     "data": {
      "image/png": "[encoded data removed]",
      "text/plain": [
       "<Figure size 1000x700 with 1 Axes>"
      ]
     },
     "metadata": {},
     "output_type": "display_data"
    }
   ],
   "source": [
    "df = user_to_sessions['HKK0961'].drop(\n",
    "    ['user', 'session_id', 'session_start', 'session_end', 'file_activity_bool',\n",
    "        'device_activity_bool',\n",
    "       'session_start_rlt', 'session_end_rlt'],\n",
    "    axis=1,\n",
    ")\n",
    "\n",
    "\n",
    "db = DBSCAN(eps=1, min_samples=30, metric=time_metric).fit(df)\n",
    "\n",
    "anomalies = np.array([-1 if i == -1 else 1 for i in db.labels_])\n",
    "\n",
    "plt.figure(figsize=(10, 7))\n",
    "# Точки, предсказанные как обычные\n",
    "plt.scatter(df[anomalies == 1]['file_activity'], df[anomalies == 1]['device_activity'], c='blue', alpha=0.2, label='Обычные точки')\n",
    "# Точки, предсказанные как аномалии\n",
    "plt.scatter(df[anomalies == -1]['file_activity'], df[anomalies == -1]['device_activity'], c='red', alpha=0.2, label='Аномалии')\n",
    "plt.legend()\n",
    "plt.xlabel('file')\n",
    "plt.ylabel('device')\n",
    "plt.title('Результаты поиска аномалий')\n",
    "plt.show()"
   ]
  },
  {
   "cell_type": "code",
   "execution_count": 96,
   "metadata": {},
   "outputs": [],
   "source": [
    "# используем DBSCAN\n",
    "malicios_sessions = set()\n",
    "for user, user_sessions_df in user_to_sessions.items():\n",
    "    df = user_sessions_df.drop(\n",
    "        ['user', 'session_id', 'session_start', 'session_end', 'file_activity',\n",
    "       'file_activity_bool', 'device_activity', 'device_activity_bool'],\n",
    "        axis=1,\n",
    "    )\n",
    "    db = DBSCAN(eps=0.3, min_samples=7, metric=time_metric).fit(df)\n",
    "\n",
    "    for session_id, pred in zip(user_sessions_df['session_id'], db.labels_):\n",
    "        if pred == -1:\n",
    "            malicios_sessions.add(session_id)"
   ]
  },
  {
   "cell_type": "code",
   "execution_count": 164,
   "metadata": {},
   "outputs": [],
   "source": [
    "# используем DBSCAN\n",
    "malicios_sessions1 = set()\n",
    "for user, user_sessions_df in user_to_sessions.items():\n",
    "    df = user_sessions_df.drop(\n",
    "        ['user', 'session_id', 'session_start', 'session_end', 'file_activity_bool',\n",
    "        'device_activity_bool', 'file_activity',\n",
    "       'session_start_rlt', 'session_end_rlt'],\n",
    "        axis=1,\n",
    "    )\n",
    "    db = DBSCAN(eps=1, min_samples=90).fit(df)\n",
    "\n",
    "    for session_id, pred in zip(user_sessions_df['session_id'], db.labels_):\n",
    "        if pred == -1:\n",
    "            malicios_sessions1.add(session_id)\n"
   ]
  },
  {
   "cell_type": "code",
   "execution_count": 165,
   "metadata": {},
   "outputs": [
    {
     "data": {
      "text/plain": [
       "{'CSF0929_126',\n",
       " 'CSF0929_129',\n",
       " 'CSF0929_132',\n",
       " 'CSF0929_134',\n",
       " 'CSF0929_138',\n",
       " 'CSF0929_141',\n",
       " 'HKK0961_12',\n",
       " 'HKK0961_124',\n",
       " 'HKK0961_229',\n",
       " 'HKK0961_246',\n",
       " 'HKK0961_251',\n",
       " 'HKK0961_57',\n",
       " 'HKK0961_6'}"
      ]
     },
     "execution_count": 165,
     "metadata": {},
     "output_type": "execute_result"
    }
   ],
   "source": [
    "malicios_sessions1 & malicios_sessions"
   ]
  },
  {
   "cell_type": "code",
   "execution_count": 55,
   "metadata": {},
   "outputs": [],
   "source": [
    "filtered_sessions_df = sessions_df[sessions_df.apply(lambda x: x['session_id'] in malicios_sessions, axis=1)]"
   ]
  },
  {
   "cell_type": "code",
   "execution_count": 56,
   "metadata": {},
   "outputs": [
    {
     "data": {
      "text/html": [
       "<div>\n",
       "<style scoped>\n",
       "    .dataframe tbody tr th:only-of-type {\n",
       "        vertical-align: middle;\n",
       "    }\n",
       "\n",
       "    .dataframe tbody tr th {\n",
       "        vertical-align: top;\n",
       "    }\n",
       "\n",
       "    .dataframe thead th {\n",
       "        text-align: right;\n",
       "    }\n",
       "</style>\n",
       "<table border=\"1\" class=\"dataframe\">\n",
       "  <thead>\n",
       "    <tr style=\"text-align: right;\">\n",
       "      <th></th>\n",
       "      <th>user</th>\n",
       "      <th>session_id</th>\n",
       "      <th>session_start</th>\n",
       "      <th>session_end</th>\n",
       "      <th>file_activity</th>\n",
       "      <th>device_activity</th>\n",
       "      <th>session_start_rlt</th>\n",
       "      <th>session_end_rlt</th>\n",
       "    </tr>\n",
       "  </thead>\n",
       "  <tbody>\n",
       "    <tr>\n",
       "      <th>1362</th>\n",
       "      <td>AAR0716</td>\n",
       "      <td>AAR0716_292</td>\n",
       "      <td>2010-08-16T18:33:33</td>\n",
       "      <td>2010-08-16T19:07:11</td>\n",
       "      <td>0</td>\n",
       "      <td>0</td>\n",
       "      <td>0.772917</td>\n",
       "      <td>0.796528</td>\n",
       "    </tr>\n",
       "    <tr>\n",
       "      <th>1599</th>\n",
       "      <td>AAR0716</td>\n",
       "      <td>AAR0716_505</td>\n",
       "      <td>2011-02-03T17:31:29</td>\n",
       "      <td>2011-02-03T17:41:06</td>\n",
       "      <td>0</td>\n",
       "      <td>0</td>\n",
       "      <td>0.729861</td>\n",
       "      <td>0.736806</td>\n",
       "    </tr>\n",
       "    <tr>\n",
       "      <th>3514</th>\n",
       "      <td>ABH0821</td>\n",
       "      <td>ABH0821_125</td>\n",
       "      <td>2010-03-22T16:29:00</td>\n",
       "      <td>2010-03-29T15:24:17</td>\n",
       "      <td>1</td>\n",
       "      <td>0</td>\n",
       "      <td>0.686806</td>\n",
       "      <td>0.641667</td>\n",
       "    </tr>\n",
       "    <tr>\n",
       "      <th>3639</th>\n",
       "      <td>ABH0821</td>\n",
       "      <td>ABH0821_238</td>\n",
       "      <td>2010-06-24T18:17:57</td>\n",
       "      <td>2010-06-25T03:11:26</td>\n",
       "      <td>1</td>\n",
       "      <td>1</td>\n",
       "      <td>0.761806</td>\n",
       "      <td>0.132639</td>\n",
       "    </tr>\n",
       "    <tr>\n",
       "      <th>3708</th>\n",
       "      <td>ABH0821</td>\n",
       "      <td>ABH0821_30</td>\n",
       "      <td>2010-01-22T10:49:05</td>\n",
       "      <td>2010-01-22T11:40:57</td>\n",
       "      <td>1</td>\n",
       "      <td>1</td>\n",
       "      <td>0.450694</td>\n",
       "      <td>0.486111</td>\n",
       "    </tr>\n",
       "  </tbody>\n",
       "</table>\n",
       "</div>"
      ],
      "text/plain": [
       "         user   session_id        session_start          session_end  \\\n",
       "1362  AAR0716  AAR0716_292  2010-08-16T18:33:33  2010-08-16T19:07:11   \n",
       "1599  AAR0716  AAR0716_505  2011-02-03T17:31:29  2011-02-03T17:41:06   \n",
       "3514  ABH0821  ABH0821_125  2010-03-22T16:29:00  2010-03-29T15:24:17   \n",
       "3639  ABH0821  ABH0821_238  2010-06-24T18:17:57  2010-06-25T03:11:26   \n",
       "3708  ABH0821   ABH0821_30  2010-01-22T10:49:05  2010-01-22T11:40:57   \n",
       "\n",
       "      file_activity  device_activity  session_start_rlt  session_end_rlt  \n",
       "1362              0                0           0.772917         0.796528  \n",
       "1599              0                0           0.729861         0.736806  \n",
       "3514              1                0           0.686806         0.641667  \n",
       "3639              1                1           0.761806         0.132639  \n",
       "3708              1                1           0.450694         0.486111  "
      ]
     },
     "execution_count": 56,
     "metadata": {},
     "output_type": "execute_result"
    }
   ],
   "source": [
    "filtered_sessions_df.head()"
   ]
  },
  {
   "cell_type": "code",
   "execution_count": 30,
   "metadata": {},
   "outputs": [
    {
     "ename": "NameError",
     "evalue": "name 'filtered_sessions_df' is not defined",
     "output_type": "error",
     "traceback": [
      "\u001b[0;31m---------------------------------------------------------------------------\u001b[0m",
      "\u001b[0;31mNameError\u001b[0m                                 Traceback (most recent call last)",
      "Cell \u001b[0;32mIn[30], line 1\u001b[0m\n\u001b[0;32m----> 1\u001b[0m \u001b[38;5;28mset\u001b[39m(\u001b[43mfiltered_sessions_df\u001b[49m[\u001b[38;5;124m'\u001b[39m\u001b[38;5;124muser\u001b[39m\u001b[38;5;124m'\u001b[39m])\n",
      "\u001b[0;31mNameError\u001b[0m: name 'filtered_sessions_df' is not defined"
     ]
    }
   ],
   "source": [
    "set(filtered_sessions_df['user'])"
   ]
  },
  {
   "cell_type": "code",
   "execution_count": 60,
   "metadata": {},
   "outputs": [],
   "source": [
    "target_ids = set()\n",
    "\n",
    "with open(ANSWERS_PATH.format(attacker=1)) as f1:\n",
    "    for row in f1.readlines():\n",
    "        if row.strip():\n",
    "            target_ids.add(row.split(',')[1])"
   ]
  },
  {
   "cell_type": "code",
   "execution_count": 61,
   "metadata": {},
   "outputs": [],
   "source": [
    "insider_session_ids = set()\n",
    "\n",
    "for _, row in actions_df.iterrows():\n",
    "    if str(row['id']) in target_ids:\n",
    "        insider_session_ids.add(row['session_id'])"
   ]
  },
  {
   "cell_type": "code",
   "execution_count": 62,
   "metadata": {},
   "outputs": [
    {
     "data": {
      "text/plain": [
       "True"
      ]
     },
     "execution_count": 62,
     "metadata": {},
     "output_type": "execute_result"
    }
   ],
   "source": [
    "insider_session_ids <= malicios_sessions  # инсайдерские сессии есть в выбранных нами?"
   ]
  },
  {
   "cell_type": "code",
   "execution_count": 63,
   "metadata": {},
   "outputs": [
    {
     "name": "stdout",
     "output_type": "stream",
     "text": [
      "CSF0929_141 True\n",
      "CSF0929_138 True\n",
      "CSF0929_126 True\n",
      "CSF0929_129 True\n",
      "CSF0929_134 True\n",
      "CSF0929_132 True\n"
     ]
    }
   ],
   "source": [
    "# для инсайдера CSF0929 все сессии еть\n",
    "# для инсайдера CCH0959 нет, потому что многие из них состоят исключительно из http запросов,\n",
    "# которые на данный момент мы не обрабатывали – сейчас мы его игнорируем\n",
    "\n",
    "for sid in insider_session_ids:\n",
    "    print(sid, sid in malicios_sessions)"
   ]
  },
  {
   "cell_type": "code",
   "execution_count": 64,
   "metadata": {},
   "outputs": [],
   "source": [
    "filtered_actions_df = actions_df[actions_df.apply(lambda x: x['session_id'] in malicios_sessions, axis=1)]"
   ]
  },
  {
   "cell_type": "code",
   "execution_count": 65,
   "metadata": {},
   "outputs": [
    {
     "name": "stderr",
     "output_type": "stream",
     "text": [
      "/tmp/ipykernel_7371/1027974661.py:1: SettingWithCopyWarning: \n",
      "A value is trying to be set on a copy of a slice from a DataFrame.\n",
      "Try using .loc[row_indexer,col_indexer] = value instead\n",
      "\n",
      "See the caveats in the documentation: https://pandas.pydata.org/pandas-docs/stable/user_guide/indexing.html#returning-a-view-versus-a-copy\n",
      "  filtered_actions_df['target'] = filtered_actions_df.apply(lambda x: x['id'] in target_ids, axis=1)\n"
     ]
    }
   ],
   "source": [
    "filtered_actions_df['target'] = filtered_actions_df.apply(lambda x: x['id'] in target_ids, axis=1)"
   ]
  },
  {
   "cell_type": "code",
   "execution_count": 89,
   "metadata": {},
   "outputs": [
    {
     "data": {
      "text/plain": [
       "0.0038475411807142"
      ]
     },
     "execution_count": 89,
     "metadata": {},
     "output_type": "execute_result"
    }
   ],
   "source": [
    "# баланс?\n",
    "filtered_actions_df[filtered_actions_df['target'] == 1].shape[0] / filtered_actions_df.shape[0]"
   ]
  },
  {
   "cell_type": "code",
   "execution_count": 42,
   "metadata": {},
   "outputs": [
    {
     "data": {
      "text/plain": [
       "Index(['id', 'date', 'user', 'pc', 'activity', 'filename', 'content',\n",
       "       'timestamp', 'session_id', 'file_activity', 'device_activity',\n",
       "       'target'],\n",
       "      dtype='object')"
      ]
     },
     "execution_count": 42,
     "metadata": {},
     "output_type": "execute_result"
    }
   ],
   "source": [
    "filtered_actions_df.columns"
   ]
  },
  {
   "cell_type": "code",
   "execution_count": 43,
   "metadata": {},
   "outputs": [],
   "source": [
    "sessions_df.to_csv('../datasets/r3.1-session_df.csv')"
   ]
  },
  {
   "cell_type": "code",
   "execution_count": 88,
   "metadata": {},
   "outputs": [],
   "source": [
    "filtered_actions_df.to_csv('../datasets/r3.1-actions_df_1.csv')"
   ]
  },
  {
   "cell_type": "code",
   "execution_count": 90,
   "metadata": {},
   "outputs": [
    {
     "data": {
      "text/plain": [
       "35"
      ]
     },
     "execution_count": 90,
     "metadata": {},
     "output_type": "execute_result"
    }
   ],
   "source": [
    "len(target_ids)"
   ]
  },
  {
   "cell_type": "code",
   "execution_count": null,
   "metadata": {},
   "outputs": [],
   "source": []
  }
 ],
 "metadata": {
  "kernelspec": {
   "display_name": ".venv",
   "language": "python",
   "name": "python3"
  },
  "language_info": {
   "codemirror_mode": {
    "name": "ipython",
    "version": 3
   },
   "file_extension": ".py",
   "mimetype": "text/x-python",
   "name": "python",
   "nbconvert_exporter": "python",
   "pygments_lexer": "ipython3",
   "version": "3.12.2+"
  }
 },
 "nbformat": 4,
 "nbformat_minor": 2
}
