{
 "cells": [
  {
   "cell_type": "code",
   "execution_count": 2,
   "metadata": {},
   "outputs": [],
   "source": [
    "# Command to make `src` module available in notebook\n",
    "# Details: https://stackoverflow.com/a/35273613\n",
    "\n",
    "import os\n",
    "import sys\n",
    "module_path = os.path.abspath(os.path.join('..'))\n",
    "if module_path not in sys.path:\n",
    "    sys.path.append(module_path)\n"
   ]
  },
  {
   "cell_type": "markdown",
   "metadata": {},
   "source": [
    "### Поиск аномалий \n",
    "\n",
    "В этом файле копирования файлов и подключения устройств будут считаться подозрительными при условии, что им предшествует подозриттельный вход"
   ]
  },
  {
   "cell_type": "code",
   "execution_count": 3,
   "metadata": {},
   "outputs": [],
   "source": [
    "from src.cert import CERTDataType\n",
    "from src.data_factory import get_data_stream\n",
    "from src.indicators.meta_logon import MetaLogonIndicator\n"
   ]
  },
  {
   "cell_type": "markdown",
   "metadata": {},
   "source": [
    "Загружаем события:"
   ]
  },
  {
   "cell_type": "code",
   "execution_count": 4,
   "metadata": {},
   "outputs": [],
   "source": [
    "events = get_data_stream([\n",
    "    CERTDataType.device,\n",
    "    CERTDataType.file,\n",
    "    CERTDataType.logon,\n",
    "])\n"
   ]
  },
  {
   "cell_type": "markdown",
   "metadata": {},
   "source": [
    "Инициализируем индикатор с настройками\n",
    "- Вход считается подозрительным, если он первый и произошел ранее, чем за час до среднего времени первого входа. Аналогично выход считается подозрительным, если произошел более чем через час после среднего времени последнего выхода\n",
    "- Копирование файлов или подключение устройств считается подозрительным, если за последние два часа это событие произошло больше раз, чем происходило в первые 90 дней\n",
    "\n",
    "Далее выбираем событич, на которых сработал индикатор"
   ]
  },
  {
   "cell_type": "code",
   "execution_count": 7,
   "metadata": {},
   "outputs": [],
   "source": [
    "indicator = MetaLogonIndicator(workday_delta=60, usage_interval=120)\n",
    "bad_events = []\n",
    "\n",
    "for event in events:\n",
    "    val = indicator.process(event)\n",
    "    if val:\n",
    "        bad_events.append(event)\n"
   ]
  },
  {
   "cell_type": "code",
   "execution_count": 8,
   "metadata": {},
   "outputs": [
    {
     "data": {
      "text/plain": [
       "{'RCW0822'}"
      ]
     },
     "execution_count": 8,
     "metadata": {},
     "output_type": "execute_result"
    }
   ],
   "source": [
    "set(x.user_id for x in bad_events)\n"
   ]
  },
  {
   "cell_type": "markdown",
   "metadata": {},
   "source": [
    "Пользователь `RCW0822` – инсайдер, который совершал атаку по сценарию 1 (резко возросло количество входов в нерабочее время и исползование внешних устройств). Инсайдер найден верно"
   ]
  },
  {
   "cell_type": "code",
   "execution_count": 10,
   "metadata": {},
   "outputs": [
    {
     "data": {
      "text/plain": [
       "[DeviceUsageEvent(event_id='{J4L9-S1FN89GY-5468VAXS}', user_id='RCW0822', timestamp=datetime.datetime(2010, 10, 2, 5, 54, 26)),\n",
       " FileCopyEvent(event_id='{U7P1-Q5KH75DG-4706FRLP}', user_id='RCW0822', timestamp=datetime.datetime(2010, 10, 2, 6, 14, 59)),\n",
       " DeviceUsageEvent(event_id='{C2K9-H6XD05WT-3372YRPP}', user_id='RCW0822', timestamp=datetime.datetime(2010, 10, 2, 6, 29, 20)),\n",
       " DeviceUsageEvent(event_id='{K1J2-B1QY57TD-5843NFPH}', user_id='RCW0822', timestamp=datetime.datetime(2010, 10, 8, 6, 55, 47)),\n",
       " FileCopyEvent(event_id='{N9S5-U2EQ65CP-9474SERZ}', user_id='RCW0822', timestamp=datetime.datetime(2010, 10, 8, 6, 57, 35)),\n",
       " DeviceUsageEvent(event_id='{T8L8-S2GW60IM-6106YRLE}', user_id='RCW0822', timestamp=datetime.datetime(2010, 10, 8, 6, 58, 5)),\n",
       " DeviceUsageEvent(event_id='{L4P5-O1DB27TE-3676CNNU}', user_id='RCW0822', timestamp=datetime.datetime(2010, 10, 15, 5, 2, 40)),\n",
       " FileCopyEvent(event_id='{W7T9-A1QI23BP-8302WBIF}', user_id='RCW0822', timestamp=datetime.datetime(2010, 10, 15, 5, 44, 22)),\n",
       " DeviceUsageEvent(event_id='{M9N7-D8WL32QN-5725FSOV}', user_id='RCW0822', timestamp=datetime.datetime(2010, 10, 15, 5, 50, 39))]"
      ]
     },
     "execution_count": 10,
     "metadata": {},
     "output_type": "execute_result"
    }
   ],
   "source": [
    "[x for x in bad_events]\n"
   ]
  },
  {
   "cell_type": "markdown",
   "metadata": {},
   "source": [
    "События выше являются частю инсайдерской атаки. При этом всего событий в атаке 24. Если засчитат входы, предшествующие подозрителным действиям из `bad_events`, было обнаружено 11 подозрительных активностей из 24, то есть точность составляет 1.0, а полнота 0.45"
   ]
  }
 ],
 "metadata": {
  "kernelspec": {
   "display_name": "Python 3",
   "language": "python",
   "name": "python3"
  },
  "language_info": {
   "codemirror_mode": {
    "name": "ipython",
    "version": 3
   },
   "file_extension": ".py",
   "mimetype": "text/x-python",
   "name": "python",
   "nbconvert_exporter": "python",
   "pygments_lexer": "ipython3",
   "version": "3.10.6"
  }
 },
 "nbformat": 4,
 "nbformat_minor": 2
}
