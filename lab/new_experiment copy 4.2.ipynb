{
 "cells": [
  {
   "cell_type": "code",
   "execution_count": null,
   "metadata": {},
   "outputs": [],
   "source": [
    "# Идея: собрать вместе наборы данных и выделить сессии, которые можно считать аномальными\n",
    "# Далее на аномальных сессиях запустить классификатор"
   ]
  },
  {
   "cell_type": "code",
   "execution_count": 1,
   "metadata": {},
   "outputs": [],
   "source": [
    "from collections import defaultdict, Counter\n",
    "from datetime import datetime\n",
    "\n",
    "import pandas as pd\n",
    "from sklearn.svm import OneClassSVM\n",
    "from sklearn.preprocessing import StandardScaler\n",
    "import matplotlib.pyplot as plt\n",
    "\n",
    "\n",
    "import numpy as np\n",
    "import math\n",
    "\n",
    "\n",
    "DATASET_VERSION = '4.2'\n",
    "DATA_PATH = f'../data/r{DATASET_VERSION}/{{type}}.csv'\n",
    "ANSWERS_PATH = f'../data/answers/r{DATASET_VERSION}-{{attacker}}.csv'\n",
    "DATE_FORMAT = '%Y-%m-%dT%H:%M:%S'"
   ]
  },
  {
   "cell_type": "code",
   "execution_count": 2,
   "metadata": {},
   "outputs": [],
   "source": [
    "def dt(timestamp: str) -> datetime:\n",
    "    return datetime.strptime(timestamp, '%m/%d/%Y %H:%M:%S')"
   ]
  },
  {
   "cell_type": "code",
   "execution_count": 3,
   "metadata": {},
   "outputs": [],
   "source": [
    "# Шаги:\n",
    "# 1. Взять logon.csv и получить ID, время начлаа и конца всех сессий.\n",
    "# 2. Взять среднее время первого входа и последнего выхода каждого сотрудника за первые три месяца, чтобы получить продолжительность рабочего дня\n",
    "# 3. Добавить к данным о сессиях, в рабочее время они происходили или нет (не в рабочее – если сессия закначивалась до начала рабочего дня или начаналась после)\n",
    "# 4. Склеить действия из device и file, проставить сессии и рабочее / нерабочее время\n",
    "# 5. Получить агрегатные данные по сессиям (сколько раз подключалось устройство, сколько было открыто файлов)\n",
    "# 6. За первые штри месяца посчитать средние и отклонения от них в процентах (0..1)\n",
    "# 7. Запустить OCSVM на сессиях каждого пользователя и выбрать аномальные сессии\n",
    "# 8. Отфильтровать данные по аномальным сессиям"
   ]
  },
  {
   "cell_type": "code",
   "execution_count": 3,
   "metadata": {},
   "outputs": [],
   "source": [
    "logon_df = pd.read_csv(DATA_PATH.format(type='logon'))"
   ]
  },
  {
   "cell_type": "code",
   "execution_count": 4,
   "metadata": {},
   "outputs": [
    {
     "data": {
      "text/html": [
       "<div>\n",
       "<style scoped>\n",
       "    .dataframe tbody tr th:only-of-type {\n",
       "        vertical-align: middle;\n",
       "    }\n",
       "\n",
       "    .dataframe tbody tr th {\n",
       "        vertical-align: top;\n",
       "    }\n",
       "\n",
       "    .dataframe thead th {\n",
       "        text-align: right;\n",
       "    }\n",
       "</style>\n",
       "<table border=\"1\" class=\"dataframe\">\n",
       "  <thead>\n",
       "    <tr style=\"text-align: right;\">\n",
       "      <th></th>\n",
       "      <th>id</th>\n",
       "      <th>date</th>\n",
       "      <th>user</th>\n",
       "      <th>pc</th>\n",
       "      <th>activity</th>\n",
       "    </tr>\n",
       "  </thead>\n",
       "  <tbody>\n",
       "    <tr>\n",
       "      <th>0</th>\n",
       "      <td>{X1D9-S0ES98JV-5357PWMI}</td>\n",
       "      <td>01/02/2010 06:49:00</td>\n",
       "      <td>NGF0157</td>\n",
       "      <td>PC-6056</td>\n",
       "      <td>Logon</td>\n",
       "    </tr>\n",
       "    <tr>\n",
       "      <th>1</th>\n",
       "      <td>{G2B3-L6EJ61GT-2222RKSO}</td>\n",
       "      <td>01/02/2010 06:50:00</td>\n",
       "      <td>LRR0148</td>\n",
       "      <td>PC-4275</td>\n",
       "      <td>Logon</td>\n",
       "    </tr>\n",
       "    <tr>\n",
       "      <th>2</th>\n",
       "      <td>{U6Q3-U0WE70UA-3770UREL}</td>\n",
       "      <td>01/02/2010 06:53:04</td>\n",
       "      <td>LRR0148</td>\n",
       "      <td>PC-4124</td>\n",
       "      <td>Logon</td>\n",
       "    </tr>\n",
       "    <tr>\n",
       "      <th>3</th>\n",
       "      <td>{I0N5-R7NA26TG-6263KNGM}</td>\n",
       "      <td>01/02/2010 07:00:00</td>\n",
       "      <td>IRM0931</td>\n",
       "      <td>PC-7188</td>\n",
       "      <td>Logon</td>\n",
       "    </tr>\n",
       "    <tr>\n",
       "      <th>4</th>\n",
       "      <td>{D1S0-N6FH62BT-5398KANK}</td>\n",
       "      <td>01/02/2010 07:00:00</td>\n",
       "      <td>MOH0273</td>\n",
       "      <td>PC-6699</td>\n",
       "      <td>Logon</td>\n",
       "    </tr>\n",
       "  </tbody>\n",
       "</table>\n",
       "</div>"
      ],
      "text/plain": [
       "                         id                 date     user       pc activity\n",
       "0  {X1D9-S0ES98JV-5357PWMI}  01/02/2010 06:49:00  NGF0157  PC-6056    Logon\n",
       "1  {G2B3-L6EJ61GT-2222RKSO}  01/02/2010 06:50:00  LRR0148  PC-4275    Logon\n",
       "2  {U6Q3-U0WE70UA-3770UREL}  01/02/2010 06:53:04  LRR0148  PC-4124    Logon\n",
       "3  {I0N5-R7NA26TG-6263KNGM}  01/02/2010 07:00:00  IRM0931  PC-7188    Logon\n",
       "4  {D1S0-N6FH62BT-5398KANK}  01/02/2010 07:00:00  MOH0273  PC-6699    Logon"
      ]
     },
     "execution_count": 4,
     "metadata": {},
     "output_type": "execute_result"
    }
   ],
   "source": [
    "logon_df.head()"
   ]
  },
  {
   "cell_type": "code",
   "execution_count": 5,
   "metadata": {},
   "outputs": [],
   "source": [
    "sessions = defaultdict(list)\n",
    "\n",
    "for _, row in logon_df.iterrows():\n",
    "    user = row['user']\n",
    "    ts = dt(row['date'])\n",
    "    action = row['activity']\n",
    "\n",
    "    if action == 'Logon':\n",
    "        if sessions[user] and len(sessions[user][-1]) == 1:\n",
    "            sessions[user][-1] = (sessions[user][-1][0], ts)\n",
    "        sessions[user].append((ts,))\n",
    "    else:\n",
    "        if sessions[user] and len(sessions[user][-1]) == 2:\n",
    "            sessions[user].append((None, ts))\n",
    "        else:\n",
    "            sessions[user][-1] = (sessions[user][-1][0], ts)\n",
    "\n"
   ]
  },
  {
   "cell_type": "code",
   "execution_count": 6,
   "metadata": {},
   "outputs": [],
   "source": [
    "actions_df = pd.concat(\n",
    "    [\n",
    "        logon_df,\n",
    "        pd.read_csv(DATA_PATH.format(type='file')),\n",
    "        pd.read_csv(DATA_PATH.format(type='device')),\n",
    "    ],\n",
    "    axis=0,\n",
    "    ignore_index=True,\n",
    ")"
   ]
  },
  {
   "cell_type": "code",
   "execution_count": 7,
   "metadata": {},
   "outputs": [],
   "source": [
    "actions_df['timestamp'] = actions_df.apply(lambda x: dt(x['date']).strftime('%Y-%m-%dT%H:%M:%S'), axis=1)"
   ]
  },
  {
   "cell_type": "code",
   "execution_count": 8,
   "metadata": {},
   "outputs": [],
   "source": [
    "actions_df = actions_df.sort_values(by='timestamp')"
   ]
  },
  {
   "cell_type": "code",
   "execution_count": 9,
   "metadata": {},
   "outputs": [],
   "source": [
    "def get_session_id(user: str, timestamp: datetime) -> str:\n",
    "    for idx, (from_, to_) in enumerate(sessions[user]):\n",
    "        if from_ is not None and (from_ <= timestamp <= to_):\n",
    "            return f'{user}_{idx}'\n",
    "        if from_ is None and to_ > timestamp:\n",
    "            return f'{user}_{idx}'\n",
    "\n",
    "actions_df['session_id'] = actions_df.apply(lambda x: get_session_id(x['user'], dt(x['date'])), axis=1)"
   ]
  },
  {
   "cell_type": "code",
   "execution_count": 10,
   "metadata": {},
   "outputs": [],
   "source": [
    "actions_df['filename'] = actions_df['filename'].fillna('')\n",
    "\n",
    "actions_df['file_activity'] = actions_df.apply(lambda x: int(bool(x['filename'])), axis=1)\n",
    "actions_df['device_activity'] = actions_df.apply(lambda x: int(x['activity'] in {'Connect', 'Disconnect'}), axis=1)"
   ]
  },
  {
   "cell_type": "code",
   "execution_count": 11,
   "metadata": {},
   "outputs": [
    {
     "data": {
      "text/html": [
       "<div>\n",
       "<style scoped>\n",
       "    .dataframe tbody tr th:only-of-type {\n",
       "        vertical-align: middle;\n",
       "    }\n",
       "\n",
       "    .dataframe tbody tr th {\n",
       "        vertical-align: top;\n",
       "    }\n",
       "\n",
       "    .dataframe thead th {\n",
       "        text-align: right;\n",
       "    }\n",
       "</style>\n",
       "<table border=\"1\" class=\"dataframe\">\n",
       "  <thead>\n",
       "    <tr style=\"text-align: right;\">\n",
       "      <th></th>\n",
       "      <th>id</th>\n",
       "      <th>date</th>\n",
       "      <th>user</th>\n",
       "      <th>pc</th>\n",
       "      <th>activity</th>\n",
       "      <th>filename</th>\n",
       "      <th>content</th>\n",
       "      <th>timestamp</th>\n",
       "      <th>session_id</th>\n",
       "      <th>file_activity</th>\n",
       "      <th>device_activity</th>\n",
       "    </tr>\n",
       "  </thead>\n",
       "  <tbody>\n",
       "    <tr>\n",
       "      <th>0</th>\n",
       "      <td>{X1D9-S0ES98JV-5357PWMI}</td>\n",
       "      <td>01/02/2010 06:49:00</td>\n",
       "      <td>NGF0157</td>\n",
       "      <td>PC-6056</td>\n",
       "      <td>Logon</td>\n",
       "      <td></td>\n",
       "      <td>NaN</td>\n",
       "      <td>2010-01-02T06:49:00</td>\n",
       "      <td>NGF0157_0</td>\n",
       "      <td>0</td>\n",
       "      <td>0</td>\n",
       "    </tr>\n",
       "    <tr>\n",
       "      <th>1</th>\n",
       "      <td>{G2B3-L6EJ61GT-2222RKSO}</td>\n",
       "      <td>01/02/2010 06:50:00</td>\n",
       "      <td>LRR0148</td>\n",
       "      <td>PC-4275</td>\n",
       "      <td>Logon</td>\n",
       "      <td></td>\n",
       "      <td>NaN</td>\n",
       "      <td>2010-01-02T06:50:00</td>\n",
       "      <td>LRR0148_0</td>\n",
       "      <td>0</td>\n",
       "      <td>0</td>\n",
       "    </tr>\n",
       "    <tr>\n",
       "      <th>2</th>\n",
       "      <td>{U6Q3-U0WE70UA-3770UREL}</td>\n",
       "      <td>01/02/2010 06:53:04</td>\n",
       "      <td>LRR0148</td>\n",
       "      <td>PC-4124</td>\n",
       "      <td>Logon</td>\n",
       "      <td></td>\n",
       "      <td>NaN</td>\n",
       "      <td>2010-01-02T06:53:04</td>\n",
       "      <td>LRR0148_0</td>\n",
       "      <td>0</td>\n",
       "      <td>0</td>\n",
       "    </tr>\n",
       "    <tr>\n",
       "      <th>3</th>\n",
       "      <td>{I0N5-R7NA26TG-6263KNGM}</td>\n",
       "      <td>01/02/2010 07:00:00</td>\n",
       "      <td>IRM0931</td>\n",
       "      <td>PC-7188</td>\n",
       "      <td>Logon</td>\n",
       "      <td></td>\n",
       "      <td>NaN</td>\n",
       "      <td>2010-01-02T07:00:00</td>\n",
       "      <td>IRM0931_0</td>\n",
       "      <td>0</td>\n",
       "      <td>0</td>\n",
       "    </tr>\n",
       "    <tr>\n",
       "      <th>4</th>\n",
       "      <td>{D1S0-N6FH62BT-5398KANK}</td>\n",
       "      <td>01/02/2010 07:00:00</td>\n",
       "      <td>MOH0273</td>\n",
       "      <td>PC-6699</td>\n",
       "      <td>Logon</td>\n",
       "      <td></td>\n",
       "      <td>NaN</td>\n",
       "      <td>2010-01-02T07:00:00</td>\n",
       "      <td>MOH0273_0</td>\n",
       "      <td>0</td>\n",
       "      <td>0</td>\n",
       "    </tr>\n",
       "  </tbody>\n",
       "</table>\n",
       "</div>"
      ],
      "text/plain": [
       "                         id                 date     user       pc activity  \\\n",
       "0  {X1D9-S0ES98JV-5357PWMI}  01/02/2010 06:49:00  NGF0157  PC-6056    Logon   \n",
       "1  {G2B3-L6EJ61GT-2222RKSO}  01/02/2010 06:50:00  LRR0148  PC-4275    Logon   \n",
       "2  {U6Q3-U0WE70UA-3770UREL}  01/02/2010 06:53:04  LRR0148  PC-4124    Logon   \n",
       "3  {I0N5-R7NA26TG-6263KNGM}  01/02/2010 07:00:00  IRM0931  PC-7188    Logon   \n",
       "4  {D1S0-N6FH62BT-5398KANK}  01/02/2010 07:00:00  MOH0273  PC-6699    Logon   \n",
       "\n",
       "  filename content            timestamp session_id  file_activity  \\\n",
       "0              NaN  2010-01-02T06:49:00  NGF0157_0              0   \n",
       "1              NaN  2010-01-02T06:50:00  LRR0148_0              0   \n",
       "2              NaN  2010-01-02T06:53:04  LRR0148_0              0   \n",
       "3              NaN  2010-01-02T07:00:00  IRM0931_0              0   \n",
       "4              NaN  2010-01-02T07:00:00  MOH0273_0              0   \n",
       "\n",
       "   device_activity  \n",
       "0                0  \n",
       "1                0  \n",
       "2                0  \n",
       "3                0  \n",
       "4                0  "
      ]
     },
     "execution_count": 11,
     "metadata": {},
     "output_type": "execute_result"
    }
   ],
   "source": [
    "actions_df.head()"
   ]
  },
  {
   "cell_type": "code",
   "execution_count": 12,
   "metadata": {},
   "outputs": [],
   "source": [
    "sessions_df = actions_df.groupby(['user', 'session_id']).agg({'timestamp': ['min', 'max'], 'file_activity': ['sum', 'max'], 'device_activity': ['sum', 'max']}).reset_index()"
   ]
  },
  {
   "cell_type": "code",
   "execution_count": 13,
   "metadata": {},
   "outputs": [],
   "source": [
    "sessions_df.columns = ['user', 'session_id', 'session_start', 'session_end', 'file_activity', 'file_activity_bool', 'device_activity', 'device_activity_bool']"
   ]
  },
  {
   "cell_type": "code",
   "execution_count": 14,
   "metadata": {},
   "outputs": [
    {
     "data": {
      "text/html": [
       "<div>\n",
       "<style scoped>\n",
       "    .dataframe tbody tr th:only-of-type {\n",
       "        vertical-align: middle;\n",
       "    }\n",
       "\n",
       "    .dataframe tbody tr th {\n",
       "        vertical-align: top;\n",
       "    }\n",
       "\n",
       "    .dataframe thead th {\n",
       "        text-align: right;\n",
       "    }\n",
       "</style>\n",
       "<table border=\"1\" class=\"dataframe\">\n",
       "  <thead>\n",
       "    <tr style=\"text-align: right;\">\n",
       "      <th></th>\n",
       "      <th>user</th>\n",
       "      <th>session_id</th>\n",
       "      <th>session_start</th>\n",
       "      <th>session_end</th>\n",
       "      <th>file_activity</th>\n",
       "      <th>file_activity_bool</th>\n",
       "      <th>device_activity</th>\n",
       "      <th>device_activity_bool</th>\n",
       "    </tr>\n",
       "  </thead>\n",
       "  <tbody>\n",
       "    <tr>\n",
       "      <th>0</th>\n",
       "      <td>AAE0190</td>\n",
       "      <td>AAE0190_0</td>\n",
       "      <td>2010-01-04T08:09:00</td>\n",
       "      <td>2010-01-04T18:20:00</td>\n",
       "      <td>0</td>\n",
       "      <td>0</td>\n",
       "      <td>0</td>\n",
       "      <td>0</td>\n",
       "    </tr>\n",
       "    <tr>\n",
       "      <th>1</th>\n",
       "      <td>AAE0190</td>\n",
       "      <td>AAE0190_1</td>\n",
       "      <td>2010-01-05T08:19:00</td>\n",
       "      <td>2010-01-05T18:11:00</td>\n",
       "      <td>0</td>\n",
       "      <td>0</td>\n",
       "      <td>0</td>\n",
       "      <td>0</td>\n",
       "    </tr>\n",
       "    <tr>\n",
       "      <th>2</th>\n",
       "      <td>AAE0190</td>\n",
       "      <td>AAE0190_10</td>\n",
       "      <td>2010-01-18T08:18:00</td>\n",
       "      <td>2010-01-18T18:07:00</td>\n",
       "      <td>0</td>\n",
       "      <td>0</td>\n",
       "      <td>0</td>\n",
       "      <td>0</td>\n",
       "    </tr>\n",
       "    <tr>\n",
       "      <th>3</th>\n",
       "      <td>AAE0190</td>\n",
       "      <td>AAE0190_100</td>\n",
       "      <td>2010-05-25T08:20:00</td>\n",
       "      <td>2010-05-25T18:07:00</td>\n",
       "      <td>0</td>\n",
       "      <td>0</td>\n",
       "      <td>0</td>\n",
       "      <td>0</td>\n",
       "    </tr>\n",
       "    <tr>\n",
       "      <th>4</th>\n",
       "      <td>AAE0190</td>\n",
       "      <td>AAE0190_101</td>\n",
       "      <td>2010-05-26T08:15:00</td>\n",
       "      <td>2010-05-26T18:13:00</td>\n",
       "      <td>0</td>\n",
       "      <td>0</td>\n",
       "      <td>0</td>\n",
       "      <td>0</td>\n",
       "    </tr>\n",
       "  </tbody>\n",
       "</table>\n",
       "</div>"
      ],
      "text/plain": [
       "      user   session_id        session_start          session_end  \\\n",
       "0  AAE0190    AAE0190_0  2010-01-04T08:09:00  2010-01-04T18:20:00   \n",
       "1  AAE0190    AAE0190_1  2010-01-05T08:19:00  2010-01-05T18:11:00   \n",
       "2  AAE0190   AAE0190_10  2010-01-18T08:18:00  2010-01-18T18:07:00   \n",
       "3  AAE0190  AAE0190_100  2010-05-25T08:20:00  2010-05-25T18:07:00   \n",
       "4  AAE0190  AAE0190_101  2010-05-26T08:15:00  2010-05-26T18:13:00   \n",
       "\n",
       "   file_activity  file_activity_bool  device_activity  device_activity_bool  \n",
       "0              0                   0                0                     0  \n",
       "1              0                   0                0                     0  \n",
       "2              0                   0                0                     0  \n",
       "3              0                   0                0                     0  \n",
       "4              0                   0                0                     0  "
      ]
     },
     "execution_count": 14,
     "metadata": {},
     "output_type": "execute_result"
    }
   ],
   "source": [
    "sessions_df.head()"
   ]
  },
  {
   "cell_type": "code",
   "execution_count": 15,
   "metadata": {},
   "outputs": [
    {
     "data": {
      "text/html": [
       "<div>\n",
       "<style scoped>\n",
       "    .dataframe tbody tr th:only-of-type {\n",
       "        vertical-align: middle;\n",
       "    }\n",
       "\n",
       "    .dataframe tbody tr th {\n",
       "        vertical-align: top;\n",
       "    }\n",
       "\n",
       "    .dataframe thead th {\n",
       "        text-align: right;\n",
       "    }\n",
       "</style>\n",
       "<table border=\"1\" class=\"dataframe\">\n",
       "  <thead>\n",
       "    <tr style=\"text-align: right;\">\n",
       "      <th></th>\n",
       "      <th>user</th>\n",
       "      <th>session_id</th>\n",
       "      <th>session_start</th>\n",
       "      <th>session_end</th>\n",
       "      <th>file_activity</th>\n",
       "      <th>file_activity_bool</th>\n",
       "      <th>device_activity</th>\n",
       "      <th>device_activity_bool</th>\n",
       "      <th>session_start_rlt</th>\n",
       "      <th>session_end_rlt</th>\n",
       "    </tr>\n",
       "  </thead>\n",
       "  <tbody>\n",
       "    <tr>\n",
       "      <th>0</th>\n",
       "      <td>AAE0190</td>\n",
       "      <td>AAE0190_0</td>\n",
       "      <td>2010-01-04T08:09:00</td>\n",
       "      <td>2010-01-04T18:20:00</td>\n",
       "      <td>0</td>\n",
       "      <td>0</td>\n",
       "      <td>0</td>\n",
       "      <td>0</td>\n",
       "      <td>0.339583</td>\n",
       "      <td>0.763889</td>\n",
       "    </tr>\n",
       "    <tr>\n",
       "      <th>1</th>\n",
       "      <td>AAE0190</td>\n",
       "      <td>AAE0190_1</td>\n",
       "      <td>2010-01-05T08:19:00</td>\n",
       "      <td>2010-01-05T18:11:00</td>\n",
       "      <td>0</td>\n",
       "      <td>0</td>\n",
       "      <td>0</td>\n",
       "      <td>0</td>\n",
       "      <td>0.346528</td>\n",
       "      <td>0.757639</td>\n",
       "    </tr>\n",
       "    <tr>\n",
       "      <th>2</th>\n",
       "      <td>AAE0190</td>\n",
       "      <td>AAE0190_10</td>\n",
       "      <td>2010-01-18T08:18:00</td>\n",
       "      <td>2010-01-18T18:07:00</td>\n",
       "      <td>0</td>\n",
       "      <td>0</td>\n",
       "      <td>0</td>\n",
       "      <td>0</td>\n",
       "      <td>0.345833</td>\n",
       "      <td>0.754861</td>\n",
       "    </tr>\n",
       "    <tr>\n",
       "      <th>3</th>\n",
       "      <td>AAE0190</td>\n",
       "      <td>AAE0190_100</td>\n",
       "      <td>2010-05-25T08:20:00</td>\n",
       "      <td>2010-05-25T18:07:00</td>\n",
       "      <td>0</td>\n",
       "      <td>0</td>\n",
       "      <td>0</td>\n",
       "      <td>0</td>\n",
       "      <td>0.347222</td>\n",
       "      <td>0.754861</td>\n",
       "    </tr>\n",
       "    <tr>\n",
       "      <th>4</th>\n",
       "      <td>AAE0190</td>\n",
       "      <td>AAE0190_101</td>\n",
       "      <td>2010-05-26T08:15:00</td>\n",
       "      <td>2010-05-26T18:13:00</td>\n",
       "      <td>0</td>\n",
       "      <td>0</td>\n",
       "      <td>0</td>\n",
       "      <td>0</td>\n",
       "      <td>0.343750</td>\n",
       "      <td>0.759028</td>\n",
       "    </tr>\n",
       "  </tbody>\n",
       "</table>\n",
       "</div>"
      ],
      "text/plain": [
       "      user   session_id        session_start          session_end  \\\n",
       "0  AAE0190    AAE0190_0  2010-01-04T08:09:00  2010-01-04T18:20:00   \n",
       "1  AAE0190    AAE0190_1  2010-01-05T08:19:00  2010-01-05T18:11:00   \n",
       "2  AAE0190   AAE0190_10  2010-01-18T08:18:00  2010-01-18T18:07:00   \n",
       "3  AAE0190  AAE0190_100  2010-05-25T08:20:00  2010-05-25T18:07:00   \n",
       "4  AAE0190  AAE0190_101  2010-05-26T08:15:00  2010-05-26T18:13:00   \n",
       "\n",
       "   file_activity  file_activity_bool  device_activity  device_activity_bool  \\\n",
       "0              0                   0                0                     0   \n",
       "1              0                   0                0                     0   \n",
       "2              0                   0                0                     0   \n",
       "3              0                   0                0                     0   \n",
       "4              0                   0                0                     0   \n",
       "\n",
       "   session_start_rlt  session_end_rlt  \n",
       "0           0.339583         0.763889  \n",
       "1           0.346528         0.757639  \n",
       "2           0.345833         0.754861  \n",
       "3           0.347222         0.754861  \n",
       "4           0.343750         0.759028  "
      ]
     },
     "execution_count": 15,
     "metadata": {},
     "output_type": "execute_result"
    }
   ],
   "source": [
    "def timestamp_to_minutes(timestamp: datetime) -> int:\n",
    "    return (timestamp.hour * 60 + timestamp.minute) / (60 * 24)\n",
    "\n",
    "sessions_df['session_start_rlt'] = sessions_df.apply(\n",
    "    lambda x: timestamp_to_minutes(datetime.strptime(x['session_start'], DATE_FORMAT)),\n",
    "    axis=1,\n",
    ")\n",
    "sessions_df['session_end_rlt'] = sessions_df.apply(\n",
    "    lambda x: timestamp_to_minutes(datetime.strptime(x['session_end'], DATE_FORMAT)),\n",
    "    axis=1,\n",
    ")\n",
    "\n",
    "sessions_df.head()"
   ]
  },
  {
   "cell_type": "code",
   "execution_count": 16,
   "metadata": {},
   "outputs": [],
   "source": [
    "user_to_sessions = {\n",
    "    user: sessions_df[sessions_df['user'] == user]\n",
    "    for user in set(sessions_df['user'])\n",
    "}"
   ]
  },
  {
   "cell_type": "code",
   "execution_count": 18,
   "metadata": {},
   "outputs": [],
   "source": [
    "# user_to_sessions['AAC0070']"
   ]
  },
  {
   "cell_type": "code",
   "execution_count": 17,
   "metadata": {},
   "outputs": [],
   "source": [
    "def draw_anomalies_session_time(data, anomalies):\n",
    "    plt.figure(figsize=(10, 7))\n",
    "    # Точки, предсказанные как обычные\n",
    "    plt.scatter(data[anomalies == 1]['session_start_rlt'], data[anomalies == 1]['session_end_rlt'], c='blue', alpha=0.2, label='Обычные точки')\n",
    "    # Точки, предсказанные как аномалии\n",
    "    plt.scatter(data[anomalies == -1]['session_start_rlt'], data[anomalies == -1]['session_end_rlt'], c='red', alpha=0.2, label='Аномалии')\n",
    "    plt.legend()\n",
    "    plt.xlabel('Logon')\n",
    "    plt.ylabel('Logoff')\n",
    "    plt.title('Результаты поиска аномалий')\n",
    "    plt.show()"
   ]
  },
  {
   "cell_type": "code",
   "execution_count": 28,
   "metadata": {},
   "outputs": [],
   "source": [
    "# user_to_sessions['AAC0070'].columns"
   ]
  },
  {
   "cell_type": "code",
   "execution_count": 25,
   "metadata": {},
   "outputs": [
    {
     "data": {
      "image/png": "[encoded data removed]",
      "text/plain": [
       "<Figure size 1000x700 with 1 Axes>"
      ]
     },
     "metadata": {},
     "output_type": "display_data"
    },
    {
     "data": {
      "text/plain": [
       "Counter({1: 426})"
      ]
     },
     "execution_count": 25,
     "metadata": {},
     "output_type": "execute_result"
    }
   ],
   "source": [
    "from sklearn.cluster import DBSCAN\n",
    "\n",
    "def time_metric(X, Y):\n",
    "    a = min(abs(Y[0] - X[0]),abs(X[0] + 1 - Y[0]))\n",
    "    b = min(abs(Y[1] - X[1]),abs(X[1] + 1 - Y[1]))\n",
    "    return (a * a + b * b) ** 0.5\n",
    "\n",
    "sessions3 = user_to_sessions['TAP0551']\n",
    "df = sessions3.drop(\n",
    "    ['user', 'session_id', 'session_start', 'session_end', 'file_activity',\n",
    "       'file_activity_bool', 'device_activity', 'device_activity_bool'],\n",
    "    axis=1,\n",
    ")\n",
    "\n",
    "db = DBSCAN(eps=0.3, min_samples=7, metric=time_metric).fit(df)\n",
    "\n",
    "draw_anomalies_session_time(df, np.array([-1 if i == -1 else 1 for i in db.labels_]))\n",
    "Counter([-1 if i == -1 else 1 for i in db.labels_])"
   ]
  },
  {
   "cell_type": "code",
   "execution_count": 24,
   "metadata": {},
   "outputs": [
    {
     "data": {
      "image/png": "[encoded data removed]",
      "text/plain": [
       "<Figure size 1000x700 with 1 Axes>"
      ]
     },
     "metadata": {},
     "output_type": "display_data"
    }
   ],
   "source": [
    "df = user_to_sessions['TAP0551'].drop(\n",
    "    ['user', 'session_id', 'session_start', 'session_end', 'file_activity_bool',\n",
    "        'device_activity_bool',\n",
    "       'session_start_rlt', 'session_end_rlt'],\n",
    "    axis=1,\n",
    ")\n",
    "\n",
    "\n",
    "db = DBSCAN(eps=1, min_samples=30, metric=time_metric).fit(df)\n",
    "\n",
    "anomalies = np.array([-1 if i == -1 else 1 for i in db.labels_])\n",
    "plt.figure(figsize=(10, 7))\n",
    "# Точки, предсказанные как обычные\n",
    "plt.scatter(df[anomalies == 1]['file_activity'], df[anomalies == 1]['device_activity'], c='blue', alpha=0.2, label='Обычные точки')\n",
    "# Точки, предсказанные как аномалии\n",
    "plt.scatter(df[anomalies == -1]['file_activity'], df[anomalies == -1]['device_activity'], c='red', alpha=0.2, label='Аномалии')\n",
    "plt.legend()\n",
    "plt.xlabel('file')\n",
    "plt.ylabel('device')\n",
    "plt.title('Результаты поиска аномалий')\n",
    "plt.show()"
   ]
  },
  {
   "cell_type": "code",
   "execution_count": 20,
   "metadata": {},
   "outputs": [],
   "source": [
    "# используем DBSCAN\n",
    "malicios_sessions = set()\n",
    "for user, user_sessions_df in user_to_sessions.items():\n",
    "    df = user_sessions_df.drop(\n",
    "        ['user', 'session_id', 'session_start', 'session_end', 'file_activity',\n",
    "       'file_activity_bool', 'device_activity', 'device_activity_bool'],\n",
    "        axis=1,\n",
    "    )\n",
    "    db = DBSCAN(eps=0.3, min_samples=7, metric=time_metric).fit(df)\n",
    "\n",
    "    for session_id, pred in zip(user_sessions_df['session_id'], db.labels_):\n",
    "        if pred == -1:\n",
    "            malicios_sessions.add(session_id)"
   ]
  },
  {
   "cell_type": "code",
   "execution_count": 21,
   "metadata": {},
   "outputs": [],
   "source": [
    "# используем DBSCAN\n",
    "malicios_sessions1 = set()\n",
    "for user, user_sessions_df in user_to_sessions.items():\n",
    "    df = user_sessions_df.drop(\n",
    "        ['user', 'session_id', 'session_start', 'session_end', 'file_activity',\n",
    "        'device_activity',\n",
    "       'session_start_rlt', 'session_end_rlt'],\n",
    "        axis=1,\n",
    "    )\n",
    "    db = DBSCAN(eps=0.5, min_samples=7).fit(df)\n",
    "\n",
    "    for session_id, pred in zip(user_sessions_df['session_id'], db.labels_):\n",
    "        if pred == -1:\n",
    "            malicios_sessions1.add(session_id)"
   ]
  },
  {
   "cell_type": "code",
   "execution_count": 22,
   "metadata": {},
   "outputs": [
    {
     "data": {
      "text/plain": [
       "{'AAM0658_204',\n",
       " 'AAM0658_207',\n",
       " 'AAM0658_210',\n",
       " 'AAM0658_213',\n",
       " 'AAM0658_216',\n",
       " 'AJR0932_175',\n",
       " 'AJR0932_177',\n",
       " 'AJR0932_181',\n",
       " 'AJR0932_184',\n",
       " 'BDV0168_146',\n",
       " 'BDV0168_148',\n",
       " 'BDV0168_151',\n",
       " 'BDV0168_154',\n",
       " 'BDV0168_157',\n",
       " 'BIH0745_125',\n",
       " 'BIH0745_128',\n",
       " 'BIH0745_132',\n",
       " 'BIH0745_137',\n",
       " 'BLS0678_326',\n",
       " 'BLS0678_329',\n",
       " 'BLS0678_342',\n",
       " 'DCH0843_270',\n",
       " 'DCH0843_272',\n",
       " 'DCH0843_275',\n",
       " 'DCH0843_278',\n",
       " 'DCH0843_281',\n",
       " 'EHB0824_139',\n",
       " 'EHB0824_142',\n",
       " 'EHB0824_145',\n",
       " 'EHB0824_147',\n",
       " 'EHB0824_149',\n",
       " 'FMG0527_251',\n",
       " 'FMG0527_255',\n",
       " 'FMG0527_258',\n",
       " 'FMG0527_261',\n",
       " 'FTM0406_227',\n",
       " 'FTM0406_230',\n",
       " 'FTM0406_233',\n",
       " 'FTM0406_235',\n",
       " 'GHL0460_213',\n",
       " 'GHL0460_218',\n",
       " 'GHL0460_223',\n",
       " 'JMB0308_133',\n",
       " 'JMB0308_135',\n",
       " 'JMB0308_137',\n",
       " 'JMB0308_142',\n",
       " 'JRG0207_262',\n",
       " 'JRG0207_265',\n",
       " 'JRG0207_267',\n",
       " 'JRG0207_271',\n",
       " 'JRG0207_275',\n",
       " 'KLH0596_273',\n",
       " 'KLH0596_278',\n",
       " 'KLH0596_283',\n",
       " 'KPC0073_129',\n",
       " 'KPC0073_131',\n",
       " 'KPC0073_133',\n",
       " 'KPC0073_136',\n",
       " 'KPC0073_139',\n",
       " 'LJR0523_146',\n",
       " 'LJR0523_148',\n",
       " 'LJR0523_152',\n",
       " 'LJR0523_155',\n",
       " 'LJR0523_158',\n",
       " 'LQC0479_177',\n",
       " 'LQC0479_179',\n",
       " 'LQC0479_181',\n",
       " 'LQC0479_186',\n",
       " 'MAR0955_276',\n",
       " 'MAR0955_278',\n",
       " 'MAR0955_280',\n",
       " 'MAR0955_283',\n",
       " 'MAR0955_287',\n",
       " 'MAR0955_289',\n",
       " 'MAS0025_183',\n",
       " 'MAS0025_188',\n",
       " 'MAS0025_190',\n",
       " 'MAS0025_193',\n",
       " 'MAS0025_195',\n",
       " 'MYD0978_236',\n",
       " 'MYD0978_241',\n",
       " 'MYD0978_243',\n",
       " 'MYD0978_247',\n",
       " 'PPF0435_270',\n",
       " 'PPF0435_275',\n",
       " 'PPF0435_278',\n",
       " 'PPF0435_281',\n",
       " 'RGG0064_361',\n",
       " 'RGG0064_365',\n",
       " 'RGG0064_368',\n",
       " 'RKD0604_132',\n",
       " 'RKD0604_135',\n",
       " 'RKD0604_138',\n",
       " 'RKD0604_141'}"
      ]
     },
     "execution_count": 22,
     "metadata": {},
     "output_type": "execute_result"
    }
   ],
   "source": [
    "malicios_sessions1 & malicios_sessions"
   ]
  },
  {
   "cell_type": "code",
   "execution_count": 23,
   "metadata": {},
   "outputs": [
    {
     "data": {
      "text/plain": [
       "{'AAM0658',\n",
       " 'AJR0932',\n",
       " 'BDV0168',\n",
       " 'BIH0745',\n",
       " 'BLS0678',\n",
       " 'DCH0843',\n",
       " 'EHB0824',\n",
       " 'FMG0527',\n",
       " 'FTM0406',\n",
       " 'GHL0460',\n",
       " 'JMB0308',\n",
       " 'JRG0207',\n",
       " 'KLH0596',\n",
       " 'KPC0073',\n",
       " 'LJR0523',\n",
       " 'LQC0479',\n",
       " 'MAR0955',\n",
       " 'MAS0025',\n",
       " 'MYD0978',\n",
       " 'PPF0435',\n",
       " 'RGG0064',\n",
       " 'RKD0604'}"
      ]
     },
     "execution_count": 23,
     "metadata": {},
     "output_type": "execute_result"
    }
   ],
   "source": [
    "set(sid.split('_')[0] for sid in (malicios_sessions1 & malicios_sessions))"
   ]
  },
  {
   "cell_type": "code",
   "execution_count": 25,
   "metadata": {},
   "outputs": [],
   "source": [
    "filtered_sessions_df = sessions_df[sessions_df.apply(lambda x: x['session_id'] in malicios_sessions, axis=1)]"
   ]
  },
  {
   "cell_type": "code",
   "execution_count": 26,
   "metadata": {},
   "outputs": [
    {
     "data": {
      "text/html": [
       "<div>\n",
       "<style scoped>\n",
       "    .dataframe tbody tr th:only-of-type {\n",
       "        vertical-align: middle;\n",
       "    }\n",
       "\n",
       "    .dataframe tbody tr th {\n",
       "        vertical-align: top;\n",
       "    }\n",
       "\n",
       "    .dataframe thead th {\n",
       "        text-align: right;\n",
       "    }\n",
       "</style>\n",
       "<table border=\"1\" class=\"dataframe\">\n",
       "  <thead>\n",
       "    <tr style=\"text-align: right;\">\n",
       "      <th></th>\n",
       "      <th>user</th>\n",
       "      <th>session_id</th>\n",
       "      <th>session_start</th>\n",
       "      <th>session_end</th>\n",
       "      <th>file_activity</th>\n",
       "      <th>file_activity_bool</th>\n",
       "      <th>device_activity</th>\n",
       "      <th>device_activity_bool</th>\n",
       "      <th>session_start_rlt</th>\n",
       "      <th>session_end_rlt</th>\n",
       "    </tr>\n",
       "  </thead>\n",
       "  <tbody>\n",
       "    <tr>\n",
       "      <th>3193</th>\n",
       "      <td>ABB0427</td>\n",
       "      <td>ABB0427_160</td>\n",
       "      <td>2010-08-18T21:20:07</td>\n",
       "      <td>2010-08-19T05:07:48</td>\n",
       "      <td>20</td>\n",
       "      <td>1</td>\n",
       "      <td>10</td>\n",
       "      <td>1</td>\n",
       "      <td>0.888889</td>\n",
       "      <td>0.213194</td>\n",
       "    </tr>\n",
       "    <tr>\n",
       "      <th>3196</th>\n",
       "      <td>ABB0427</td>\n",
       "      <td>ABB0427_163</td>\n",
       "      <td>2010-08-21T05:20:34</td>\n",
       "      <td>2010-08-21T05:53:25</td>\n",
       "      <td>0</td>\n",
       "      <td>0</td>\n",
       "      <td>2</td>\n",
       "      <td>1</td>\n",
       "      <td>0.222222</td>\n",
       "      <td>0.245139</td>\n",
       "    </tr>\n",
       "    <tr>\n",
       "      <th>3199</th>\n",
       "      <td>ABB0427</td>\n",
       "      <td>ABB0427_166</td>\n",
       "      <td>2010-08-25T01:13:17</td>\n",
       "      <td>2010-08-25T03:39:12</td>\n",
       "      <td>11</td>\n",
       "      <td>1</td>\n",
       "      <td>8</td>\n",
       "      <td>1</td>\n",
       "      <td>0.050694</td>\n",
       "      <td>0.152083</td>\n",
       "    </tr>\n",
       "    <tr>\n",
       "      <th>3202</th>\n",
       "      <td>ABB0427</td>\n",
       "      <td>ABB0427_169</td>\n",
       "      <td>2010-08-27T00:19:19</td>\n",
       "      <td>2010-08-27T05:39:51</td>\n",
       "      <td>0</td>\n",
       "      <td>0</td>\n",
       "      <td>2</td>\n",
       "      <td>1</td>\n",
       "      <td>0.013194</td>\n",
       "      <td>0.235417</td>\n",
       "    </tr>\n",
       "    <tr>\n",
       "      <th>3206</th>\n",
       "      <td>ABB0427</td>\n",
       "      <td>ABB0427_172</td>\n",
       "      <td>2010-08-30T19:45:45</td>\n",
       "      <td>2010-08-31T03:17:31</td>\n",
       "      <td>10</td>\n",
       "      <td>1</td>\n",
       "      <td>12</td>\n",
       "      <td>1</td>\n",
       "      <td>0.822917</td>\n",
       "      <td>0.136806</td>\n",
       "    </tr>\n",
       "  </tbody>\n",
       "</table>\n",
       "</div>"
      ],
      "text/plain": [
       "         user   session_id        session_start          session_end  \\\n",
       "3193  ABB0427  ABB0427_160  2010-08-18T21:20:07  2010-08-19T05:07:48   \n",
       "3196  ABB0427  ABB0427_163  2010-08-21T05:20:34  2010-08-21T05:53:25   \n",
       "3199  ABB0427  ABB0427_166  2010-08-25T01:13:17  2010-08-25T03:39:12   \n",
       "3202  ABB0427  ABB0427_169  2010-08-27T00:19:19  2010-08-27T05:39:51   \n",
       "3206  ABB0427  ABB0427_172  2010-08-30T19:45:45  2010-08-31T03:17:31   \n",
       "\n",
       "      file_activity  file_activity_bool  device_activity  \\\n",
       "3193             20                   1               10   \n",
       "3196              0                   0                2   \n",
       "3199             11                   1                8   \n",
       "3202              0                   0                2   \n",
       "3206             10                   1               12   \n",
       "\n",
       "      device_activity_bool  session_start_rlt  session_end_rlt  \n",
       "3193                     1           0.888889         0.213194  \n",
       "3196                     1           0.222222         0.245139  \n",
       "3199                     1           0.050694         0.152083  \n",
       "3202                     1           0.013194         0.235417  \n",
       "3206                     1           0.822917         0.136806  "
      ]
     },
     "execution_count": 26,
     "metadata": {},
     "output_type": "execute_result"
    }
   ],
   "source": [
    "filtered_sessions_df.head()"
   ]
  },
  {
   "cell_type": "code",
   "execution_count": 30,
   "metadata": {},
   "outputs": [
    {
     "ename": "NameError",
     "evalue": "name 'filtered_sessions_df' is not defined",
     "output_type": "error",
     "traceback": [
      "\u001b[0;31m---------------------------------------------------------------------------\u001b[0m",
      "\u001b[0;31mNameError\u001b[0m                                 Traceback (most recent call last)",
      "Cell \u001b[0;32mIn[30], line 1\u001b[0m\n\u001b[0;32m----> 1\u001b[0m \u001b[38;5;28mset\u001b[39m(\u001b[43mfiltered_sessions_df\u001b[49m[\u001b[38;5;124m'\u001b[39m\u001b[38;5;124muser\u001b[39m\u001b[38;5;124m'\u001b[39m])\n",
      "\u001b[0;31mNameError\u001b[0m: name 'filtered_sessions_df' is not defined"
     ]
    }
   ],
   "source": [
    "set(filtered_sessions_df['user'])"
   ]
  },
  {
   "cell_type": "code",
   "execution_count": 27,
   "metadata": {},
   "outputs": [],
   "source": [
    "target_ids = set()\n",
    "\n",
    "with open(ANSWERS_PATH.format(attacker=1)) as f1:\n",
    "    for row in f1.readlines():\n",
    "        if row.strip():\n",
    "            target_ids.add(row.split(',')[1])"
   ]
  },
  {
   "cell_type": "code",
   "execution_count": 28,
   "metadata": {},
   "outputs": [],
   "source": [
    "insider_session_ids = set()\n",
    "\n",
    "for _, row in actions_df.iterrows():\n",
    "    if str(row['id']) in target_ids:\n",
    "        insider_session_ids.add(row['session_id'])"
   ]
  },
  {
   "cell_type": "code",
   "execution_count": 62,
   "metadata": {},
   "outputs": [
    {
     "data": {
      "text/plain": [
       "True"
      ]
     },
     "execution_count": 62,
     "metadata": {},
     "output_type": "execute_result"
    }
   ],
   "source": [
    "insider_session_ids <= malicios_sessions  # инсайдерские сессии есть в выбранных нами?"
   ]
  },
  {
   "cell_type": "code",
   "execution_count": null,
   "metadata": {},
   "outputs": [
    {
     "name": "stdout",
     "output_type": "stream",
     "text": [
      "CSF0929_141 True\n",
      "CSF0929_138 True\n",
      "CSF0929_126 True\n",
      "CSF0929_129 True\n",
      "CSF0929_134 True\n",
      "CSF0929_132 True\n"
     ]
    }
   ],
   "source": [
    "# для инсайдера CSF0929 все сессии еть\n",
    "# для инсайдера CCH0959 нет, потому что многие из них состоят исключительно из http запросов,\n",
    "# которые на данный момент мы не обрабатывали – сейчас мы его игнорируем\n",
    "\n",
    "for sid in insider_session_ids:\n",
    "    print(sid, sid in malicios_sessions)"
   ]
  },
  {
   "cell_type": "code",
   "execution_count": 64,
   "metadata": {},
   "outputs": [],
   "source": [
    "filtered_actions_df = actions_df[actions_df.apply(lambda x: x['session_id'] in malicios_sessions, axis=1)]"
   ]
  },
  {
   "cell_type": "code",
   "execution_count": 65,
   "metadata": {},
   "outputs": [
    {
     "name": "stderr",
     "output_type": "stream",
     "text": [
      "/tmp/ipykernel_7371/1027974661.py:1: SettingWithCopyWarning: \n",
      "A value is trying to be set on a copy of a slice from a DataFrame.\n",
      "Try using .loc[row_indexer,col_indexer] = value instead\n",
      "\n",
      "See the caveats in the documentation: https://pandas.pydata.org/pandas-docs/stable/user_guide/indexing.html#returning-a-view-versus-a-copy\n",
      "  filtered_actions_df['target'] = filtered_actions_df.apply(lambda x: x['id'] in target_ids, axis=1)\n"
     ]
    }
   ],
   "source": [
    "filtered_actions_df['target'] = filtered_actions_df.apply(lambda x: x['id'] in target_ids, axis=1)"
   ]
  },
  {
   "cell_type": "code",
   "execution_count": 89,
   "metadata": {},
   "outputs": [
    {
     "data": {
      "text/plain": [
       "0.0038475411807142"
      ]
     },
     "execution_count": 89,
     "metadata": {},
     "output_type": "execute_result"
    }
   ],
   "source": [
    "# баланс?\n",
    "filtered_actions_df[filtered_actions_df['target'] == 1].shape[0] / filtered_actions_df.shape[0]"
   ]
  },
  {
   "cell_type": "code",
   "execution_count": 42,
   "metadata": {},
   "outputs": [
    {
     "data": {
      "text/plain": [
       "Index(['id', 'date', 'user', 'pc', 'activity', 'filename', 'content',\n",
       "       'timestamp', 'session_id', 'file_activity', 'device_activity',\n",
       "       'target'],\n",
       "      dtype='object')"
      ]
     },
     "execution_count": 42,
     "metadata": {},
     "output_type": "execute_result"
    }
   ],
   "source": [
    "filtered_actions_df.columns"
   ]
  },
  {
   "cell_type": "code",
   "execution_count": 43,
   "metadata": {},
   "outputs": [],
   "source": [
    "sessions_df.to_csv('../datasets/r3.1-session_df.csv')"
   ]
  },
  {
   "cell_type": "code",
   "execution_count": 88,
   "metadata": {},
   "outputs": [],
   "source": [
    "filtered_actions_df.to_csv('../datasets/r3.1-actions_df_1.csv')"
   ]
  },
  {
   "cell_type": "code",
   "execution_count": 90,
   "metadata": {},
   "outputs": [
    {
     "data": {
      "text/plain": [
       "35"
      ]
     },
     "execution_count": 90,
     "metadata": {},
     "output_type": "execute_result"
    }
   ],
   "source": [
    "len(target_ids)"
   ]
  },
  {
   "cell_type": "code",
   "execution_count": null,
   "metadata": {},
   "outputs": [],
   "source": []
  }
 ],
 "metadata": {
  "kernelspec": {
   "display_name": ".venv",
   "language": "python",
   "name": "python3"
  },
  "language_info": {
   "codemirror_mode": {
    "name": "ipython",
    "version": 3
   },
   "file_extension": ".py",
   "mimetype": "text/x-python",
   "name": "python",
   "nbconvert_exporter": "python",
   "pygments_lexer": "ipython3",
   "version": "3.12.2"
  }
 },
 "nbformat": 4,
 "nbformat_minor": 2
}
