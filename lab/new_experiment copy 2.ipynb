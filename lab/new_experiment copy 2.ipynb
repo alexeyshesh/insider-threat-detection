{
 "cells": [
  {
   "cell_type": "code",
   "execution_count": null,
   "metadata": {},
   "outputs": [],
   "source": [
    "# Идея: собрать вместе наборы данных и выделить сессии, которые можно считать аномальными\n",
    "# Далее на аномальных сессиях запустить классификатор"
   ]
  },
  {
   "cell_type": "code",
   "execution_count": 1,
   "metadata": {},
   "outputs": [],
   "source": [
    "from collections import defaultdict, Counter\n",
    "from datetime import datetime\n",
    "\n",
    "import pandas as pd\n",
    "from sklearn.svm import OneClassSVM\n",
    "from sklearn.preprocessing import StandardScaler\n",
    "import matplotlib.pyplot as plt\n",
    "\n",
    "\n",
    "import numpy as np\n",
    "import math\n",
    "\n",
    "\n",
    "DATASET_VERSION = '3.2'\n",
    "DATA_PATH = f'../data/r{DATASET_VERSION}/{{type}}.csv'\n",
    "ANSWERS_PATH = f'../data/answers/r{DATASET_VERSION}-{{attacker}}.csv'\n",
    "DATE_FORMAT = '%Y-%m-%dT%H:%M:%S'"
   ]
  },
  {
   "cell_type": "code",
   "execution_count": 2,
   "metadata": {},
   "outputs": [],
   "source": [
    "def dt(timestamp: str) -> datetime:\n",
    "    return datetime.strptime(timestamp, '%m/%d/%Y %H:%M:%S')"
   ]
  },
  {
   "cell_type": "code",
   "execution_count": 3,
   "metadata": {},
   "outputs": [],
   "source": [
    "# Шаги:\n",
    "# 1. Взять logon.csv и получить ID, время начлаа и конца всех сессий.\n",
    "# 2. Взять среднее время первого входа и последнего выхода каждого сотрудника за первые три месяца, чтобы получить продолжительность рабочего дня\n",
    "# 3. Добавить к данным о сессиях, в рабочее время они происходили или нет (не в рабочее – если сессия закначивалась до начала рабочего дня или начаналась после)\n",
    "# 4. Склеить действия из device и file, проставить сессии и рабочее / нерабочее время\n",
    "# 5. Получить агрегатные данные по сессиям (сколько раз подключалось устройство, сколько было открыто файлов)\n",
    "# 6. За первые штри месяца посчитать средние и отклонения от них в процентах (0..1)\n",
    "# 7. Запустить OCSVM на сессиях каждого пользователя и выбрать аномальные сессии\n",
    "# 8. Отфильтровать данные по аномальным сессиям"
   ]
  },
  {
   "cell_type": "code",
   "execution_count": 4,
   "metadata": {},
   "outputs": [],
   "source": [
    "logon_df = pd.read_csv(DATA_PATH.format(type='logon'))"
   ]
  },
  {
   "cell_type": "code",
   "execution_count": 5,
   "metadata": {},
   "outputs": [
    {
     "data": {
      "text/html": [
       "<div>\n",
       "<style scoped>\n",
       "    .dataframe tbody tr th:only-of-type {\n",
       "        vertical-align: middle;\n",
       "    }\n",
       "\n",
       "    .dataframe tbody tr th {\n",
       "        vertical-align: top;\n",
       "    }\n",
       "\n",
       "    .dataframe thead th {\n",
       "        text-align: right;\n",
       "    }\n",
       "</style>\n",
       "<table border=\"1\" class=\"dataframe\">\n",
       "  <thead>\n",
       "    <tr style=\"text-align: right;\">\n",
       "      <th></th>\n",
       "      <th>id</th>\n",
       "      <th>date</th>\n",
       "      <th>user</th>\n",
       "      <th>pc</th>\n",
       "      <th>activity</th>\n",
       "    </tr>\n",
       "  </thead>\n",
       "  <tbody>\n",
       "    <tr>\n",
       "      <th>0</th>\n",
       "      <td>{Q9R3-U1PE27LQ-2164BJLT}</td>\n",
       "      <td>01/01/2010 06:20:00</td>\n",
       "      <td>SLW0616</td>\n",
       "      <td>PC-0110</td>\n",
       "      <td>Logon</td>\n",
       "    </tr>\n",
       "    <tr>\n",
       "      <th>1</th>\n",
       "      <td>{R1B6-S0LQ34EP-3361QPTV}</td>\n",
       "      <td>01/01/2010 06:28:00</td>\n",
       "      <td>RPM0600</td>\n",
       "      <td>PC-9164</td>\n",
       "      <td>Logon</td>\n",
       "    </tr>\n",
       "    <tr>\n",
       "      <th>2</th>\n",
       "      <td>{Y3R9-H0JY37RA-5902HXNX}</td>\n",
       "      <td>01/01/2010 07:04:00</td>\n",
       "      <td>DAM0170</td>\n",
       "      <td>PC-1525</td>\n",
       "      <td>Logon</td>\n",
       "    </tr>\n",
       "    <tr>\n",
       "      <th>3</th>\n",
       "      <td>{D5B1-I6BP26NF-3845HZNZ}</td>\n",
       "      <td>01/01/2010 07:23:00</td>\n",
       "      <td>WXW0044</td>\n",
       "      <td>PC-9422</td>\n",
       "      <td>Logon</td>\n",
       "    </tr>\n",
       "    <tr>\n",
       "      <th>4</th>\n",
       "      <td>{I0N6-I9PB69SZ-5272SLAT}</td>\n",
       "      <td>01/01/2010 07:31:00</td>\n",
       "      <td>RLD0349</td>\n",
       "      <td>PC-1290</td>\n",
       "      <td>Logon</td>\n",
       "    </tr>\n",
       "  </tbody>\n",
       "</table>\n",
       "</div>"
      ],
      "text/plain": [
       "                         id                 date     user       pc activity\n",
       "0  {Q9R3-U1PE27LQ-2164BJLT}  01/01/2010 06:20:00  SLW0616  PC-0110    Logon\n",
       "1  {R1B6-S0LQ34EP-3361QPTV}  01/01/2010 06:28:00  RPM0600  PC-9164    Logon\n",
       "2  {Y3R9-H0JY37RA-5902HXNX}  01/01/2010 07:04:00  DAM0170  PC-1525    Logon\n",
       "3  {D5B1-I6BP26NF-3845HZNZ}  01/01/2010 07:23:00  WXW0044  PC-9422    Logon\n",
       "4  {I0N6-I9PB69SZ-5272SLAT}  01/01/2010 07:31:00  RLD0349  PC-1290    Logon"
      ]
     },
     "execution_count": 5,
     "metadata": {},
     "output_type": "execute_result"
    }
   ],
   "source": [
    "logon_df.head()"
   ]
  },
  {
   "cell_type": "code",
   "execution_count": 6,
   "metadata": {},
   "outputs": [],
   "source": [
    "sessions = defaultdict(list)\n",
    "\n",
    "for _, row in logon_df.iterrows():\n",
    "    user = row['user']\n",
    "    ts = dt(row['date'])\n",
    "    action = row['activity']\n",
    "\n",
    "    if action == 'Logon':\n",
    "        if sessions[user] and len(sessions[user][-1]) == 1:\n",
    "            sessions[user][-1] = (sessions[user][-1][0], ts)\n",
    "        sessions[user].append((ts,))\n",
    "    else:\n",
    "        if sessions[user] and len(sessions[user][-1]) == 2:\n",
    "            sessions[user].append((None, ts))\n",
    "        else:\n",
    "            sessions[user][-1] = (sessions[user][-1][0], ts)\n",
    "\n"
   ]
  },
  {
   "cell_type": "code",
   "execution_count": null,
   "metadata": {},
   "outputs": [],
   "source": [
    "actions_df = pd.concat(\n",
    "    [\n",
    "        logon_df,\n",
    "        pd.read_csv(DATA_PATH.format(type='file')),\n",
    "        pd.read_csv(DATA_PATH.format(type='device')),\n",
    "    ],\n",
    "    axis=0,\n",
    "    ignore_index=True,\n",
    ")"
   ]
  },
  {
   "cell_type": "code",
   "execution_count": null,
   "metadata": {},
   "outputs": [],
   "source": [
    "actions_df['timestamp'] = actions_df.apply(lambda x: dt(x['date']).strftime('%Y-%m-%dT%H:%M:%S'), axis=1)"
   ]
  },
  {
   "cell_type": "code",
   "execution_count": null,
   "metadata": {},
   "outputs": [],
   "source": [
    "actions_df = actions_df.sort_values(by='timestamp')"
   ]
  },
  {
   "cell_type": "code",
   "execution_count": null,
   "metadata": {},
   "outputs": [],
   "source": [
    "def get_session_id(user: str, timestamp: datetime) -> str:\n",
    "    for idx, (from_, to_) in enumerate(sessions[user]):\n",
    "        if from_ is not None and (from_ <= timestamp <= to_):\n",
    "            return f'{user}_{idx}'\n",
    "        if from_ is None and to_ > timestamp:\n",
    "            return f'{user}_{idx}'\n",
    "\n",
    "actions_df['session_id'] = actions_df.apply(lambda x: get_session_id(x['user'], dt(x['date'])), axis=1)"
   ]
  },
  {
   "cell_type": "code",
   "execution_count": null,
   "metadata": {},
   "outputs": [],
   "source": [
    "actions_df['filename'] = actions_df['filename'].fillna('')\n",
    "\n",
    "actions_df['file_activity'] = actions_df.apply(lambda x: int(bool(x['filename'])), axis=1)\n",
    "actions_df['device_activity'] = actions_df.apply(lambda x: int(x['activity'] in {'Connect', 'Disconnect'}), axis=1)"
   ]
  },
  {
   "cell_type": "code",
   "execution_count": null,
   "metadata": {},
   "outputs": [
    {
     "data": {
      "text/html": [
       "<div>\n",
       "<style scoped>\n",
       "    .dataframe tbody tr th:only-of-type {\n",
       "        vertical-align: middle;\n",
       "    }\n",
       "\n",
       "    .dataframe tbody tr th {\n",
       "        vertical-align: top;\n",
       "    }\n",
       "\n",
       "    .dataframe thead th {\n",
       "        text-align: right;\n",
       "    }\n",
       "</style>\n",
       "<table border=\"1\" class=\"dataframe\">\n",
       "  <thead>\n",
       "    <tr style=\"text-align: right;\">\n",
       "      <th></th>\n",
       "      <th>id</th>\n",
       "      <th>date</th>\n",
       "      <th>user</th>\n",
       "      <th>pc</th>\n",
       "      <th>activity</th>\n",
       "      <th>filename</th>\n",
       "      <th>content</th>\n",
       "      <th>timestamp</th>\n",
       "      <th>session_id</th>\n",
       "      <th>file_activity</th>\n",
       "      <th>device_activity</th>\n",
       "    </tr>\n",
       "  </thead>\n",
       "  <tbody>\n",
       "    <tr>\n",
       "      <th>0</th>\n",
       "      <td>{Q9R3-U1PE27LQ-2164BJLT}</td>\n",
       "      <td>01/01/2010 06:20:00</td>\n",
       "      <td>SLW0616</td>\n",
       "      <td>PC-0110</td>\n",
       "      <td>Logon</td>\n",
       "      <td></td>\n",
       "      <td>NaN</td>\n",
       "      <td>2010-01-01T06:20:00</td>\n",
       "      <td>SLW0616_0</td>\n",
       "      <td>0</td>\n",
       "      <td>0</td>\n",
       "    </tr>\n",
       "    <tr>\n",
       "      <th>1</th>\n",
       "      <td>{R1B6-S0LQ34EP-3361QPTV}</td>\n",
       "      <td>01/01/2010 06:28:00</td>\n",
       "      <td>RPM0600</td>\n",
       "      <td>PC-9164</td>\n",
       "      <td>Logon</td>\n",
       "      <td></td>\n",
       "      <td>NaN</td>\n",
       "      <td>2010-01-01T06:28:00</td>\n",
       "      <td>RPM0600_0</td>\n",
       "      <td>0</td>\n",
       "      <td>0</td>\n",
       "    </tr>\n",
       "    <tr>\n",
       "      <th>1280120</th>\n",
       "      <td>{R8N4-R8YE70QN-3287FCGL}</td>\n",
       "      <td>01/01/2010 06:46:40</td>\n",
       "      <td>RPM0600</td>\n",
       "      <td>PC-9164</td>\n",
       "      <td>Connect</td>\n",
       "      <td></td>\n",
       "      <td>NaN</td>\n",
       "      <td>2010-01-01T06:46:40</td>\n",
       "      <td>RPM0600_0</td>\n",
       "      <td>0</td>\n",
       "      <td>1</td>\n",
       "    </tr>\n",
       "    <tr>\n",
       "      <th>845351</th>\n",
       "      <td>{M8R9-I5RI11PG-5467DBVR}</td>\n",
       "      <td>01/01/2010 06:51:00</td>\n",
       "      <td>RPM0600</td>\n",
       "      <td>PC-9164</td>\n",
       "      <td>NaN</td>\n",
       "      <td>5B9VCBIU.doc</td>\n",
       "      <td>D0-CF-11-E0-A1-B1-1A-E1 m45 adss arxiv 1128955...</td>\n",
       "      <td>2010-01-01T06:51:00</td>\n",
       "      <td>RPM0600_0</td>\n",
       "      <td>1</td>\n",
       "      <td>0</td>\n",
       "    </tr>\n",
       "    <tr>\n",
       "      <th>2</th>\n",
       "      <td>{Y3R9-H0JY37RA-5902HXNX}</td>\n",
       "      <td>01/01/2010 07:04:00</td>\n",
       "      <td>DAM0170</td>\n",
       "      <td>PC-1525</td>\n",
       "      <td>Logon</td>\n",
       "      <td></td>\n",
       "      <td>NaN</td>\n",
       "      <td>2010-01-01T07:04:00</td>\n",
       "      <td>DAM0170_0</td>\n",
       "      <td>0</td>\n",
       "      <td>0</td>\n",
       "    </tr>\n",
       "  </tbody>\n",
       "</table>\n",
       "</div>"
      ],
      "text/plain": [
       "                               id                 date     user       pc  \\\n",
       "0        {Q9R3-U1PE27LQ-2164BJLT}  01/01/2010 06:20:00  SLW0616  PC-0110   \n",
       "1        {R1B6-S0LQ34EP-3361QPTV}  01/01/2010 06:28:00  RPM0600  PC-9164   \n",
       "1280120  {R8N4-R8YE70QN-3287FCGL}  01/01/2010 06:46:40  RPM0600  PC-9164   \n",
       "845351   {M8R9-I5RI11PG-5467DBVR}  01/01/2010 06:51:00  RPM0600  PC-9164   \n",
       "2        {Y3R9-H0JY37RA-5902HXNX}  01/01/2010 07:04:00  DAM0170  PC-1525   \n",
       "\n",
       "        activity      filename  \\\n",
       "0          Logon                 \n",
       "1          Logon                 \n",
       "1280120  Connect                 \n",
       "845351       NaN  5B9VCBIU.doc   \n",
       "2          Logon                 \n",
       "\n",
       "                                                   content  \\\n",
       "0                                                      NaN   \n",
       "1                                                      NaN   \n",
       "1280120                                                NaN   \n",
       "845351   D0-CF-11-E0-A1-B1-1A-E1 m45 adss arxiv 1128955...   \n",
       "2                                                      NaN   \n",
       "\n",
       "                   timestamp session_id  file_activity  device_activity  \n",
       "0        2010-01-01T06:20:00  SLW0616_0              0                0  \n",
       "1        2010-01-01T06:28:00  RPM0600_0              0                0  \n",
       "1280120  2010-01-01T06:46:40  RPM0600_0              0                1  \n",
       "845351   2010-01-01T06:51:00  RPM0600_0              1                0  \n",
       "2        2010-01-01T07:04:00  DAM0170_0              0                0  "
      ]
     },
     "execution_count": 20,
     "metadata": {},
     "output_type": "execute_result"
    }
   ],
   "source": [
    "actions_df.head()"
   ]
  },
  {
   "cell_type": "code",
   "execution_count": null,
   "metadata": {},
   "outputs": [],
   "source": [
    "sessions_df = actions_df.groupby(['user', 'session_id']).agg({'timestamp': ['min', 'max'], 'file_activity': ['sum', 'max'], 'device_activity': ['sum', 'max']}).reset_index()"
   ]
  },
  {
   "cell_type": "code",
   "execution_count": null,
   "metadata": {},
   "outputs": [],
   "source": [
    "sessions_df.columns = ['user', 'session_id', 'session_start', 'session_end', 'file_activity', 'file_activity_bool', 'device_activity', 'device_activity_bool']"
   ]
  },
  {
   "cell_type": "code",
   "execution_count": null,
   "metadata": {},
   "outputs": [
    {
     "data": {
      "text/html": [
       "<div>\n",
       "<style scoped>\n",
       "    .dataframe tbody tr th:only-of-type {\n",
       "        vertical-align: middle;\n",
       "    }\n",
       "\n",
       "    .dataframe tbody tr th {\n",
       "        vertical-align: top;\n",
       "    }\n",
       "\n",
       "    .dataframe thead th {\n",
       "        text-align: right;\n",
       "    }\n",
       "</style>\n",
       "<table border=\"1\" class=\"dataframe\">\n",
       "  <thead>\n",
       "    <tr style=\"text-align: right;\">\n",
       "      <th></th>\n",
       "      <th>user</th>\n",
       "      <th>session_id</th>\n",
       "      <th>session_start</th>\n",
       "      <th>session_end</th>\n",
       "      <th>file_activity</th>\n",
       "      <th>file_activity_bool</th>\n",
       "      <th>device_activity</th>\n",
       "      <th>device_activity_bool</th>\n",
       "    </tr>\n",
       "  </thead>\n",
       "  <tbody>\n",
       "    <tr>\n",
       "      <th>0</th>\n",
       "      <td>AAB0754</td>\n",
       "      <td>AAB0754_0</td>\n",
       "      <td>2010-01-04T09:05:00</td>\n",
       "      <td>2010-01-04T13:37:13</td>\n",
       "      <td>0</td>\n",
       "      <td>0</td>\n",
       "      <td>0</td>\n",
       "      <td>0</td>\n",
       "    </tr>\n",
       "    <tr>\n",
       "      <th>1</th>\n",
       "      <td>AAB0754</td>\n",
       "      <td>AAB0754_1</td>\n",
       "      <td>2010-01-04T20:02:00</td>\n",
       "      <td>2010-01-04T20:02:00</td>\n",
       "      <td>0</td>\n",
       "      <td>0</td>\n",
       "      <td>0</td>\n",
       "      <td>0</td>\n",
       "    </tr>\n",
       "    <tr>\n",
       "      <th>2</th>\n",
       "      <td>AAB0754</td>\n",
       "      <td>AAB0754_10</td>\n",
       "      <td>2010-01-12T09:07:00</td>\n",
       "      <td>2010-01-12T14:41:37</td>\n",
       "      <td>0</td>\n",
       "      <td>0</td>\n",
       "      <td>0</td>\n",
       "      <td>0</td>\n",
       "    </tr>\n",
       "    <tr>\n",
       "      <th>3</th>\n",
       "      <td>AAB0754</td>\n",
       "      <td>AAB0754_100</td>\n",
       "      <td>2010-03-17T08:50:00</td>\n",
       "      <td>2010-03-17T13:58:22</td>\n",
       "      <td>0</td>\n",
       "      <td>0</td>\n",
       "      <td>0</td>\n",
       "      <td>0</td>\n",
       "    </tr>\n",
       "    <tr>\n",
       "      <th>4</th>\n",
       "      <td>AAB0754</td>\n",
       "      <td>AAB0754_101</td>\n",
       "      <td>2010-03-17T20:04:00</td>\n",
       "      <td>2010-03-17T20:04:00</td>\n",
       "      <td>0</td>\n",
       "      <td>0</td>\n",
       "      <td>0</td>\n",
       "      <td>0</td>\n",
       "    </tr>\n",
       "  </tbody>\n",
       "</table>\n",
       "</div>"
      ],
      "text/plain": [
       "      user   session_id        session_start          session_end  \\\n",
       "0  AAB0754    AAB0754_0  2010-01-04T09:05:00  2010-01-04T13:37:13   \n",
       "1  AAB0754    AAB0754_1  2010-01-04T20:02:00  2010-01-04T20:02:00   \n",
       "2  AAB0754   AAB0754_10  2010-01-12T09:07:00  2010-01-12T14:41:37   \n",
       "3  AAB0754  AAB0754_100  2010-03-17T08:50:00  2010-03-17T13:58:22   \n",
       "4  AAB0754  AAB0754_101  2010-03-17T20:04:00  2010-03-17T20:04:00   \n",
       "\n",
       "   file_activity  file_activity_bool  device_activity  device_activity_bool  \n",
       "0              0                   0                0                     0  \n",
       "1              0                   0                0                     0  \n",
       "2              0                   0                0                     0  \n",
       "3              0                   0                0                     0  \n",
       "4              0                   0                0                     0  "
      ]
     },
     "execution_count": 23,
     "metadata": {},
     "output_type": "execute_result"
    }
   ],
   "source": [
    "sessions_df.head()"
   ]
  },
  {
   "cell_type": "code",
   "execution_count": null,
   "metadata": {},
   "outputs": [
    {
     "data": {
      "text/html": [
       "<div>\n",
       "<style scoped>\n",
       "    .dataframe tbody tr th:only-of-type {\n",
       "        vertical-align: middle;\n",
       "    }\n",
       "\n",
       "    .dataframe tbody tr th {\n",
       "        vertical-align: top;\n",
       "    }\n",
       "\n",
       "    .dataframe thead th {\n",
       "        text-align: right;\n",
       "    }\n",
       "</style>\n",
       "<table border=\"1\" class=\"dataframe\">\n",
       "  <thead>\n",
       "    <tr style=\"text-align: right;\">\n",
       "      <th></th>\n",
       "      <th>user</th>\n",
       "      <th>session_id</th>\n",
       "      <th>session_start</th>\n",
       "      <th>session_end</th>\n",
       "      <th>file_activity</th>\n",
       "      <th>file_activity_bool</th>\n",
       "      <th>device_activity</th>\n",
       "      <th>device_activity_bool</th>\n",
       "      <th>session_start_rlt</th>\n",
       "      <th>session_end_rlt</th>\n",
       "    </tr>\n",
       "  </thead>\n",
       "  <tbody>\n",
       "    <tr>\n",
       "      <th>0</th>\n",
       "      <td>AAB0754</td>\n",
       "      <td>AAB0754_0</td>\n",
       "      <td>2010-01-04T09:05:00</td>\n",
       "      <td>2010-01-04T13:37:13</td>\n",
       "      <td>0</td>\n",
       "      <td>0</td>\n",
       "      <td>0</td>\n",
       "      <td>0</td>\n",
       "      <td>0.378472</td>\n",
       "      <td>0.567361</td>\n",
       "    </tr>\n",
       "    <tr>\n",
       "      <th>1</th>\n",
       "      <td>AAB0754</td>\n",
       "      <td>AAB0754_1</td>\n",
       "      <td>2010-01-04T20:02:00</td>\n",
       "      <td>2010-01-04T20:02:00</td>\n",
       "      <td>0</td>\n",
       "      <td>0</td>\n",
       "      <td>0</td>\n",
       "      <td>0</td>\n",
       "      <td>0.834722</td>\n",
       "      <td>0.834722</td>\n",
       "    </tr>\n",
       "    <tr>\n",
       "      <th>2</th>\n",
       "      <td>AAB0754</td>\n",
       "      <td>AAB0754_10</td>\n",
       "      <td>2010-01-12T09:07:00</td>\n",
       "      <td>2010-01-12T14:41:37</td>\n",
       "      <td>0</td>\n",
       "      <td>0</td>\n",
       "      <td>0</td>\n",
       "      <td>0</td>\n",
       "      <td>0.379861</td>\n",
       "      <td>0.611806</td>\n",
       "    </tr>\n",
       "    <tr>\n",
       "      <th>3</th>\n",
       "      <td>AAB0754</td>\n",
       "      <td>AAB0754_100</td>\n",
       "      <td>2010-03-17T08:50:00</td>\n",
       "      <td>2010-03-17T13:58:22</td>\n",
       "      <td>0</td>\n",
       "      <td>0</td>\n",
       "      <td>0</td>\n",
       "      <td>0</td>\n",
       "      <td>0.368056</td>\n",
       "      <td>0.581944</td>\n",
       "    </tr>\n",
       "    <tr>\n",
       "      <th>4</th>\n",
       "      <td>AAB0754</td>\n",
       "      <td>AAB0754_101</td>\n",
       "      <td>2010-03-17T20:04:00</td>\n",
       "      <td>2010-03-17T20:04:00</td>\n",
       "      <td>0</td>\n",
       "      <td>0</td>\n",
       "      <td>0</td>\n",
       "      <td>0</td>\n",
       "      <td>0.836111</td>\n",
       "      <td>0.836111</td>\n",
       "    </tr>\n",
       "  </tbody>\n",
       "</table>\n",
       "</div>"
      ],
      "text/plain": [
       "      user   session_id        session_start          session_end  \\\n",
       "0  AAB0754    AAB0754_0  2010-01-04T09:05:00  2010-01-04T13:37:13   \n",
       "1  AAB0754    AAB0754_1  2010-01-04T20:02:00  2010-01-04T20:02:00   \n",
       "2  AAB0754   AAB0754_10  2010-01-12T09:07:00  2010-01-12T14:41:37   \n",
       "3  AAB0754  AAB0754_100  2010-03-17T08:50:00  2010-03-17T13:58:22   \n",
       "4  AAB0754  AAB0754_101  2010-03-17T20:04:00  2010-03-17T20:04:00   \n",
       "\n",
       "   file_activity  file_activity_bool  device_activity  device_activity_bool  \\\n",
       "0              0                   0                0                     0   \n",
       "1              0                   0                0                     0   \n",
       "2              0                   0                0                     0   \n",
       "3              0                   0                0                     0   \n",
       "4              0                   0                0                     0   \n",
       "\n",
       "   session_start_rlt  session_end_rlt  \n",
       "0           0.378472         0.567361  \n",
       "1           0.834722         0.834722  \n",
       "2           0.379861         0.611806  \n",
       "3           0.368056         0.581944  \n",
       "4           0.836111         0.836111  "
      ]
     },
     "execution_count": 24,
     "metadata": {},
     "output_type": "execute_result"
    }
   ],
   "source": [
    "def timestamp_to_minutes(timestamp: datetime) -> int:\n",
    "    return (timestamp.hour * 60 + timestamp.minute) / (60 * 24)\n",
    "\n",
    "sessions_df['session_start_rlt'] = sessions_df.apply(\n",
    "    lambda x: timestamp_to_minutes(datetime.strptime(x['session_start'], DATE_FORMAT)),\n",
    "    axis=1,\n",
    ")\n",
    "sessions_df['session_end_rlt'] = sessions_df.apply(\n",
    "    lambda x: timestamp_to_minutes(datetime.strptime(x['session_end'], DATE_FORMAT)),\n",
    "    axis=1,\n",
    ")\n",
    "\n",
    "sessions_df.head()"
   ]
  },
  {
   "cell_type": "code",
   "execution_count": null,
   "metadata": {},
   "outputs": [],
   "source": [
    "user_to_sessions = {\n",
    "    user: sessions_df[sessions_df['user'] == user]\n",
    "    for user in set(sessions_df['user'])\n",
    "}"
   ]
  },
  {
   "cell_type": "code",
   "execution_count": null,
   "metadata": {},
   "outputs": [],
   "source": [
    "# user_to_sessions['AAC0070']"
   ]
  },
  {
   "cell_type": "code",
   "execution_count": null,
   "metadata": {},
   "outputs": [],
   "source": [
    "def draw_anomalies_session_time(data, anomalies):\n",
    "    plt.figure(figsize=(10, 7))\n",
    "    # Точки, предсказанные как обычные\n",
    "    plt.scatter(data[anomalies == 1]['session_start_rlt'], data[anomalies == 1]['session_end_rlt'], c='blue', alpha=0.2, label='Обычные точки')\n",
    "    # Точки, предсказанные как аномалии\n",
    "    plt.scatter(data[anomalies == -1]['session_start_rlt'], data[anomalies == -1]['session_end_rlt'], c='red', alpha=0.2, label='Аномалии')\n",
    "    plt.legend()\n",
    "    plt.xlabel('Logon')\n",
    "    plt.ylabel('Logoff')\n",
    "    plt.title('Результаты поиска аномалий')\n",
    "    plt.show()"
   ]
  },
  {
   "cell_type": "code",
   "execution_count": null,
   "metadata": {},
   "outputs": [],
   "source": [
    "# user_to_sessions['AAC0070'].columns"
   ]
  },
  {
   "cell_type": "code",
   "execution_count": null,
   "metadata": {},
   "outputs": [
    {
     "data": {
      "image/png": "[encoded data removed]",
      "text/plain": [
       "<Figure size 1000x700 with 1 Axes>"
      ]
     },
     "metadata": {},
     "output_type": "display_data"
    },
    {
     "data": {
      "text/plain": [
       "Counter({1: 428, -1: 1})"
      ]
     },
     "execution_count": 33,
     "metadata": {},
     "output_type": "execute_result"
    }
   ],
   "source": [
    "from sklearn.cluster import DBSCAN\n",
    "\n",
    "def time_metric(X, Y):\n",
    "    a = min(abs(Y[0] - X[0]),abs(X[0] + 1 - Y[0]))\n",
    "    b = min(abs(Y[1] - X[1]),abs(X[1] + 1 - Y[1]))\n",
    "    return (a * a + b * b) ** 0.5\n",
    "\n",
    "sessions3 = user_to_sessions['SSD0484']\n",
    "df = sessions3.drop(\n",
    "    ['user', 'session_id', 'session_start', 'session_end', 'file_activity',\n",
    "       'file_activity_bool', 'device_activity', 'device_activity_bool'],\n",
    "    axis=1,\n",
    ")\n",
    "\n",
    "db = DBSCAN(eps=0.3, min_samples=7, metric=time_metric).fit(df)\n",
    "\n",
    "draw_anomalies_session_time(df, np.array([-1 if i == -1 else 1 for i in db.labels_]))\n",
    "Counter([-1 if i == -1 else 1 for i in db.labels_])"
   ]
  },
  {
   "cell_type": "code",
   "execution_count": null,
   "metadata": {},
   "outputs": [
    {
     "data": {
      "image/png": "[encoded data removed]",
      "text/plain": [
       "<Figure size 1000x700 with 1 Axes>"
      ]
     },
     "metadata": {},
     "output_type": "display_data"
    }
   ],
   "source": [
    "df = user_to_sessions['SSD0484'].drop(\n",
    "    ['user', 'session_id', 'session_start', 'session_end', 'file_activity_bool',\n",
    "        'device_activity_bool',\n",
    "       'session_start_rlt', 'session_end_rlt'],\n",
    "    axis=1,\n",
    ")\n",
    "\n",
    "\n",
    "db = DBSCAN(eps=1, min_samples=30, metric=time_metric).fit(df)\n",
    "\n",
    "anomalies = np.array([-1 if i == -1 else 1 for i in db.labels_])\n",
    "plt.figure(figsize=(10, 7))\n",
    "# Точки, предсказанные как обычные\n",
    "plt.scatter(df[anomalies == 1]['file_activity'], df[anomalies == 1]['device_activity'], c='blue', alpha=0.2, label='Обычные точки')\n",
    "# Точки, предсказанные как аномалии\n",
    "plt.scatter(df[anomalies == -1]['file_activity'], df[anomalies == -1]['device_activity'], c='red', alpha=0.2, label='Аномалии')\n",
    "plt.legend()\n",
    "plt.xlabel('file')\n",
    "plt.ylabel('device')\n",
    "plt.title('Результаты поиска аномалий')\n",
    "plt.show()"
   ]
  },
  {
   "cell_type": "code",
   "execution_count": null,
   "metadata": {},
   "outputs": [],
   "source": [
    "# используем DBSCAN\n",
    "malicios_sessions = set()\n",
    "for user, user_sessions_df in user_to_sessions.items():\n",
    "    df = user_sessions_df.drop(\n",
    "        ['user', 'session_id', 'session_start', 'session_end', 'file_activity',\n",
    "       'file_activity_bool', 'device_activity', 'device_activity_bool'],\n",
    "        axis=1,\n",
    "    )\n",
    "    db = DBSCAN(eps=0.3, min_samples=7, metric=time_metric).fit(df)\n",
    "\n",
    "    for session_id, pred in zip(user_sessions_df['session_id'], db.labels_):\n",
    "        if pred == -1:\n",
    "            malicios_sessions.add(session_id)"
   ]
  },
  {
   "cell_type": "code",
   "execution_count": null,
   "metadata": {},
   "outputs": [],
   "source": [
    "# используем DBSCAN\n",
    "malicios_sessions1 = set()\n",
    "for user, user_sessions_df in user_to_sessions.items():\n",
    "    df = user_sessions_df.drop(\n",
    "        ['user', 'session_id', 'session_start', 'session_end', 'file_activity',\n",
    "        'device_activity',\n",
    "       'session_start_rlt', 'session_end_rlt'],\n",
    "        axis=1,\n",
    "    )\n",
    "    db = DBSCAN(eps=0.5, min_samples=7).fit(df)\n",
    "\n",
    "    for session_id, pred in zip(user_sessions_df['session_id'], db.labels_):\n",
    "        if pred == -1:\n",
    "            malicios_sessions1.add(session_id)"
   ]
  },
  {
   "cell_type": "code",
   "execution_count": null,
   "metadata": {},
   "outputs": [
    {
     "data": {
      "text/plain": [
       "{'RCW0822_189',\n",
       " 'RCW0822_192',\n",
       " 'RCW0822_196',\n",
       " 'RCW0822_198',\n",
       " 'RCW0822_204',\n",
       " 'SSD0484_369'}"
      ]
     },
     "execution_count": 32,
     "metadata": {},
     "output_type": "execute_result"
    }
   ],
   "source": [
    "malicios_sessions1 & malicios_sessions"
   ]
  },
  {
   "cell_type": "code",
   "execution_count": null,
   "metadata": {},
   "outputs": [],
   "source": [
    "train_period_until = ''"
   ]
  },
  {
   "cell_type": "code",
   "execution_count": 55,
   "metadata": {},
   "outputs": [],
   "source": [
    "filtered_sessions_df = sessions_df[sessions_df.apply(lambda x: x['session_id'] in malicios_sessions, axis=1)]"
   ]
  },
  {
   "cell_type": "code",
   "execution_count": 56,
   "metadata": {},
   "outputs": [
    {
     "data": {
      "text/html": [
       "<div>\n",
       "<style scoped>\n",
       "    .dataframe tbody tr th:only-of-type {\n",
       "        vertical-align: middle;\n",
       "    }\n",
       "\n",
       "    .dataframe tbody tr th {\n",
       "        vertical-align: top;\n",
       "    }\n",
       "\n",
       "    .dataframe thead th {\n",
       "        text-align: right;\n",
       "    }\n",
       "</style>\n",
       "<table border=\"1\" class=\"dataframe\">\n",
       "  <thead>\n",
       "    <tr style=\"text-align: right;\">\n",
       "      <th></th>\n",
       "      <th>user</th>\n",
       "      <th>session_id</th>\n",
       "      <th>session_start</th>\n",
       "      <th>session_end</th>\n",
       "      <th>file_activity</th>\n",
       "      <th>device_activity</th>\n",
       "      <th>session_start_rlt</th>\n",
       "      <th>session_end_rlt</th>\n",
       "    </tr>\n",
       "  </thead>\n",
       "  <tbody>\n",
       "    <tr>\n",
       "      <th>1362</th>\n",
       "      <td>AAR0716</td>\n",
       "      <td>AAR0716_292</td>\n",
       "      <td>2010-08-16T18:33:33</td>\n",
       "      <td>2010-08-16T19:07:11</td>\n",
       "      <td>0</td>\n",
       "      <td>0</td>\n",
       "      <td>0.772917</td>\n",
       "      <td>0.796528</td>\n",
       "    </tr>\n",
       "    <tr>\n",
       "      <th>1599</th>\n",
       "      <td>AAR0716</td>\n",
       "      <td>AAR0716_505</td>\n",
       "      <td>2011-02-03T17:31:29</td>\n",
       "      <td>2011-02-03T17:41:06</td>\n",
       "      <td>0</td>\n",
       "      <td>0</td>\n",
       "      <td>0.729861</td>\n",
       "      <td>0.736806</td>\n",
       "    </tr>\n",
       "    <tr>\n",
       "      <th>3514</th>\n",
       "      <td>ABH0821</td>\n",
       "      <td>ABH0821_125</td>\n",
       "      <td>2010-03-22T16:29:00</td>\n",
       "      <td>2010-03-29T15:24:17</td>\n",
       "      <td>1</td>\n",
       "      <td>0</td>\n",
       "      <td>0.686806</td>\n",
       "      <td>0.641667</td>\n",
       "    </tr>\n",
       "    <tr>\n",
       "      <th>3639</th>\n",
       "      <td>ABH0821</td>\n",
       "      <td>ABH0821_238</td>\n",
       "      <td>2010-06-24T18:17:57</td>\n",
       "      <td>2010-06-25T03:11:26</td>\n",
       "      <td>1</td>\n",
       "      <td>1</td>\n",
       "      <td>0.761806</td>\n",
       "      <td>0.132639</td>\n",
       "    </tr>\n",
       "    <tr>\n",
       "      <th>3708</th>\n",
       "      <td>ABH0821</td>\n",
       "      <td>ABH0821_30</td>\n",
       "      <td>2010-01-22T10:49:05</td>\n",
       "      <td>2010-01-22T11:40:57</td>\n",
       "      <td>1</td>\n",
       "      <td>1</td>\n",
       "      <td>0.450694</td>\n",
       "      <td>0.486111</td>\n",
       "    </tr>\n",
       "  </tbody>\n",
       "</table>\n",
       "</div>"
      ],
      "text/plain": [
       "         user   session_id        session_start          session_end  \\\n",
       "1362  AAR0716  AAR0716_292  2010-08-16T18:33:33  2010-08-16T19:07:11   \n",
       "1599  AAR0716  AAR0716_505  2011-02-03T17:31:29  2011-02-03T17:41:06   \n",
       "3514  ABH0821  ABH0821_125  2010-03-22T16:29:00  2010-03-29T15:24:17   \n",
       "3639  ABH0821  ABH0821_238  2010-06-24T18:17:57  2010-06-25T03:11:26   \n",
       "3708  ABH0821   ABH0821_30  2010-01-22T10:49:05  2010-01-22T11:40:57   \n",
       "\n",
       "      file_activity  device_activity  session_start_rlt  session_end_rlt  \n",
       "1362              0                0           0.772917         0.796528  \n",
       "1599              0                0           0.729861         0.736806  \n",
       "3514              1                0           0.686806         0.641667  \n",
       "3639              1                1           0.761806         0.132639  \n",
       "3708              1                1           0.450694         0.486111  "
      ]
     },
     "execution_count": 56,
     "metadata": {},
     "output_type": "execute_result"
    }
   ],
   "source": [
    "filtered_sessions_df.head()"
   ]
  },
  {
   "cell_type": "code",
   "execution_count": 30,
   "metadata": {},
   "outputs": [
    {
     "ename": "NameError",
     "evalue": "name 'filtered_sessions_df' is not defined",
     "output_type": "error",
     "traceback": [
      "\u001b[0;31m---------------------------------------------------------------------------\u001b[0m",
      "\u001b[0;31mNameError\u001b[0m                                 Traceback (most recent call last)",
      "Cell \u001b[0;32mIn[30], line 1\u001b[0m\n\u001b[0;32m----> 1\u001b[0m \u001b[38;5;28mset\u001b[39m(\u001b[43mfiltered_sessions_df\u001b[49m[\u001b[38;5;124m'\u001b[39m\u001b[38;5;124muser\u001b[39m\u001b[38;5;124m'\u001b[39m])\n",
      "\u001b[0;31mNameError\u001b[0m: name 'filtered_sessions_df' is not defined"
     ]
    }
   ],
   "source": [
    "set(filtered_sessions_df['user'])"
   ]
  },
  {
   "cell_type": "code",
   "execution_count": 60,
   "metadata": {},
   "outputs": [],
   "source": [
    "target_ids = set()\n",
    "\n",
    "with open(ANSWERS_PATH.format(attacker=1)) as f1:\n",
    "    for row in f1.readlines():\n",
    "        if row.strip():\n",
    "            target_ids.add(row.split(',')[1])"
   ]
  },
  {
   "cell_type": "code",
   "execution_count": 61,
   "metadata": {},
   "outputs": [],
   "source": [
    "insider_session_ids = set()\n",
    "\n",
    "for _, row in actions_df.iterrows():\n",
    "    if str(row['id']) in target_ids:\n",
    "        insider_session_ids.add(row['session_id'])"
   ]
  },
  {
   "cell_type": "code",
   "execution_count": 62,
   "metadata": {},
   "outputs": [
    {
     "data": {
      "text/plain": [
       "True"
      ]
     },
     "execution_count": 62,
     "metadata": {},
     "output_type": "execute_result"
    }
   ],
   "source": [
    "insider_session_ids <= malicios_sessions  # инсайдерские сессии есть в выбранных нами?"
   ]
  },
  {
   "cell_type": "code",
   "execution_count": 63,
   "metadata": {},
   "outputs": [
    {
     "name": "stdout",
     "output_type": "stream",
     "text": [
      "CSF0929_141 True\n",
      "CSF0929_138 True\n",
      "CSF0929_126 True\n",
      "CSF0929_129 True\n",
      "CSF0929_134 True\n",
      "CSF0929_132 True\n"
     ]
    }
   ],
   "source": [
    "# для инсайдера CSF0929 все сессии еть\n",
    "# для инсайдера CCH0959 нет, потому что многие из них состоят исключительно из http запросов,\n",
    "# которые на данный момент мы не обрабатывали – сейчас мы его игнорируем\n",
    "\n",
    "for sid in insider_session_ids:\n",
    "    print(sid, sid in malicios_sessions)"
   ]
  },
  {
   "cell_type": "code",
   "execution_count": 64,
   "metadata": {},
   "outputs": [],
   "source": [
    "filtered_actions_df = actions_df[actions_df.apply(lambda x: x['session_id'] in malicios_sessions, axis=1)]"
   ]
  },
  {
   "cell_type": "code",
   "execution_count": 65,
   "metadata": {},
   "outputs": [
    {
     "name": "stderr",
     "output_type": "stream",
     "text": [
      "/tmp/ipykernel_7371/1027974661.py:1: SettingWithCopyWarning: \n",
      "A value is trying to be set on a copy of a slice from a DataFrame.\n",
      "Try using .loc[row_indexer,col_indexer] = value instead\n",
      "\n",
      "See the caveats in the documentation: https://pandas.pydata.org/pandas-docs/stable/user_guide/indexing.html#returning-a-view-versus-a-copy\n",
      "  filtered_actions_df['target'] = filtered_actions_df.apply(lambda x: x['id'] in target_ids, axis=1)\n"
     ]
    }
   ],
   "source": [
    "filtered_actions_df['target'] = filtered_actions_df.apply(lambda x: x['id'] in target_ids, axis=1)"
   ]
  },
  {
   "cell_type": "code",
   "execution_count": 89,
   "metadata": {},
   "outputs": [
    {
     "data": {
      "text/plain": [
       "0.0038475411807142"
      ]
     },
     "execution_count": 89,
     "metadata": {},
     "output_type": "execute_result"
    }
   ],
   "source": [
    "# баланс?\n",
    "filtered_actions_df[filtered_actions_df['target'] == 1].shape[0] / filtered_actions_df.shape[0]"
   ]
  },
  {
   "cell_type": "code",
   "execution_count": 42,
   "metadata": {},
   "outputs": [
    {
     "data": {
      "text/plain": [
       "Index(['id', 'date', 'user', 'pc', 'activity', 'filename', 'content',\n",
       "       'timestamp', 'session_id', 'file_activity', 'device_activity',\n",
       "       'target'],\n",
       "      dtype='object')"
      ]
     },
     "execution_count": 42,
     "metadata": {},
     "output_type": "execute_result"
    }
   ],
   "source": [
    "filtered_actions_df.columns"
   ]
  },
  {
   "cell_type": "code",
   "execution_count": 43,
   "metadata": {},
   "outputs": [],
   "source": [
    "sessions_df.to_csv('../datasets/r3.1-session_df.csv')"
   ]
  },
  {
   "cell_type": "code",
   "execution_count": 88,
   "metadata": {},
   "outputs": [],
   "source": [
    "filtered_actions_df.to_csv('../datasets/r3.1-actions_df_1.csv')"
   ]
  },
  {
   "cell_type": "code",
   "execution_count": 90,
   "metadata": {},
   "outputs": [
    {
     "data": {
      "text/plain": [
       "35"
      ]
     },
     "execution_count": 90,
     "metadata": {},
     "output_type": "execute_result"
    }
   ],
   "source": [
    "len(target_ids)"
   ]
  },
  {
   "cell_type": "code",
   "execution_count": null,
   "metadata": {},
   "outputs": [],
   "source": []
  }
 ],
 "metadata": {
  "kernelspec": {
   "display_name": ".venv",
   "language": "python",
   "name": "python3"
  },
  "language_info": {
   "codemirror_mode": {
    "name": "ipython",
    "version": 3
   },
   "file_extension": ".py",
   "mimetype": "text/x-python",
   "name": "python",
   "nbconvert_exporter": "python",
   "pygments_lexer": "ipython3",
   "version": "3.12.2"
  }
 },
 "nbformat": 4,
 "nbformat_minor": 2
}
